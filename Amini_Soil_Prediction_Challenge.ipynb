{
  "nbformat": 4,
  "nbformat_minor": 0,
  "metadata": {
    "colab": {
      "provenance": [],
      "authorship_tag": "ABX9TyPT2D/w5CE4WFQFqTveid8u"
    },
    "kernelspec": {
      "name": "python3",
      "display_name": "Python 3"
    },
    "language_info": {
      "name": "python"
    }
  },
  "cells": [
    {
      "cell_type": "markdown",
      "source": [
        "# Amini Soil Prediction Challenge"
      ],
      "metadata": {
        "id": "PdxZXVd9jCHD"
      }
    },
    {
      "cell_type": "markdown",
      "source": [
        "#### Load required packages"
      ],
      "metadata": {
        "id": "3lV8MI4Njl2y"
      }
    },
    {
      "cell_type": "code",
      "source": [
        "import pandas as pd\n",
        "import numpy as np\n",
        "import matplotlib.pyplot as plt\n",
        "import seaborn as sns\n",
        "from sklearn.model_selection import train_test_split\n",
        "from sklearn.preprocessing import StandardScaler\n",
        "from sklearn.multioutput import MultiOutputRegressor\n",
        "from sklearn.ensemble import RandomForestRegressor\n",
        "from sklearn.metrics import mean_absolute_error, mean_squared_error\n",
        "\n",
        "import warnings\n",
        "warnings.filterwarnings('ignore')"
      ],
      "metadata": {
        "id": "hnBKFvvBjFpI"
      },
      "execution_count": null,
      "outputs": []
    },
    {
      "cell_type": "code",
      "source": [
        "# Load datasets\n",
        "train_df = pd.read_csv('Train.csv')\n",
        "train_gap_df = pd.read_csv('Gap_Train.csv')\n",
        "test_df = pd.read_csv('Test.csv')\n",
        "test_gap_df = pd.read_csv('Gap_Test.csv')"
      ],
      "metadata": {
        "id": "i9DRphemj7U7"
      },
      "execution_count": null,
      "outputs": []
    },
    {
      "cell_type": "markdown",
      "source": [
        "### Check the shpe of test and train data"
      ],
      "metadata": {
        "id": "cxYfwWKH30VH"
      }
    },
    {
      "cell_type": "code",
      "source": [
        "train_df.shape, train_gap_df.shape"
      ],
      "metadata": {
        "colab": {
          "base_uri": "https://localhost:8080/"
        },
        "id": "bpiw_fxadzdd",
        "outputId": "6df2898a-b2e6-468e-8255-311deee017d3"
      },
      "execution_count": null,
      "outputs": [
        {
          "output_type": "execute_result",
          "data": {
            "text/plain": [
              "((7744, 44), (85184, 5))"
            ]
          },
          "metadata": {},
          "execution_count": 527
        }
      ]
    },
    {
      "cell_type": "code",
      "source": [
        "# Pivot train_gap_df so each PID has one row and each nutrient has its own column\n",
        "gap_wide = train_gap_df.pivot(index=\"PID\", columns=\"Nutrient\", values=\"Gap\")\n",
        "\n",
        "# Rename columns to make them clear as gap targets\n",
        "gap_wide.columns = [f\"Gap_{col}\" for col in gap_wide.columns]\n",
        "\n",
        "# Reset index so PID is a column again (not the index)\n",
        "gap_wide = gap_wide.reset_index()\n",
        "\n",
        "# Merge gap values into train_df using PID\n",
        "merged_train_df = train_df.merge(gap_wide, on=\"PID\", how=\"left\")\n",
        "\n",
        "# Preview the result\n",
        "merged_train_df.head()\n"
      ],
      "metadata": {
        "colab": {
          "base_uri": "https://localhost:8080/",
          "height": 255
        },
        "id": "8AFZwuQdbWWU",
        "outputId": "439bfa43-0c0b-4238-94a4-44e20b0896d4"
      },
      "execution_count": null,
      "outputs": [
        {
          "output_type": "execute_result",
          "data": {
            "text/plain": [
              "             site        PID        lon        lat    pH  alb  bio1  bio12  \\\n",
              "0  site_id_bIEHwl  ID_I5RGjv  70.603761  46.173798  7.75  176   248    920   \n",
              "1  site_id_nGvnKc  ID_8jWzJ5  70.590479  46.078924  7.10  181   250   1080   \n",
              "2  site_id_nGvnKc  ID_UgzkN8  70.582553  46.048820  6.95  188   250   1109   \n",
              "3  site_id_nGvnKc  ID_DLLHM9  70.573267  46.021910  7.83  174   250   1149   \n",
              "4  site_id_7SA9rO  ID_d009mj  70.585330  46.204336  8.07  188   250    869   \n",
              "\n",
              "   bio15  bio7  ...   Gap_Ca   Gap_Cu   Gap_Fe   Gap_K   Gap_Mg   Gap_Mn  \\\n",
              "0    108   190  ... -19931.6  -8.5016 -218.784 -377.24 -6737.20  -247.80   \n",
              "1    113   191  ...  -3575.2 -12.9328 -291.648 -407.04  -706.40 -1242.96   \n",
              "2    111   191  ...  -5506.8  -3.4208 -223.164 -388.92  -996.48  -189.40   \n",
              "3    112   191  ... -19701.6  -8.9168 -241.624 -542.96 -2120.24  -215.68   \n",
              "4    114   191  ... -20980.4  -8.4658 -197.684 -205.40 -3309.60  -425.74   \n",
              "\n",
              "     Gap_N    Gap_P    Gap_S   Gap_Zn  \n",
              "0  -3696.0  39.0072  -4.5272  -1.9944  \n",
              "1  -4156.0   4.4320 -46.9760  -7.4128  \n",
              "2 -10120.0 -23.6560 -20.1200  -5.2940  \n",
              "3  -6708.0 -78.1040 -32.1040 -14.1040  \n",
              "4  -2588.4  37.1400 -12.7676  -1.1730  \n",
              "\n",
              "[5 rows x 55 columns]"
            ],
            "text/html": [
              "\n",
              "  <div id=\"df-95e8d4f6-5120-474c-a75d-9eaf88f7dc84\" class=\"colab-df-container\">\n",
              "    <div>\n",
              "<style scoped>\n",
              "    .dataframe tbody tr th:only-of-type {\n",
              "        vertical-align: middle;\n",
              "    }\n",
              "\n",
              "    .dataframe tbody tr th {\n",
              "        vertical-align: top;\n",
              "    }\n",
              "\n",
              "    .dataframe thead th {\n",
              "        text-align: right;\n",
              "    }\n",
              "</style>\n",
              "<table border=\"1\" class=\"dataframe\">\n",
              "  <thead>\n",
              "    <tr style=\"text-align: right;\">\n",
              "      <th></th>\n",
              "      <th>site</th>\n",
              "      <th>PID</th>\n",
              "      <th>lon</th>\n",
              "      <th>lat</th>\n",
              "      <th>pH</th>\n",
              "      <th>alb</th>\n",
              "      <th>bio1</th>\n",
              "      <th>bio12</th>\n",
              "      <th>bio15</th>\n",
              "      <th>bio7</th>\n",
              "      <th>...</th>\n",
              "      <th>Gap_Ca</th>\n",
              "      <th>Gap_Cu</th>\n",
              "      <th>Gap_Fe</th>\n",
              "      <th>Gap_K</th>\n",
              "      <th>Gap_Mg</th>\n",
              "      <th>Gap_Mn</th>\n",
              "      <th>Gap_N</th>\n",
              "      <th>Gap_P</th>\n",
              "      <th>Gap_S</th>\n",
              "      <th>Gap_Zn</th>\n",
              "    </tr>\n",
              "  </thead>\n",
              "  <tbody>\n",
              "    <tr>\n",
              "      <th>0</th>\n",
              "      <td>site_id_bIEHwl</td>\n",
              "      <td>ID_I5RGjv</td>\n",
              "      <td>70.603761</td>\n",
              "      <td>46.173798</td>\n",
              "      <td>7.75</td>\n",
              "      <td>176</td>\n",
              "      <td>248</td>\n",
              "      <td>920</td>\n",
              "      <td>108</td>\n",
              "      <td>190</td>\n",
              "      <td>...</td>\n",
              "      <td>-19931.6</td>\n",
              "      <td>-8.5016</td>\n",
              "      <td>-218.784</td>\n",
              "      <td>-377.24</td>\n",
              "      <td>-6737.20</td>\n",
              "      <td>-247.80</td>\n",
              "      <td>-3696.0</td>\n",
              "      <td>39.0072</td>\n",
              "      <td>-4.5272</td>\n",
              "      <td>-1.9944</td>\n",
              "    </tr>\n",
              "    <tr>\n",
              "      <th>1</th>\n",
              "      <td>site_id_nGvnKc</td>\n",
              "      <td>ID_8jWzJ5</td>\n",
              "      <td>70.590479</td>\n",
              "      <td>46.078924</td>\n",
              "      <td>7.10</td>\n",
              "      <td>181</td>\n",
              "      <td>250</td>\n",
              "      <td>1080</td>\n",
              "      <td>113</td>\n",
              "      <td>191</td>\n",
              "      <td>...</td>\n",
              "      <td>-3575.2</td>\n",
              "      <td>-12.9328</td>\n",
              "      <td>-291.648</td>\n",
              "      <td>-407.04</td>\n",
              "      <td>-706.40</td>\n",
              "      <td>-1242.96</td>\n",
              "      <td>-4156.0</td>\n",
              "      <td>4.4320</td>\n",
              "      <td>-46.9760</td>\n",
              "      <td>-7.4128</td>\n",
              "    </tr>\n",
              "    <tr>\n",
              "      <th>2</th>\n",
              "      <td>site_id_nGvnKc</td>\n",
              "      <td>ID_UgzkN8</td>\n",
              "      <td>70.582553</td>\n",
              "      <td>46.048820</td>\n",
              "      <td>6.95</td>\n",
              "      <td>188</td>\n",
              "      <td>250</td>\n",
              "      <td>1109</td>\n",
              "      <td>111</td>\n",
              "      <td>191</td>\n",
              "      <td>...</td>\n",
              "      <td>-5506.8</td>\n",
              "      <td>-3.4208</td>\n",
              "      <td>-223.164</td>\n",
              "      <td>-388.92</td>\n",
              "      <td>-996.48</td>\n",
              "      <td>-189.40</td>\n",
              "      <td>-10120.0</td>\n",
              "      <td>-23.6560</td>\n",
              "      <td>-20.1200</td>\n",
              "      <td>-5.2940</td>\n",
              "    </tr>\n",
              "    <tr>\n",
              "      <th>3</th>\n",
              "      <td>site_id_nGvnKc</td>\n",
              "      <td>ID_DLLHM9</td>\n",
              "      <td>70.573267</td>\n",
              "      <td>46.021910</td>\n",
              "      <td>7.83</td>\n",
              "      <td>174</td>\n",
              "      <td>250</td>\n",
              "      <td>1149</td>\n",
              "      <td>112</td>\n",
              "      <td>191</td>\n",
              "      <td>...</td>\n",
              "      <td>-19701.6</td>\n",
              "      <td>-8.9168</td>\n",
              "      <td>-241.624</td>\n",
              "      <td>-542.96</td>\n",
              "      <td>-2120.24</td>\n",
              "      <td>-215.68</td>\n",
              "      <td>-6708.0</td>\n",
              "      <td>-78.1040</td>\n",
              "      <td>-32.1040</td>\n",
              "      <td>-14.1040</td>\n",
              "    </tr>\n",
              "    <tr>\n",
              "      <th>4</th>\n",
              "      <td>site_id_7SA9rO</td>\n",
              "      <td>ID_d009mj</td>\n",
              "      <td>70.585330</td>\n",
              "      <td>46.204336</td>\n",
              "      <td>8.07</td>\n",
              "      <td>188</td>\n",
              "      <td>250</td>\n",
              "      <td>869</td>\n",
              "      <td>114</td>\n",
              "      <td>191</td>\n",
              "      <td>...</td>\n",
              "      <td>-20980.4</td>\n",
              "      <td>-8.4658</td>\n",
              "      <td>-197.684</td>\n",
              "      <td>-205.40</td>\n",
              "      <td>-3309.60</td>\n",
              "      <td>-425.74</td>\n",
              "      <td>-2588.4</td>\n",
              "      <td>37.1400</td>\n",
              "      <td>-12.7676</td>\n",
              "      <td>-1.1730</td>\n",
              "    </tr>\n",
              "  </tbody>\n",
              "</table>\n",
              "<p>5 rows × 55 columns</p>\n",
              "</div>\n",
              "    <div class=\"colab-df-buttons\">\n",
              "\n",
              "  <div class=\"colab-df-container\">\n",
              "    <button class=\"colab-df-convert\" onclick=\"convertToInteractive('df-95e8d4f6-5120-474c-a75d-9eaf88f7dc84')\"\n",
              "            title=\"Convert this dataframe to an interactive table.\"\n",
              "            style=\"display:none;\">\n",
              "\n",
              "  <svg xmlns=\"http://www.w3.org/2000/svg\" height=\"24px\" viewBox=\"0 -960 960 960\">\n",
              "    <path d=\"M120-120v-720h720v720H120Zm60-500h600v-160H180v160Zm220 220h160v-160H400v160Zm0 220h160v-160H400v160ZM180-400h160v-160H180v160Zm440 0h160v-160H620v160ZM180-180h160v-160H180v160Zm440 0h160v-160H620v160Z\"/>\n",
              "  </svg>\n",
              "    </button>\n",
              "\n",
              "  <style>\n",
              "    .colab-df-container {\n",
              "      display:flex;\n",
              "      gap: 12px;\n",
              "    }\n",
              "\n",
              "    .colab-df-convert {\n",
              "      background-color: #E8F0FE;\n",
              "      border: none;\n",
              "      border-radius: 50%;\n",
              "      cursor: pointer;\n",
              "      display: none;\n",
              "      fill: #1967D2;\n",
              "      height: 32px;\n",
              "      padding: 0 0 0 0;\n",
              "      width: 32px;\n",
              "    }\n",
              "\n",
              "    .colab-df-convert:hover {\n",
              "      background-color: #E2EBFA;\n",
              "      box-shadow: 0px 1px 2px rgba(60, 64, 67, 0.3), 0px 1px 3px 1px rgba(60, 64, 67, 0.15);\n",
              "      fill: #174EA6;\n",
              "    }\n",
              "\n",
              "    .colab-df-buttons div {\n",
              "      margin-bottom: 4px;\n",
              "    }\n",
              "\n",
              "    [theme=dark] .colab-df-convert {\n",
              "      background-color: #3B4455;\n",
              "      fill: #D2E3FC;\n",
              "    }\n",
              "\n",
              "    [theme=dark] .colab-df-convert:hover {\n",
              "      background-color: #434B5C;\n",
              "      box-shadow: 0px 1px 3px 1px rgba(0, 0, 0, 0.15);\n",
              "      filter: drop-shadow(0px 1px 2px rgba(0, 0, 0, 0.3));\n",
              "      fill: #FFFFFF;\n",
              "    }\n",
              "  </style>\n",
              "\n",
              "    <script>\n",
              "      const buttonEl =\n",
              "        document.querySelector('#df-95e8d4f6-5120-474c-a75d-9eaf88f7dc84 button.colab-df-convert');\n",
              "      buttonEl.style.display =\n",
              "        google.colab.kernel.accessAllowed ? 'block' : 'none';\n",
              "\n",
              "      async function convertToInteractive(key) {\n",
              "        const element = document.querySelector('#df-95e8d4f6-5120-474c-a75d-9eaf88f7dc84');\n",
              "        const dataTable =\n",
              "          await google.colab.kernel.invokeFunction('convertToInteractive',\n",
              "                                                    [key], {});\n",
              "        if (!dataTable) return;\n",
              "\n",
              "        const docLinkHtml = 'Like what you see? Visit the ' +\n",
              "          '<a target=\"_blank\" href=https://colab.research.google.com/notebooks/data_table.ipynb>data table notebook</a>'\n",
              "          + ' to learn more about interactive tables.';\n",
              "        element.innerHTML = '';\n",
              "        dataTable['output_type'] = 'display_data';\n",
              "        await google.colab.output.renderOutput(dataTable, element);\n",
              "        const docLink = document.createElement('div');\n",
              "        docLink.innerHTML = docLinkHtml;\n",
              "        element.appendChild(docLink);\n",
              "      }\n",
              "    </script>\n",
              "  </div>\n",
              "\n",
              "\n",
              "    <div id=\"df-17ad3d2b-a3c1-426f-a29d-9b9f9de64974\">\n",
              "      <button class=\"colab-df-quickchart\" onclick=\"quickchart('df-17ad3d2b-a3c1-426f-a29d-9b9f9de64974')\"\n",
              "                title=\"Suggest charts\"\n",
              "                style=\"display:none;\">\n",
              "\n",
              "<svg xmlns=\"http://www.w3.org/2000/svg\" height=\"24px\"viewBox=\"0 0 24 24\"\n",
              "     width=\"24px\">\n",
              "    <g>\n",
              "        <path d=\"M19 3H5c-1.1 0-2 .9-2 2v14c0 1.1.9 2 2 2h14c1.1 0 2-.9 2-2V5c0-1.1-.9-2-2-2zM9 17H7v-7h2v7zm4 0h-2V7h2v10zm4 0h-2v-4h2v4z\"/>\n",
              "    </g>\n",
              "</svg>\n",
              "      </button>\n",
              "\n",
              "<style>\n",
              "  .colab-df-quickchart {\n",
              "      --bg-color: #E8F0FE;\n",
              "      --fill-color: #1967D2;\n",
              "      --hover-bg-color: #E2EBFA;\n",
              "      --hover-fill-color: #174EA6;\n",
              "      --disabled-fill-color: #AAA;\n",
              "      --disabled-bg-color: #DDD;\n",
              "  }\n",
              "\n",
              "  [theme=dark] .colab-df-quickchart {\n",
              "      --bg-color: #3B4455;\n",
              "      --fill-color: #D2E3FC;\n",
              "      --hover-bg-color: #434B5C;\n",
              "      --hover-fill-color: #FFFFFF;\n",
              "      --disabled-bg-color: #3B4455;\n",
              "      --disabled-fill-color: #666;\n",
              "  }\n",
              "\n",
              "  .colab-df-quickchart {\n",
              "    background-color: var(--bg-color);\n",
              "    border: none;\n",
              "    border-radius: 50%;\n",
              "    cursor: pointer;\n",
              "    display: none;\n",
              "    fill: var(--fill-color);\n",
              "    height: 32px;\n",
              "    padding: 0;\n",
              "    width: 32px;\n",
              "  }\n",
              "\n",
              "  .colab-df-quickchart:hover {\n",
              "    background-color: var(--hover-bg-color);\n",
              "    box-shadow: 0 1px 2px rgba(60, 64, 67, 0.3), 0 1px 3px 1px rgba(60, 64, 67, 0.15);\n",
              "    fill: var(--button-hover-fill-color);\n",
              "  }\n",
              "\n",
              "  .colab-df-quickchart-complete:disabled,\n",
              "  .colab-df-quickchart-complete:disabled:hover {\n",
              "    background-color: var(--disabled-bg-color);\n",
              "    fill: var(--disabled-fill-color);\n",
              "    box-shadow: none;\n",
              "  }\n",
              "\n",
              "  .colab-df-spinner {\n",
              "    border: 2px solid var(--fill-color);\n",
              "    border-color: transparent;\n",
              "    border-bottom-color: var(--fill-color);\n",
              "    animation:\n",
              "      spin 1s steps(1) infinite;\n",
              "  }\n",
              "\n",
              "  @keyframes spin {\n",
              "    0% {\n",
              "      border-color: transparent;\n",
              "      border-bottom-color: var(--fill-color);\n",
              "      border-left-color: var(--fill-color);\n",
              "    }\n",
              "    20% {\n",
              "      border-color: transparent;\n",
              "      border-left-color: var(--fill-color);\n",
              "      border-top-color: var(--fill-color);\n",
              "    }\n",
              "    30% {\n",
              "      border-color: transparent;\n",
              "      border-left-color: var(--fill-color);\n",
              "      border-top-color: var(--fill-color);\n",
              "      border-right-color: var(--fill-color);\n",
              "    }\n",
              "    40% {\n",
              "      border-color: transparent;\n",
              "      border-right-color: var(--fill-color);\n",
              "      border-top-color: var(--fill-color);\n",
              "    }\n",
              "    60% {\n",
              "      border-color: transparent;\n",
              "      border-right-color: var(--fill-color);\n",
              "    }\n",
              "    80% {\n",
              "      border-color: transparent;\n",
              "      border-right-color: var(--fill-color);\n",
              "      border-bottom-color: var(--fill-color);\n",
              "    }\n",
              "    90% {\n",
              "      border-color: transparent;\n",
              "      border-bottom-color: var(--fill-color);\n",
              "    }\n",
              "  }\n",
              "</style>\n",
              "\n",
              "      <script>\n",
              "        async function quickchart(key) {\n",
              "          const quickchartButtonEl =\n",
              "            document.querySelector('#' + key + ' button');\n",
              "          quickchartButtonEl.disabled = true;  // To prevent multiple clicks.\n",
              "          quickchartButtonEl.classList.add('colab-df-spinner');\n",
              "          try {\n",
              "            const charts = await google.colab.kernel.invokeFunction(\n",
              "                'suggestCharts', [key], {});\n",
              "          } catch (error) {\n",
              "            console.error('Error during call to suggestCharts:', error);\n",
              "          }\n",
              "          quickchartButtonEl.classList.remove('colab-df-spinner');\n",
              "          quickchartButtonEl.classList.add('colab-df-quickchart-complete');\n",
              "        }\n",
              "        (() => {\n",
              "          let quickchartButtonEl =\n",
              "            document.querySelector('#df-17ad3d2b-a3c1-426f-a29d-9b9f9de64974 button');\n",
              "          quickchartButtonEl.style.display =\n",
              "            google.colab.kernel.accessAllowed ? 'block' : 'none';\n",
              "        })();\n",
              "      </script>\n",
              "    </div>\n",
              "\n",
              "    </div>\n",
              "  </div>\n"
            ],
            "application/vnd.google.colaboratory.intrinsic+json": {
              "type": "dataframe",
              "variable_name": "merged_train_df"
            }
          },
          "metadata": {},
          "execution_count": 528
        }
      ]
    },
    {
      "cell_type": "code",
      "source": [
        "for col in gap_wide.columns:\n",
        "  print(col)"
      ],
      "metadata": {
        "colab": {
          "base_uri": "https://localhost:8080/"
        },
        "id": "HSjX4ar1bkVH",
        "outputId": "fab21129-04c5-4953-c70a-81bd13d316f8"
      },
      "execution_count": null,
      "outputs": [
        {
          "output_type": "stream",
          "name": "stdout",
          "text": [
            "PID\n",
            "Gap_B\n",
            "Gap_Ca\n",
            "Gap_Cu\n",
            "Gap_Fe\n",
            "Gap_K\n",
            "Gap_Mg\n",
            "Gap_Mn\n",
            "Gap_N\n",
            "Gap_P\n",
            "Gap_S\n",
            "Gap_Zn\n"
          ]
        }
      ]
    },
    {
      "cell_type": "code",
      "source": [
        "list(gap_wide.columns)"
      ],
      "metadata": {
        "colab": {
          "base_uri": "https://localhost:8080/"
        },
        "id": "hw6h2kbRwPPp",
        "outputId": "9224f2d7-9a5b-405d-9422-4f8d81fedbfc"
      },
      "execution_count": null,
      "outputs": [
        {
          "output_type": "execute_result",
          "data": {
            "text/plain": [
              "['PID',\n",
              " 'Gap_B',\n",
              " 'Gap_Ca',\n",
              " 'Gap_Cu',\n",
              " 'Gap_Fe',\n",
              " 'Gap_K',\n",
              " 'Gap_Mg',\n",
              " 'Gap_Mn',\n",
              " 'Gap_N',\n",
              " 'Gap_P',\n",
              " 'Gap_S',\n",
              " 'Gap_Zn']"
            ]
          },
          "metadata": {},
          "execution_count": 530
        }
      ]
    },
    {
      "cell_type": "code",
      "source": [
        "merged_train_df.shape"
      ],
      "metadata": {
        "colab": {
          "base_uri": "https://localhost:8080/"
        },
        "id": "cZrTjFTP6hnc",
        "outputId": "c6a0618e-9d35-4d0f-9400-7f7592ed8505"
      },
      "execution_count": null,
      "outputs": [
        {
          "output_type": "execute_result",
          "data": {
            "text/plain": [
              "(7744, 55)"
            ]
          },
          "metadata": {},
          "execution_count": 531
        }
      ]
    },
    {
      "cell_type": "code",
      "source": [
        "# Merge the gap data into the train dataset on PID\n",
        "merged_train_df = train_df.merge(gap_wide, on='PID', how='left')"
      ],
      "metadata": {
        "id": "aUSSyWTfj7Qb"
      },
      "execution_count": null,
      "outputs": []
    },
    {
      "cell_type": "code",
      "source": [
        "merged_train_df.head()"
      ],
      "metadata": {
        "colab": {
          "base_uri": "https://localhost:8080/",
          "height": 255
        },
        "id": "eVIbQ1Oij7Oa",
        "outputId": "965d83b3-9dfa-4e05-8ca7-a759521aa555"
      },
      "execution_count": null,
      "outputs": [
        {
          "output_type": "execute_result",
          "data": {
            "text/plain": [
              "             site        PID        lon        lat    pH  alb  bio1  bio12  \\\n",
              "0  site_id_bIEHwl  ID_I5RGjv  70.603761  46.173798  7.75  176   248    920   \n",
              "1  site_id_nGvnKc  ID_8jWzJ5  70.590479  46.078924  7.10  181   250   1080   \n",
              "2  site_id_nGvnKc  ID_UgzkN8  70.582553  46.048820  6.95  188   250   1109   \n",
              "3  site_id_nGvnKc  ID_DLLHM9  70.573267  46.021910  7.83  174   250   1149   \n",
              "4  site_id_7SA9rO  ID_d009mj  70.585330  46.204336  8.07  188   250    869   \n",
              "\n",
              "   bio15  bio7  ...   Gap_Ca   Gap_Cu   Gap_Fe   Gap_K   Gap_Mg   Gap_Mn  \\\n",
              "0    108   190  ... -19931.6  -8.5016 -218.784 -377.24 -6737.20  -247.80   \n",
              "1    113   191  ...  -3575.2 -12.9328 -291.648 -407.04  -706.40 -1242.96   \n",
              "2    111   191  ...  -5506.8  -3.4208 -223.164 -388.92  -996.48  -189.40   \n",
              "3    112   191  ... -19701.6  -8.9168 -241.624 -542.96 -2120.24  -215.68   \n",
              "4    114   191  ... -20980.4  -8.4658 -197.684 -205.40 -3309.60  -425.74   \n",
              "\n",
              "     Gap_N    Gap_P    Gap_S   Gap_Zn  \n",
              "0  -3696.0  39.0072  -4.5272  -1.9944  \n",
              "1  -4156.0   4.4320 -46.9760  -7.4128  \n",
              "2 -10120.0 -23.6560 -20.1200  -5.2940  \n",
              "3  -6708.0 -78.1040 -32.1040 -14.1040  \n",
              "4  -2588.4  37.1400 -12.7676  -1.1730  \n",
              "\n",
              "[5 rows x 55 columns]"
            ],
            "text/html": [
              "\n",
              "  <div id=\"df-ea11eace-45f9-4d52-8d8d-0508ec4cf298\" class=\"colab-df-container\">\n",
              "    <div>\n",
              "<style scoped>\n",
              "    .dataframe tbody tr th:only-of-type {\n",
              "        vertical-align: middle;\n",
              "    }\n",
              "\n",
              "    .dataframe tbody tr th {\n",
              "        vertical-align: top;\n",
              "    }\n",
              "\n",
              "    .dataframe thead th {\n",
              "        text-align: right;\n",
              "    }\n",
              "</style>\n",
              "<table border=\"1\" class=\"dataframe\">\n",
              "  <thead>\n",
              "    <tr style=\"text-align: right;\">\n",
              "      <th></th>\n",
              "      <th>site</th>\n",
              "      <th>PID</th>\n",
              "      <th>lon</th>\n",
              "      <th>lat</th>\n",
              "      <th>pH</th>\n",
              "      <th>alb</th>\n",
              "      <th>bio1</th>\n",
              "      <th>bio12</th>\n",
              "      <th>bio15</th>\n",
              "      <th>bio7</th>\n",
              "      <th>...</th>\n",
              "      <th>Gap_Ca</th>\n",
              "      <th>Gap_Cu</th>\n",
              "      <th>Gap_Fe</th>\n",
              "      <th>Gap_K</th>\n",
              "      <th>Gap_Mg</th>\n",
              "      <th>Gap_Mn</th>\n",
              "      <th>Gap_N</th>\n",
              "      <th>Gap_P</th>\n",
              "      <th>Gap_S</th>\n",
              "      <th>Gap_Zn</th>\n",
              "    </tr>\n",
              "  </thead>\n",
              "  <tbody>\n",
              "    <tr>\n",
              "      <th>0</th>\n",
              "      <td>site_id_bIEHwl</td>\n",
              "      <td>ID_I5RGjv</td>\n",
              "      <td>70.603761</td>\n",
              "      <td>46.173798</td>\n",
              "      <td>7.75</td>\n",
              "      <td>176</td>\n",
              "      <td>248</td>\n",
              "      <td>920</td>\n",
              "      <td>108</td>\n",
              "      <td>190</td>\n",
              "      <td>...</td>\n",
              "      <td>-19931.6</td>\n",
              "      <td>-8.5016</td>\n",
              "      <td>-218.784</td>\n",
              "      <td>-377.24</td>\n",
              "      <td>-6737.20</td>\n",
              "      <td>-247.80</td>\n",
              "      <td>-3696.0</td>\n",
              "      <td>39.0072</td>\n",
              "      <td>-4.5272</td>\n",
              "      <td>-1.9944</td>\n",
              "    </tr>\n",
              "    <tr>\n",
              "      <th>1</th>\n",
              "      <td>site_id_nGvnKc</td>\n",
              "      <td>ID_8jWzJ5</td>\n",
              "      <td>70.590479</td>\n",
              "      <td>46.078924</td>\n",
              "      <td>7.10</td>\n",
              "      <td>181</td>\n",
              "      <td>250</td>\n",
              "      <td>1080</td>\n",
              "      <td>113</td>\n",
              "      <td>191</td>\n",
              "      <td>...</td>\n",
              "      <td>-3575.2</td>\n",
              "      <td>-12.9328</td>\n",
              "      <td>-291.648</td>\n",
              "      <td>-407.04</td>\n",
              "      <td>-706.40</td>\n",
              "      <td>-1242.96</td>\n",
              "      <td>-4156.0</td>\n",
              "      <td>4.4320</td>\n",
              "      <td>-46.9760</td>\n",
              "      <td>-7.4128</td>\n",
              "    </tr>\n",
              "    <tr>\n",
              "      <th>2</th>\n",
              "      <td>site_id_nGvnKc</td>\n",
              "      <td>ID_UgzkN8</td>\n",
              "      <td>70.582553</td>\n",
              "      <td>46.048820</td>\n",
              "      <td>6.95</td>\n",
              "      <td>188</td>\n",
              "      <td>250</td>\n",
              "      <td>1109</td>\n",
              "      <td>111</td>\n",
              "      <td>191</td>\n",
              "      <td>...</td>\n",
              "      <td>-5506.8</td>\n",
              "      <td>-3.4208</td>\n",
              "      <td>-223.164</td>\n",
              "      <td>-388.92</td>\n",
              "      <td>-996.48</td>\n",
              "      <td>-189.40</td>\n",
              "      <td>-10120.0</td>\n",
              "      <td>-23.6560</td>\n",
              "      <td>-20.1200</td>\n",
              "      <td>-5.2940</td>\n",
              "    </tr>\n",
              "    <tr>\n",
              "      <th>3</th>\n",
              "      <td>site_id_nGvnKc</td>\n",
              "      <td>ID_DLLHM9</td>\n",
              "      <td>70.573267</td>\n",
              "      <td>46.021910</td>\n",
              "      <td>7.83</td>\n",
              "      <td>174</td>\n",
              "      <td>250</td>\n",
              "      <td>1149</td>\n",
              "      <td>112</td>\n",
              "      <td>191</td>\n",
              "      <td>...</td>\n",
              "      <td>-19701.6</td>\n",
              "      <td>-8.9168</td>\n",
              "      <td>-241.624</td>\n",
              "      <td>-542.96</td>\n",
              "      <td>-2120.24</td>\n",
              "      <td>-215.68</td>\n",
              "      <td>-6708.0</td>\n",
              "      <td>-78.1040</td>\n",
              "      <td>-32.1040</td>\n",
              "      <td>-14.1040</td>\n",
              "    </tr>\n",
              "    <tr>\n",
              "      <th>4</th>\n",
              "      <td>site_id_7SA9rO</td>\n",
              "      <td>ID_d009mj</td>\n",
              "      <td>70.585330</td>\n",
              "      <td>46.204336</td>\n",
              "      <td>8.07</td>\n",
              "      <td>188</td>\n",
              "      <td>250</td>\n",
              "      <td>869</td>\n",
              "      <td>114</td>\n",
              "      <td>191</td>\n",
              "      <td>...</td>\n",
              "      <td>-20980.4</td>\n",
              "      <td>-8.4658</td>\n",
              "      <td>-197.684</td>\n",
              "      <td>-205.40</td>\n",
              "      <td>-3309.60</td>\n",
              "      <td>-425.74</td>\n",
              "      <td>-2588.4</td>\n",
              "      <td>37.1400</td>\n",
              "      <td>-12.7676</td>\n",
              "      <td>-1.1730</td>\n",
              "    </tr>\n",
              "  </tbody>\n",
              "</table>\n",
              "<p>5 rows × 55 columns</p>\n",
              "</div>\n",
              "    <div class=\"colab-df-buttons\">\n",
              "\n",
              "  <div class=\"colab-df-container\">\n",
              "    <button class=\"colab-df-convert\" onclick=\"convertToInteractive('df-ea11eace-45f9-4d52-8d8d-0508ec4cf298')\"\n",
              "            title=\"Convert this dataframe to an interactive table.\"\n",
              "            style=\"display:none;\">\n",
              "\n",
              "  <svg xmlns=\"http://www.w3.org/2000/svg\" height=\"24px\" viewBox=\"0 -960 960 960\">\n",
              "    <path d=\"M120-120v-720h720v720H120Zm60-500h600v-160H180v160Zm220 220h160v-160H400v160Zm0 220h160v-160H400v160ZM180-400h160v-160H180v160Zm440 0h160v-160H620v160ZM180-180h160v-160H180v160Zm440 0h160v-160H620v160Z\"/>\n",
              "  </svg>\n",
              "    </button>\n",
              "\n",
              "  <style>\n",
              "    .colab-df-container {\n",
              "      display:flex;\n",
              "      gap: 12px;\n",
              "    }\n",
              "\n",
              "    .colab-df-convert {\n",
              "      background-color: #E8F0FE;\n",
              "      border: none;\n",
              "      border-radius: 50%;\n",
              "      cursor: pointer;\n",
              "      display: none;\n",
              "      fill: #1967D2;\n",
              "      height: 32px;\n",
              "      padding: 0 0 0 0;\n",
              "      width: 32px;\n",
              "    }\n",
              "\n",
              "    .colab-df-convert:hover {\n",
              "      background-color: #E2EBFA;\n",
              "      box-shadow: 0px 1px 2px rgba(60, 64, 67, 0.3), 0px 1px 3px 1px rgba(60, 64, 67, 0.15);\n",
              "      fill: #174EA6;\n",
              "    }\n",
              "\n",
              "    .colab-df-buttons div {\n",
              "      margin-bottom: 4px;\n",
              "    }\n",
              "\n",
              "    [theme=dark] .colab-df-convert {\n",
              "      background-color: #3B4455;\n",
              "      fill: #D2E3FC;\n",
              "    }\n",
              "\n",
              "    [theme=dark] .colab-df-convert:hover {\n",
              "      background-color: #434B5C;\n",
              "      box-shadow: 0px 1px 3px 1px rgba(0, 0, 0, 0.15);\n",
              "      filter: drop-shadow(0px 1px 2px rgba(0, 0, 0, 0.3));\n",
              "      fill: #FFFFFF;\n",
              "    }\n",
              "  </style>\n",
              "\n",
              "    <script>\n",
              "      const buttonEl =\n",
              "        document.querySelector('#df-ea11eace-45f9-4d52-8d8d-0508ec4cf298 button.colab-df-convert');\n",
              "      buttonEl.style.display =\n",
              "        google.colab.kernel.accessAllowed ? 'block' : 'none';\n",
              "\n",
              "      async function convertToInteractive(key) {\n",
              "        const element = document.querySelector('#df-ea11eace-45f9-4d52-8d8d-0508ec4cf298');\n",
              "        const dataTable =\n",
              "          await google.colab.kernel.invokeFunction('convertToInteractive',\n",
              "                                                    [key], {});\n",
              "        if (!dataTable) return;\n",
              "\n",
              "        const docLinkHtml = 'Like what you see? Visit the ' +\n",
              "          '<a target=\"_blank\" href=https://colab.research.google.com/notebooks/data_table.ipynb>data table notebook</a>'\n",
              "          + ' to learn more about interactive tables.';\n",
              "        element.innerHTML = '';\n",
              "        dataTable['output_type'] = 'display_data';\n",
              "        await google.colab.output.renderOutput(dataTable, element);\n",
              "        const docLink = document.createElement('div');\n",
              "        docLink.innerHTML = docLinkHtml;\n",
              "        element.appendChild(docLink);\n",
              "      }\n",
              "    </script>\n",
              "  </div>\n",
              "\n",
              "\n",
              "    <div id=\"df-cff07f93-a25b-4b81-aaad-fe764bb7f884\">\n",
              "      <button class=\"colab-df-quickchart\" onclick=\"quickchart('df-cff07f93-a25b-4b81-aaad-fe764bb7f884')\"\n",
              "                title=\"Suggest charts\"\n",
              "                style=\"display:none;\">\n",
              "\n",
              "<svg xmlns=\"http://www.w3.org/2000/svg\" height=\"24px\"viewBox=\"0 0 24 24\"\n",
              "     width=\"24px\">\n",
              "    <g>\n",
              "        <path d=\"M19 3H5c-1.1 0-2 .9-2 2v14c0 1.1.9 2 2 2h14c1.1 0 2-.9 2-2V5c0-1.1-.9-2-2-2zM9 17H7v-7h2v7zm4 0h-2V7h2v10zm4 0h-2v-4h2v4z\"/>\n",
              "    </g>\n",
              "</svg>\n",
              "      </button>\n",
              "\n",
              "<style>\n",
              "  .colab-df-quickchart {\n",
              "      --bg-color: #E8F0FE;\n",
              "      --fill-color: #1967D2;\n",
              "      --hover-bg-color: #E2EBFA;\n",
              "      --hover-fill-color: #174EA6;\n",
              "      --disabled-fill-color: #AAA;\n",
              "      --disabled-bg-color: #DDD;\n",
              "  }\n",
              "\n",
              "  [theme=dark] .colab-df-quickchart {\n",
              "      --bg-color: #3B4455;\n",
              "      --fill-color: #D2E3FC;\n",
              "      --hover-bg-color: #434B5C;\n",
              "      --hover-fill-color: #FFFFFF;\n",
              "      --disabled-bg-color: #3B4455;\n",
              "      --disabled-fill-color: #666;\n",
              "  }\n",
              "\n",
              "  .colab-df-quickchart {\n",
              "    background-color: var(--bg-color);\n",
              "    border: none;\n",
              "    border-radius: 50%;\n",
              "    cursor: pointer;\n",
              "    display: none;\n",
              "    fill: var(--fill-color);\n",
              "    height: 32px;\n",
              "    padding: 0;\n",
              "    width: 32px;\n",
              "  }\n",
              "\n",
              "  .colab-df-quickchart:hover {\n",
              "    background-color: var(--hover-bg-color);\n",
              "    box-shadow: 0 1px 2px rgba(60, 64, 67, 0.3), 0 1px 3px 1px rgba(60, 64, 67, 0.15);\n",
              "    fill: var(--button-hover-fill-color);\n",
              "  }\n",
              "\n",
              "  .colab-df-quickchart-complete:disabled,\n",
              "  .colab-df-quickchart-complete:disabled:hover {\n",
              "    background-color: var(--disabled-bg-color);\n",
              "    fill: var(--disabled-fill-color);\n",
              "    box-shadow: none;\n",
              "  }\n",
              "\n",
              "  .colab-df-spinner {\n",
              "    border: 2px solid var(--fill-color);\n",
              "    border-color: transparent;\n",
              "    border-bottom-color: var(--fill-color);\n",
              "    animation:\n",
              "      spin 1s steps(1) infinite;\n",
              "  }\n",
              "\n",
              "  @keyframes spin {\n",
              "    0% {\n",
              "      border-color: transparent;\n",
              "      border-bottom-color: var(--fill-color);\n",
              "      border-left-color: var(--fill-color);\n",
              "    }\n",
              "    20% {\n",
              "      border-color: transparent;\n",
              "      border-left-color: var(--fill-color);\n",
              "      border-top-color: var(--fill-color);\n",
              "    }\n",
              "    30% {\n",
              "      border-color: transparent;\n",
              "      border-left-color: var(--fill-color);\n",
              "      border-top-color: var(--fill-color);\n",
              "      border-right-color: var(--fill-color);\n",
              "    }\n",
              "    40% {\n",
              "      border-color: transparent;\n",
              "      border-right-color: var(--fill-color);\n",
              "      border-top-color: var(--fill-color);\n",
              "    }\n",
              "    60% {\n",
              "      border-color: transparent;\n",
              "      border-right-color: var(--fill-color);\n",
              "    }\n",
              "    80% {\n",
              "      border-color: transparent;\n",
              "      border-right-color: var(--fill-color);\n",
              "      border-bottom-color: var(--fill-color);\n",
              "    }\n",
              "    90% {\n",
              "      border-color: transparent;\n",
              "      border-bottom-color: var(--fill-color);\n",
              "    }\n",
              "  }\n",
              "</style>\n",
              "\n",
              "      <script>\n",
              "        async function quickchart(key) {\n",
              "          const quickchartButtonEl =\n",
              "            document.querySelector('#' + key + ' button');\n",
              "          quickchartButtonEl.disabled = true;  // To prevent multiple clicks.\n",
              "          quickchartButtonEl.classList.add('colab-df-spinner');\n",
              "          try {\n",
              "            const charts = await google.colab.kernel.invokeFunction(\n",
              "                'suggestCharts', [key], {});\n",
              "          } catch (error) {\n",
              "            console.error('Error during call to suggestCharts:', error);\n",
              "          }\n",
              "          quickchartButtonEl.classList.remove('colab-df-spinner');\n",
              "          quickchartButtonEl.classList.add('colab-df-quickchart-complete');\n",
              "        }\n",
              "        (() => {\n",
              "          let quickchartButtonEl =\n",
              "            document.querySelector('#df-cff07f93-a25b-4b81-aaad-fe764bb7f884 button');\n",
              "          quickchartButtonEl.style.display =\n",
              "            google.colab.kernel.accessAllowed ? 'block' : 'none';\n",
              "        })();\n",
              "      </script>\n",
              "    </div>\n",
              "\n",
              "    </div>\n",
              "  </div>\n"
            ],
            "application/vnd.google.colaboratory.intrinsic+json": {
              "type": "dataframe",
              "variable_name": "merged_train_df"
            }
          },
          "metadata": {},
          "execution_count": 533
        }
      ]
    },
    {
      "cell_type": "code",
      "source": [
        "merged_train_df.shape"
      ],
      "metadata": {
        "colab": {
          "base_uri": "https://localhost:8080/"
        },
        "id": "nSQofOFy6pZ2",
        "outputId": "894b9921-85fc-4413-8c9e-e9d3b265c7a8"
      },
      "execution_count": null,
      "outputs": [
        {
          "output_type": "execute_result",
          "data": {
            "text/plain": [
              "(7744, 55)"
            ]
          },
          "metadata": {},
          "execution_count": 534
        }
      ]
    },
    {
      "cell_type": "code",
      "source": [
        "for col in merged_train_df.columns:\n",
        "    print(col)"
      ],
      "metadata": {
        "colab": {
          "base_uri": "https://localhost:8080/"
        },
        "id": "71OONn1Vm5d7",
        "outputId": "2c76caf2-8c20-434b-8cb8-4ffbc28dbb2e"
      },
      "execution_count": null,
      "outputs": [
        {
          "output_type": "stream",
          "name": "stdout",
          "text": [
            "site\n",
            "PID\n",
            "lon\n",
            "lat\n",
            "pH\n",
            "alb\n",
            "bio1\n",
            "bio12\n",
            "bio15\n",
            "bio7\n",
            "bp\n",
            "cec20\n",
            "dows\n",
            "ecec20\n",
            "hp20\n",
            "ls\n",
            "lstd\n",
            "lstn\n",
            "mb1\n",
            "mb2\n",
            "mb3\n",
            "mb7\n",
            "mdem\n",
            "para\n",
            "parv\n",
            "ph20\n",
            "slope\n",
            "snd20\n",
            "soc20\n",
            "tim\n",
            "wp\n",
            "xhp20\n",
            "BulkDensity\n",
            "N\n",
            "P\n",
            "K\n",
            "Ca\n",
            "Mg\n",
            "S\n",
            "Fe\n",
            "Mn\n",
            "Zn\n",
            "Cu\n",
            "B\n",
            "Gap_B\n",
            "Gap_Ca\n",
            "Gap_Cu\n",
            "Gap_Fe\n",
            "Gap_K\n",
            "Gap_Mg\n",
            "Gap_Mn\n",
            "Gap_N\n",
            "Gap_P\n",
            "Gap_S\n",
            "Gap_Zn\n"
          ]
        }
      ]
    },
    {
      "cell_type": "code",
      "source": [
        "merged_train_df.shape"
      ],
      "metadata": {
        "colab": {
          "base_uri": "https://localhost:8080/"
        },
        "id": "7quIHSRs4e6o",
        "outputId": "73fae4cf-2a27-42b8-e765-a1c2d2117a4c"
      },
      "execution_count": null,
      "outputs": [
        {
          "output_type": "execute_result",
          "data": {
            "text/plain": [
              "(7744, 55)"
            ]
          },
          "metadata": {},
          "execution_count": 536
        }
      ]
    },
    {
      "cell_type": "markdown",
      "source": [
        "#### Feature Selection"
      ],
      "metadata": {
        "id": "-PWI4nh-4naZ"
      }
    },
    {
      "cell_type": "code",
      "source": [
        "# Drop non-feature columns\n",
        "drop_cols = ['site', 'PID'] + [col for col in train_df.columns if col.startswith('Gap_')] + ['N', 'P', 'K', 'Ca', 'Mg', 'S', 'Fe', 'Mn', 'Zn', 'Cu', 'B']\n",
        "new_train_data = train_df.drop(columns=drop_cols)\n"
      ],
      "metadata": {
        "id": "p64L-WBMmSM2"
      },
      "execution_count": null,
      "outputs": []
    },
    {
      "cell_type": "code",
      "source": [
        "# Drop non-feature columns\n",
        "drop_cols = ['site'] + [col for col in train_df.columns if col.startswith('Gap_')] + ['N', 'P', 'K', 'Ca', 'Mg', 'S', 'Fe', 'Mn', 'Zn', 'Cu', 'B']\n",
        "new_train_data = train_df.drop(columns=drop_cols)"
      ],
      "metadata": {
        "id": "Hi1w2cuwt3_l"
      },
      "execution_count": null,
      "outputs": []
    },
    {
      "cell_type": "code",
      "source": [
        "for col in new_train_data.columns:\n",
        "  print(col)"
      ],
      "metadata": {
        "id": "qCrM0iezmSIW",
        "colab": {
          "base_uri": "https://localhost:8080/"
        },
        "outputId": "90062f42-c6f1-4bc3-f11f-838c1744853d"
      },
      "execution_count": null,
      "outputs": [
        {
          "output_type": "stream",
          "name": "stdout",
          "text": [
            "PID\n",
            "lon\n",
            "lat\n",
            "pH\n",
            "alb\n",
            "bio1\n",
            "bio12\n",
            "bio15\n",
            "bio7\n",
            "bp\n",
            "cec20\n",
            "dows\n",
            "ecec20\n",
            "hp20\n",
            "ls\n",
            "lstd\n",
            "lstn\n",
            "mb1\n",
            "mb2\n",
            "mb3\n",
            "mb7\n",
            "mdem\n",
            "para\n",
            "parv\n",
            "ph20\n",
            "slope\n",
            "snd20\n",
            "soc20\n",
            "tim\n",
            "wp\n",
            "xhp20\n",
            "BulkDensity\n"
          ]
        }
      ]
    },
    {
      "cell_type": "code",
      "source": [
        "new_train_data.shape"
      ],
      "metadata": {
        "colab": {
          "base_uri": "https://localhost:8080/"
        },
        "id": "pskGuVd2eYOx",
        "outputId": "525ac334-e6a1-42ef-bec4-378850b3819d"
      },
      "execution_count": null,
      "outputs": [
        {
          "output_type": "execute_result",
          "data": {
            "text/plain": [
              "(7744, 32)"
            ]
          },
          "metadata": {},
          "execution_count": 540
        }
      ]
    },
    {
      "cell_type": "code",
      "source": [
        "55-24"
      ],
      "metadata": {
        "colab": {
          "base_uri": "https://localhost:8080/"
        },
        "id": "lUQ0BHEdA0Yt",
        "outputId": "040588e3-e0b8-4931-b602-eb002ff03d63"
      },
      "execution_count": null,
      "outputs": [
        {
          "output_type": "execute_result",
          "data": {
            "text/plain": [
              "31"
            ]
          },
          "metadata": {},
          "execution_count": 541
        }
      ]
    },
    {
      "cell_type": "code",
      "source": [
        "missing_counts = new_train_data.isnull().sum()\n",
        "print(missing_counts)"
      ],
      "metadata": {
        "id": "9bY3xxKPmSGp",
        "colab": {
          "base_uri": "https://localhost:8080/"
        },
        "outputId": "4db49938-462f-483c-e804-254cfdd35dfb"
      },
      "execution_count": null,
      "outputs": [
        {
          "output_type": "stream",
          "name": "stdout",
          "text": [
            "PID            0\n",
            "lon            0\n",
            "lat            0\n",
            "pH             0\n",
            "alb            0\n",
            "bio1           0\n",
            "bio12          0\n",
            "bio15          0\n",
            "bio7           0\n",
            "bp             0\n",
            "cec20          0\n",
            "dows           0\n",
            "ecec20         5\n",
            "hp20           5\n",
            "ls             0\n",
            "lstd           0\n",
            "lstn           0\n",
            "mb1            0\n",
            "mb2            0\n",
            "mb3            0\n",
            "mb7            0\n",
            "mdem           0\n",
            "para           0\n",
            "parv           0\n",
            "ph20           0\n",
            "slope          0\n",
            "snd20          0\n",
            "soc20          0\n",
            "tim            0\n",
            "wp             0\n",
            "xhp20          5\n",
            "BulkDensity    4\n",
            "dtype: int64\n"
          ]
        }
      ]
    },
    {
      "cell_type": "code",
      "source": [
        "for col in new_train_data.columns:\n",
        "    n_missing = new_train_data[col].isnull().sum()\n",
        "    print(f\"{col}: {n_missing}\")"
      ],
      "metadata": {
        "colab": {
          "base_uri": "https://localhost:8080/"
        },
        "id": "UvzaWqGLjKq3",
        "outputId": "508f536f-5815-450d-9693-3ac463b643af"
      },
      "execution_count": null,
      "outputs": [
        {
          "output_type": "stream",
          "name": "stdout",
          "text": [
            "PID: 0\n",
            "lon: 0\n",
            "lat: 0\n",
            "pH: 0\n",
            "alb: 0\n",
            "bio1: 0\n",
            "bio12: 0\n",
            "bio15: 0\n",
            "bio7: 0\n",
            "bp: 0\n",
            "cec20: 0\n",
            "dows: 0\n",
            "ecec20: 5\n",
            "hp20: 5\n",
            "ls: 0\n",
            "lstd: 0\n",
            "lstn: 0\n",
            "mb1: 0\n",
            "mb2: 0\n",
            "mb3: 0\n",
            "mb7: 0\n",
            "mdem: 0\n",
            "para: 0\n",
            "parv: 0\n",
            "ph20: 0\n",
            "slope: 0\n",
            "snd20: 0\n",
            "soc20: 0\n",
            "tim: 0\n",
            "wp: 0\n",
            "xhp20: 5\n",
            "BulkDensity: 4\n"
          ]
        }
      ]
    },
    {
      "cell_type": "code",
      "source": [
        "from sklearn.impute import SimpleImputer\n",
        "\n",
        "# Check missing counts\n",
        "print(\"Missing before imputation:\")\n",
        "print(new_train_data.isnull().sum().sort_values(ascending=False).head(10))\n",
        "\n",
        "# Impute ecec20, hp20, xhp20, BulkDensity with median\n",
        "imputer = SimpleImputer(strategy='median')\n",
        "cols_to_impute = ['ecec20', 'hp20', 'xhp20', 'BulkDensity']\n",
        "new_train_data[cols_to_impute] = imputer.fit_transform(new_train_data[cols_to_impute])\n",
        "\n",
        "# Verify no more missing\n",
        "print(\"\\nMissing after imputation:\")\n",
        "print(new_train_data[cols_to_impute].isnull().sum())"
      ],
      "metadata": {
        "colab": {
          "base_uri": "https://localhost:8080/"
        },
        "id": "WNnlNyTnCVSc",
        "outputId": "210767fb-b9c4-49ca-926d-cf81a33b40c0"
      },
      "execution_count": null,
      "outputs": [
        {
          "output_type": "stream",
          "name": "stdout",
          "text": [
            "Missing before imputation:\n",
            "ecec20         5\n",
            "hp20           5\n",
            "xhp20          5\n",
            "BulkDensity    4\n",
            "alb            0\n",
            "bio1           0\n",
            "PID            0\n",
            "lon            0\n",
            "bio15          0\n",
            "bio12          0\n",
            "dtype: int64\n",
            "\n",
            "Missing after imputation:\n",
            "ecec20         0\n",
            "hp20           0\n",
            "xhp20          0\n",
            "BulkDensity    0\n",
            "dtype: int64\n"
          ]
        }
      ]
    },
    {
      "cell_type": "code",
      "source": [
        "sum_missing = new_train_data.isnull().sum()\n",
        "print(sum_missing)"
      ],
      "metadata": {
        "colab": {
          "base_uri": "https://localhost:8080/"
        },
        "id": "8wGLDWCNkHXf",
        "outputId": "1f8638bf-4ee2-4496-9b4c-078c1781dce2"
      },
      "execution_count": null,
      "outputs": [
        {
          "output_type": "stream",
          "name": "stdout",
          "text": [
            "PID            0\n",
            "lon            0\n",
            "lat            0\n",
            "pH             0\n",
            "alb            0\n",
            "bio1           0\n",
            "bio12          0\n",
            "bio15          0\n",
            "bio7           0\n",
            "bp             0\n",
            "cec20          0\n",
            "dows           0\n",
            "ecec20         0\n",
            "hp20           0\n",
            "ls             0\n",
            "lstd           0\n",
            "lstn           0\n",
            "mb1            0\n",
            "mb2            0\n",
            "mb3            0\n",
            "mb7            0\n",
            "mdem           0\n",
            "para           0\n",
            "parv           0\n",
            "ph20           0\n",
            "slope          0\n",
            "snd20          0\n",
            "soc20          0\n",
            "tim            0\n",
            "wp             0\n",
            "xhp20          0\n",
            "BulkDensity    0\n",
            "dtype: int64\n"
          ]
        }
      ]
    },
    {
      "cell_type": "code",
      "source": [
        "list(new_train_data.columns)"
      ],
      "metadata": {
        "colab": {
          "base_uri": "https://localhost:8080/"
        },
        "id": "7HWUT5jVtIgm",
        "outputId": "35aa3863-2b3d-4e65-979d-48d7d2c02a6d"
      },
      "execution_count": null,
      "outputs": [
        {
          "output_type": "execute_result",
          "data": {
            "text/plain": [
              "['PID',\n",
              " 'lon',\n",
              " 'lat',\n",
              " 'pH',\n",
              " 'alb',\n",
              " 'bio1',\n",
              " 'bio12',\n",
              " 'bio15',\n",
              " 'bio7',\n",
              " 'bp',\n",
              " 'cec20',\n",
              " 'dows',\n",
              " 'ecec20',\n",
              " 'hp20',\n",
              " 'ls',\n",
              " 'lstd',\n",
              " 'lstn',\n",
              " 'mb1',\n",
              " 'mb2',\n",
              " 'mb3',\n",
              " 'mb7',\n",
              " 'mdem',\n",
              " 'para',\n",
              " 'parv',\n",
              " 'ph20',\n",
              " 'slope',\n",
              " 'snd20',\n",
              " 'soc20',\n",
              " 'tim',\n",
              " 'wp',\n",
              " 'xhp20',\n",
              " 'BulkDensity']"
            ]
          },
          "metadata": {},
          "execution_count": 546
        }
      ]
    },
    {
      "cell_type": "code",
      "source": [
        "gap_cols = [col for col in merged_train_df.columns if col.startswith(\"Gap_\")]\n",
        "nutrient_cols = [\"N\", \"P\", \"K\", \"Ca\", \"Mg\", \"S\", \"Fe\", \"Mn\", \"Zn\", \"Cu\", \"B\"]\n",
        "drop_for_X = [\"site\", \"PID\"] + gap_cols + nutrient_cols\n",
        "\n",
        "y = merged_train_df[[\n",
        "  'Gap_B',\n",
        " 'Gap_Ca',\n",
        " 'Gap_Cu',\n",
        " 'Gap_Fe',\n",
        " 'Gap_K',\n",
        " 'Gap_Mg',\n",
        " 'Gap_Mn',\n",
        " 'Gap_N',\n",
        " 'Gap_P',\n",
        " 'Gap_S',\n",
        " 'Gap_Zn'\n",
        " ]]\n",
        "X = merged_train_df.drop(columns=drop_for_X)\n"
      ],
      "metadata": {
        "id": "6en8xkD4tsim"
      },
      "execution_count": null,
      "outputs": []
    },
    {
      "cell_type": "code",
      "source": [
        "for col in merged_train_df.columns:\n",
        "  print(col)"
      ],
      "metadata": {
        "colab": {
          "base_uri": "https://localhost:8080/"
        },
        "id": "-CeVDFnl71py",
        "outputId": "4b278cd3-6aa3-467a-cc0c-4c5eb43d659d"
      },
      "execution_count": null,
      "outputs": [
        {
          "output_type": "stream",
          "name": "stdout",
          "text": [
            "site\n",
            "PID\n",
            "lon\n",
            "lat\n",
            "pH\n",
            "alb\n",
            "bio1\n",
            "bio12\n",
            "bio15\n",
            "bio7\n",
            "bp\n",
            "cec20\n",
            "dows\n",
            "ecec20\n",
            "hp20\n",
            "ls\n",
            "lstd\n",
            "lstn\n",
            "mb1\n",
            "mb2\n",
            "mb3\n",
            "mb7\n",
            "mdem\n",
            "para\n",
            "parv\n",
            "ph20\n",
            "slope\n",
            "snd20\n",
            "soc20\n",
            "tim\n",
            "wp\n",
            "xhp20\n",
            "BulkDensity\n",
            "N\n",
            "P\n",
            "K\n",
            "Ca\n",
            "Mg\n",
            "S\n",
            "Fe\n",
            "Mn\n",
            "Zn\n",
            "Cu\n",
            "B\n",
            "Gap_B\n",
            "Gap_Ca\n",
            "Gap_Cu\n",
            "Gap_Fe\n",
            "Gap_K\n",
            "Gap_Mg\n",
            "Gap_Mn\n",
            "Gap_N\n",
            "Gap_P\n",
            "Gap_S\n",
            "Gap_Zn\n"
          ]
        }
      ]
    },
    {
      "cell_type": "code",
      "source": [
        "print(\"X columns (features):\", X.columns.tolist())\n",
        "print(\"X shape:\", X.shape)\n",
        "print(\"y columns (targets):\", y.columns.tolist())\n",
        "print(\"y shape:\", y.shape)"
      ],
      "metadata": {
        "colab": {
          "base_uri": "https://localhost:8080/"
        },
        "id": "iQOsHPyHtsgN",
        "outputId": "bc94a6bc-753d-46fd-ee92-81914fab942d"
      },
      "execution_count": null,
      "outputs": [
        {
          "output_type": "stream",
          "name": "stdout",
          "text": [
            "X columns (features): ['lon', 'lat', 'pH', 'alb', 'bio1', 'bio12', 'bio15', 'bio7', 'bp', 'cec20', 'dows', 'ecec20', 'hp20', 'ls', 'lstd', 'lstn', 'mb1', 'mb2', 'mb3', 'mb7', 'mdem', 'para', 'parv', 'ph20', 'slope', 'snd20', 'soc20', 'tim', 'wp', 'xhp20', 'BulkDensity']\n",
            "X shape: (7744, 31)\n",
            "y columns (targets): ['Gap_B', 'Gap_Ca', 'Gap_Cu', 'Gap_Fe', 'Gap_K', 'Gap_Mg', 'Gap_Mn', 'Gap_N', 'Gap_P', 'Gap_S', 'Gap_Zn']\n",
            "y shape: (7744, 11)\n"
          ]
        }
      ]
    },
    {
      "cell_type": "code",
      "source": [
        "for col in X.columns:\n",
        "  print(col)"
      ],
      "metadata": {
        "colab": {
          "base_uri": "https://localhost:8080/"
        },
        "id": "25kdqC6lZXiS",
        "outputId": "571875af-815e-4bc7-8168-c29b134c5a53"
      },
      "execution_count": null,
      "outputs": [
        {
          "output_type": "stream",
          "name": "stdout",
          "text": [
            "lon\n",
            "lat\n",
            "pH\n",
            "alb\n",
            "bio1\n",
            "bio12\n",
            "bio15\n",
            "bio7\n",
            "bp\n",
            "cec20\n",
            "dows\n",
            "ecec20\n",
            "hp20\n",
            "ls\n",
            "lstd\n",
            "lstn\n",
            "mb1\n",
            "mb2\n",
            "mb3\n",
            "mb7\n",
            "mdem\n",
            "para\n",
            "parv\n",
            "ph20\n",
            "slope\n",
            "snd20\n",
            "soc20\n",
            "tim\n",
            "wp\n",
            "xhp20\n",
            "BulkDensity\n"
          ]
        }
      ]
    },
    {
      "cell_type": "code",
      "source": [],
      "metadata": {
        "id": "gtIy1U_a4IkF"
      },
      "execution_count": null,
      "outputs": []
    },
    {
      "cell_type": "code",
      "source": [],
      "metadata": {
        "id": "hmND4i8i4Ig8"
      },
      "execution_count": null,
      "outputs": []
    },
    {
      "cell_type": "code",
      "source": [],
      "metadata": {
        "id": "L6ClcTMX4IdB"
      },
      "execution_count": null,
      "outputs": []
    },
    {
      "cell_type": "markdown",
      "source": [
        "## Split the data into Traning, testing and validation sets"
      ],
      "metadata": {
        "id": "5AxoHZApzH6S"
      }
    },
    {
      "cell_type": "code",
      "source": [
        "from sklearn.model_selection import train_test_split\n",
        "\n",
        "X_train, X_val, y_train, y_val = train_test_split(\n",
        "    X, y, test_size=0.20, random_state=42\n",
        ")\n",
        "\n",
        "print(\"Training X:\", X_train.shape, \"Validation X:\", X_val.shape)\n",
        "print(\"Training y:\", y_train.shape, \"Validation y:\", y_val.shape)"
      ],
      "metadata": {
        "colab": {
          "base_uri": "https://localhost:8080/"
        },
        "id": "LI1fx4XFtsW8",
        "outputId": "9196e756-dddc-4b7a-cc5d-6f2c4a97a19e"
      },
      "execution_count": null,
      "outputs": [
        {
          "output_type": "stream",
          "name": "stdout",
          "text": [
            "Training X: (6195, 31) Validation X: (1549, 31)\n",
            "Training y: (6195, 11) Validation y: (1549, 11)\n"
          ]
        }
      ]
    },
    {
      "cell_type": "code",
      "source": [
        "from sklearn.ensemble import RandomForestRegressor\n",
        "from sklearn.multioutput import MultiOutputRegressor\n",
        "from sklearn.metrics import mean_squared_error\n",
        "\n",
        "# Instantiate a base regressor (e.g. RandomForest)\n",
        "base_rf = RandomForestRegressor(\n",
        "    n_estimators=100,\n",
        "    random_state=42,\n",
        "    n_jobs=-1\n",
        ")\n",
        "\n",
        "# Wrap it in MultiOutputRegressor\n",
        "multi_rf = MultiOutputRegressor(base_rf)\n",
        "\n",
        "# Fit on the training split\n",
        "multi_rf.fit(X_train, y_train)\n",
        "\n",
        "# Predict on validation split\n",
        "y_pred = multi_rf.predict(X_val)\n"
      ],
      "metadata": {
        "id": "rDgZ_8CNtsSv"
      },
      "execution_count": null,
      "outputs": []
    },
    {
      "cell_type": "code",
      "source": [
        "y_pred.shape"
      ],
      "metadata": {
        "colab": {
          "base_uri": "https://localhost:8080/"
        },
        "id": "rawNk-oj1zfA",
        "outputId": "47dd7f63-c8a8-4f84-c0f9-886fba0f41e4"
      },
      "execution_count": null,
      "outputs": [
        {
          "output_type": "execute_result",
          "data": {
            "text/plain": [
              "(1549, 11)"
            ]
          },
          "metadata": {},
          "execution_count": 553
        }
      ]
    },
    {
      "cell_type": "code",
      "source": [
        "from sklearn.metrics import mean_squared_error\n",
        "import numpy as np\n",
        "\n",
        "# After you’ve trained and predicted (y_pred is shape [n_val, 11])\n",
        "\n",
        "for idx, nutrient in enumerate(y_train.columns):\n",
        "    mse = mean_squared_error(\n",
        "        y_val.iloc[:, idx],\n",
        "        y_pred[:, idx]\n",
        "    )\n",
        "    rmse = np.sqrt(mse)\n",
        "    print(f\"{nutrient}:   RMSE = {rmse:.3f}\")\n",
        "\n",
        "# Overall RMSE across all nutrient gaps:\n",
        "overall_mse = mean_squared_error(\n",
        "    y_val.values.flatten(),\n",
        "    y_pred.flatten()\n",
        ")\n",
        "overall_rmse = np.sqrt(overall_mse)\n",
        "print(f\"\\nOverall RMSE (all gaps combined): {overall_rmse:.3f}\")\n"
      ],
      "metadata": {
        "colab": {
          "base_uri": "https://localhost:8080/"
        },
        "id": "-A2MSQuPtsQf",
        "outputId": "eedb0078-1ed4-40d7-96e2-9371eb7c1c11"
      },
      "execution_count": null,
      "outputs": [
        {
          "output_type": "stream",
          "name": "stdout",
          "text": [
            "Gap_B:   RMSE = 0.574\n",
            "Gap_Ca:   RMSE = 3844.033\n",
            "Gap_Cu:   RMSE = 12.753\n",
            "Gap_Fe:   RMSE = 104.669\n",
            "Gap_K:   RMSE = 505.897\n",
            "Gap_Mg:   RMSE = 852.630\n",
            "Gap_Mn:   RMSE = 135.136\n",
            "Gap_N:   RMSE = 1222.015\n",
            "Gap_P:   RMSE = 115.829\n",
            "Gap_S:   RMSE = 41.526\n",
            "Gap_Zn:   RMSE = 6.204\n",
            "\n",
            "Overall RMSE (all gaps combined): 1253.989\n"
          ]
        }
      ]
    },
    {
      "cell_type": "markdown",
      "source": [
        "#### Retrain on Full Data"
      ],
      "metadata": {
        "id": "ACWJITjo5qga"
      }
    },
    {
      "cell_type": "code",
      "source": [
        "# Pivot train_gap_df so each PID has one row and each nutrient has its own column\n",
        "gap_wide_test = test_gap_df.pivot(index=\"PID\", columns=\"Nutrient\", values=\"Required\")\n",
        "\n",
        "# Rename columns to make them clear as gap targets\n",
        "gap_wide_test.columns = [f\"Req_{col}\" for col in gap_wide_test.columns]\n",
        "\n",
        "# Reset index so PID is a column again (not the index)\n",
        "gap_wide_test = gap_wide_test.reset_index()\n",
        "\n",
        "# Merge gap values into train_df using PID\n",
        "merged_test_df = test_df.merge(gap_wide_test, on=\"PID\", how=\"left\")\n",
        "\n",
        "# Preview the result\n",
        "merged_test_df.head()"
      ],
      "metadata": {
        "colab": {
          "base_uri": "https://localhost:8080/",
          "height": 255
        },
        "id": "8LdAEhcUQoEP",
        "outputId": "1c0b4f4e-a209-4d76-819d-d188d5a1eb80"
      },
      "execution_count": null,
      "outputs": [
        {
          "output_type": "execute_result",
          "data": {
            "text/plain": [
              "             site        PID        lon        lat    pH  alb  bio1  bio12  \\\n",
              "0  site_id_hgJpkz  ID_NGS9Bx  69.170794  44.522885  6.86  144   256    910   \n",
              "1  site_id_olmuI5  ID_YdVKXw  68.885265  44.741057  7.08  129   260    851   \n",
              "2  site_id_PTZdJz  ID_MZAlfE  68.970210  44.675777  6.50  142   259    901   \n",
              "3  site_id_DOTgr8  ID_GwCCMN  69.068751  44.647707  6.82  142   261    847   \n",
              "4  site_id_1rQNvy  ID_K8sowf  68.990002  44.577607  6.52  145   253   1109   \n",
              "\n",
              "   bio15  bio7  ...  Req_Ca  Req_Cu  Req_Fe  Req_K  Req_Mg  Req_Mn  Req_N  \\\n",
              "0    108   186  ...    12.0     0.2     0.8   52.0     8.0     0.4  100.0   \n",
              "1    110   187  ...    12.0     0.2     0.8   52.0     8.0     0.4  100.0   \n",
              "2    109   187  ...    12.0     0.2     0.8   52.0     8.0     0.4  100.0   \n",
              "3    109   187  ...    12.0     0.2     0.8   52.0     8.0     0.4  100.0   \n",
              "4    110   186  ...    12.0     0.2     0.8   52.0     8.0     0.4  100.0   \n",
              "\n",
              "   Req_P  Req_S  Req_Zn  \n",
              "0   40.0   12.0     0.4  \n",
              "1   40.0   12.0     0.4  \n",
              "2   40.0   12.0     0.4  \n",
              "3   40.0   12.0     0.4  \n",
              "4   40.0   12.0     0.4  \n",
              "\n",
              "[5 rows x 44 columns]"
            ],
            "text/html": [
              "\n",
              "  <div id=\"df-358a5ba4-e2a8-4db3-a144-e2f2f56f37ce\" class=\"colab-df-container\">\n",
              "    <div>\n",
              "<style scoped>\n",
              "    .dataframe tbody tr th:only-of-type {\n",
              "        vertical-align: middle;\n",
              "    }\n",
              "\n",
              "    .dataframe tbody tr th {\n",
              "        vertical-align: top;\n",
              "    }\n",
              "\n",
              "    .dataframe thead th {\n",
              "        text-align: right;\n",
              "    }\n",
              "</style>\n",
              "<table border=\"1\" class=\"dataframe\">\n",
              "  <thead>\n",
              "    <tr style=\"text-align: right;\">\n",
              "      <th></th>\n",
              "      <th>site</th>\n",
              "      <th>PID</th>\n",
              "      <th>lon</th>\n",
              "      <th>lat</th>\n",
              "      <th>pH</th>\n",
              "      <th>alb</th>\n",
              "      <th>bio1</th>\n",
              "      <th>bio12</th>\n",
              "      <th>bio15</th>\n",
              "      <th>bio7</th>\n",
              "      <th>...</th>\n",
              "      <th>Req_Ca</th>\n",
              "      <th>Req_Cu</th>\n",
              "      <th>Req_Fe</th>\n",
              "      <th>Req_K</th>\n",
              "      <th>Req_Mg</th>\n",
              "      <th>Req_Mn</th>\n",
              "      <th>Req_N</th>\n",
              "      <th>Req_P</th>\n",
              "      <th>Req_S</th>\n",
              "      <th>Req_Zn</th>\n",
              "    </tr>\n",
              "  </thead>\n",
              "  <tbody>\n",
              "    <tr>\n",
              "      <th>0</th>\n",
              "      <td>site_id_hgJpkz</td>\n",
              "      <td>ID_NGS9Bx</td>\n",
              "      <td>69.170794</td>\n",
              "      <td>44.522885</td>\n",
              "      <td>6.86</td>\n",
              "      <td>144</td>\n",
              "      <td>256</td>\n",
              "      <td>910</td>\n",
              "      <td>108</td>\n",
              "      <td>186</td>\n",
              "      <td>...</td>\n",
              "      <td>12.0</td>\n",
              "      <td>0.2</td>\n",
              "      <td>0.8</td>\n",
              "      <td>52.0</td>\n",
              "      <td>8.0</td>\n",
              "      <td>0.4</td>\n",
              "      <td>100.0</td>\n",
              "      <td>40.0</td>\n",
              "      <td>12.0</td>\n",
              "      <td>0.4</td>\n",
              "    </tr>\n",
              "    <tr>\n",
              "      <th>1</th>\n",
              "      <td>site_id_olmuI5</td>\n",
              "      <td>ID_YdVKXw</td>\n",
              "      <td>68.885265</td>\n",
              "      <td>44.741057</td>\n",
              "      <td>7.08</td>\n",
              "      <td>129</td>\n",
              "      <td>260</td>\n",
              "      <td>851</td>\n",
              "      <td>110</td>\n",
              "      <td>187</td>\n",
              "      <td>...</td>\n",
              "      <td>12.0</td>\n",
              "      <td>0.2</td>\n",
              "      <td>0.8</td>\n",
              "      <td>52.0</td>\n",
              "      <td>8.0</td>\n",
              "      <td>0.4</td>\n",
              "      <td>100.0</td>\n",
              "      <td>40.0</td>\n",
              "      <td>12.0</td>\n",
              "      <td>0.4</td>\n",
              "    </tr>\n",
              "    <tr>\n",
              "      <th>2</th>\n",
              "      <td>site_id_PTZdJz</td>\n",
              "      <td>ID_MZAlfE</td>\n",
              "      <td>68.970210</td>\n",
              "      <td>44.675777</td>\n",
              "      <td>6.50</td>\n",
              "      <td>142</td>\n",
              "      <td>259</td>\n",
              "      <td>901</td>\n",
              "      <td>109</td>\n",
              "      <td>187</td>\n",
              "      <td>...</td>\n",
              "      <td>12.0</td>\n",
              "      <td>0.2</td>\n",
              "      <td>0.8</td>\n",
              "      <td>52.0</td>\n",
              "      <td>8.0</td>\n",
              "      <td>0.4</td>\n",
              "      <td>100.0</td>\n",
              "      <td>40.0</td>\n",
              "      <td>12.0</td>\n",
              "      <td>0.4</td>\n",
              "    </tr>\n",
              "    <tr>\n",
              "      <th>3</th>\n",
              "      <td>site_id_DOTgr8</td>\n",
              "      <td>ID_GwCCMN</td>\n",
              "      <td>69.068751</td>\n",
              "      <td>44.647707</td>\n",
              "      <td>6.82</td>\n",
              "      <td>142</td>\n",
              "      <td>261</td>\n",
              "      <td>847</td>\n",
              "      <td>109</td>\n",
              "      <td>187</td>\n",
              "      <td>...</td>\n",
              "      <td>12.0</td>\n",
              "      <td>0.2</td>\n",
              "      <td>0.8</td>\n",
              "      <td>52.0</td>\n",
              "      <td>8.0</td>\n",
              "      <td>0.4</td>\n",
              "      <td>100.0</td>\n",
              "      <td>40.0</td>\n",
              "      <td>12.0</td>\n",
              "      <td>0.4</td>\n",
              "    </tr>\n",
              "    <tr>\n",
              "      <th>4</th>\n",
              "      <td>site_id_1rQNvy</td>\n",
              "      <td>ID_K8sowf</td>\n",
              "      <td>68.990002</td>\n",
              "      <td>44.577607</td>\n",
              "      <td>6.52</td>\n",
              "      <td>145</td>\n",
              "      <td>253</td>\n",
              "      <td>1109</td>\n",
              "      <td>110</td>\n",
              "      <td>186</td>\n",
              "      <td>...</td>\n",
              "      <td>12.0</td>\n",
              "      <td>0.2</td>\n",
              "      <td>0.8</td>\n",
              "      <td>52.0</td>\n",
              "      <td>8.0</td>\n",
              "      <td>0.4</td>\n",
              "      <td>100.0</td>\n",
              "      <td>40.0</td>\n",
              "      <td>12.0</td>\n",
              "      <td>0.4</td>\n",
              "    </tr>\n",
              "  </tbody>\n",
              "</table>\n",
              "<p>5 rows × 44 columns</p>\n",
              "</div>\n",
              "    <div class=\"colab-df-buttons\">\n",
              "\n",
              "  <div class=\"colab-df-container\">\n",
              "    <button class=\"colab-df-convert\" onclick=\"convertToInteractive('df-358a5ba4-e2a8-4db3-a144-e2f2f56f37ce')\"\n",
              "            title=\"Convert this dataframe to an interactive table.\"\n",
              "            style=\"display:none;\">\n",
              "\n",
              "  <svg xmlns=\"http://www.w3.org/2000/svg\" height=\"24px\" viewBox=\"0 -960 960 960\">\n",
              "    <path d=\"M120-120v-720h720v720H120Zm60-500h600v-160H180v160Zm220 220h160v-160H400v160Zm0 220h160v-160H400v160ZM180-400h160v-160H180v160Zm440 0h160v-160H620v160ZM180-180h160v-160H180v160Zm440 0h160v-160H620v160Z\"/>\n",
              "  </svg>\n",
              "    </button>\n",
              "\n",
              "  <style>\n",
              "    .colab-df-container {\n",
              "      display:flex;\n",
              "      gap: 12px;\n",
              "    }\n",
              "\n",
              "    .colab-df-convert {\n",
              "      background-color: #E8F0FE;\n",
              "      border: none;\n",
              "      border-radius: 50%;\n",
              "      cursor: pointer;\n",
              "      display: none;\n",
              "      fill: #1967D2;\n",
              "      height: 32px;\n",
              "      padding: 0 0 0 0;\n",
              "      width: 32px;\n",
              "    }\n",
              "\n",
              "    .colab-df-convert:hover {\n",
              "      background-color: #E2EBFA;\n",
              "      box-shadow: 0px 1px 2px rgba(60, 64, 67, 0.3), 0px 1px 3px 1px rgba(60, 64, 67, 0.15);\n",
              "      fill: #174EA6;\n",
              "    }\n",
              "\n",
              "    .colab-df-buttons div {\n",
              "      margin-bottom: 4px;\n",
              "    }\n",
              "\n",
              "    [theme=dark] .colab-df-convert {\n",
              "      background-color: #3B4455;\n",
              "      fill: #D2E3FC;\n",
              "    }\n",
              "\n",
              "    [theme=dark] .colab-df-convert:hover {\n",
              "      background-color: #434B5C;\n",
              "      box-shadow: 0px 1px 3px 1px rgba(0, 0, 0, 0.15);\n",
              "      filter: drop-shadow(0px 1px 2px rgba(0, 0, 0, 0.3));\n",
              "      fill: #FFFFFF;\n",
              "    }\n",
              "  </style>\n",
              "\n",
              "    <script>\n",
              "      const buttonEl =\n",
              "        document.querySelector('#df-358a5ba4-e2a8-4db3-a144-e2f2f56f37ce button.colab-df-convert');\n",
              "      buttonEl.style.display =\n",
              "        google.colab.kernel.accessAllowed ? 'block' : 'none';\n",
              "\n",
              "      async function convertToInteractive(key) {\n",
              "        const element = document.querySelector('#df-358a5ba4-e2a8-4db3-a144-e2f2f56f37ce');\n",
              "        const dataTable =\n",
              "          await google.colab.kernel.invokeFunction('convertToInteractive',\n",
              "                                                    [key], {});\n",
              "        if (!dataTable) return;\n",
              "\n",
              "        const docLinkHtml = 'Like what you see? Visit the ' +\n",
              "          '<a target=\"_blank\" href=https://colab.research.google.com/notebooks/data_table.ipynb>data table notebook</a>'\n",
              "          + ' to learn more about interactive tables.';\n",
              "        element.innerHTML = '';\n",
              "        dataTable['output_type'] = 'display_data';\n",
              "        await google.colab.output.renderOutput(dataTable, element);\n",
              "        const docLink = document.createElement('div');\n",
              "        docLink.innerHTML = docLinkHtml;\n",
              "        element.appendChild(docLink);\n",
              "      }\n",
              "    </script>\n",
              "  </div>\n",
              "\n",
              "\n",
              "    <div id=\"df-76f0cd7a-109a-408b-80be-c58abc58eb13\">\n",
              "      <button class=\"colab-df-quickchart\" onclick=\"quickchart('df-76f0cd7a-109a-408b-80be-c58abc58eb13')\"\n",
              "                title=\"Suggest charts\"\n",
              "                style=\"display:none;\">\n",
              "\n",
              "<svg xmlns=\"http://www.w3.org/2000/svg\" height=\"24px\"viewBox=\"0 0 24 24\"\n",
              "     width=\"24px\">\n",
              "    <g>\n",
              "        <path d=\"M19 3H5c-1.1 0-2 .9-2 2v14c0 1.1.9 2 2 2h14c1.1 0 2-.9 2-2V5c0-1.1-.9-2-2-2zM9 17H7v-7h2v7zm4 0h-2V7h2v10zm4 0h-2v-4h2v4z\"/>\n",
              "    </g>\n",
              "</svg>\n",
              "      </button>\n",
              "\n",
              "<style>\n",
              "  .colab-df-quickchart {\n",
              "      --bg-color: #E8F0FE;\n",
              "      --fill-color: #1967D2;\n",
              "      --hover-bg-color: #E2EBFA;\n",
              "      --hover-fill-color: #174EA6;\n",
              "      --disabled-fill-color: #AAA;\n",
              "      --disabled-bg-color: #DDD;\n",
              "  }\n",
              "\n",
              "  [theme=dark] .colab-df-quickchart {\n",
              "      --bg-color: #3B4455;\n",
              "      --fill-color: #D2E3FC;\n",
              "      --hover-bg-color: #434B5C;\n",
              "      --hover-fill-color: #FFFFFF;\n",
              "      --disabled-bg-color: #3B4455;\n",
              "      --disabled-fill-color: #666;\n",
              "  }\n",
              "\n",
              "  .colab-df-quickchart {\n",
              "    background-color: var(--bg-color);\n",
              "    border: none;\n",
              "    border-radius: 50%;\n",
              "    cursor: pointer;\n",
              "    display: none;\n",
              "    fill: var(--fill-color);\n",
              "    height: 32px;\n",
              "    padding: 0;\n",
              "    width: 32px;\n",
              "  }\n",
              "\n",
              "  .colab-df-quickchart:hover {\n",
              "    background-color: var(--hover-bg-color);\n",
              "    box-shadow: 0 1px 2px rgba(60, 64, 67, 0.3), 0 1px 3px 1px rgba(60, 64, 67, 0.15);\n",
              "    fill: var(--button-hover-fill-color);\n",
              "  }\n",
              "\n",
              "  .colab-df-quickchart-complete:disabled,\n",
              "  .colab-df-quickchart-complete:disabled:hover {\n",
              "    background-color: var(--disabled-bg-color);\n",
              "    fill: var(--disabled-fill-color);\n",
              "    box-shadow: none;\n",
              "  }\n",
              "\n",
              "  .colab-df-spinner {\n",
              "    border: 2px solid var(--fill-color);\n",
              "    border-color: transparent;\n",
              "    border-bottom-color: var(--fill-color);\n",
              "    animation:\n",
              "      spin 1s steps(1) infinite;\n",
              "  }\n",
              "\n",
              "  @keyframes spin {\n",
              "    0% {\n",
              "      border-color: transparent;\n",
              "      border-bottom-color: var(--fill-color);\n",
              "      border-left-color: var(--fill-color);\n",
              "    }\n",
              "    20% {\n",
              "      border-color: transparent;\n",
              "      border-left-color: var(--fill-color);\n",
              "      border-top-color: var(--fill-color);\n",
              "    }\n",
              "    30% {\n",
              "      border-color: transparent;\n",
              "      border-left-color: var(--fill-color);\n",
              "      border-top-color: var(--fill-color);\n",
              "      border-right-color: var(--fill-color);\n",
              "    }\n",
              "    40% {\n",
              "      border-color: transparent;\n",
              "      border-right-color: var(--fill-color);\n",
              "      border-top-color: var(--fill-color);\n",
              "    }\n",
              "    60% {\n",
              "      border-color: transparent;\n",
              "      border-right-color: var(--fill-color);\n",
              "    }\n",
              "    80% {\n",
              "      border-color: transparent;\n",
              "      border-right-color: var(--fill-color);\n",
              "      border-bottom-color: var(--fill-color);\n",
              "    }\n",
              "    90% {\n",
              "      border-color: transparent;\n",
              "      border-bottom-color: var(--fill-color);\n",
              "    }\n",
              "  }\n",
              "</style>\n",
              "\n",
              "      <script>\n",
              "        async function quickchart(key) {\n",
              "          const quickchartButtonEl =\n",
              "            document.querySelector('#' + key + ' button');\n",
              "          quickchartButtonEl.disabled = true;  // To prevent multiple clicks.\n",
              "          quickchartButtonEl.classList.add('colab-df-spinner');\n",
              "          try {\n",
              "            const charts = await google.colab.kernel.invokeFunction(\n",
              "                'suggestCharts', [key], {});\n",
              "          } catch (error) {\n",
              "            console.error('Error during call to suggestCharts:', error);\n",
              "          }\n",
              "          quickchartButtonEl.classList.remove('colab-df-spinner');\n",
              "          quickchartButtonEl.classList.add('colab-df-quickchart-complete');\n",
              "        }\n",
              "        (() => {\n",
              "          let quickchartButtonEl =\n",
              "            document.querySelector('#df-76f0cd7a-109a-408b-80be-c58abc58eb13 button');\n",
              "          quickchartButtonEl.style.display =\n",
              "            google.colab.kernel.accessAllowed ? 'block' : 'none';\n",
              "        })();\n",
              "      </script>\n",
              "    </div>\n",
              "\n",
              "    </div>\n",
              "  </div>\n"
            ],
            "application/vnd.google.colaboratory.intrinsic+json": {
              "type": "dataframe",
              "variable_name": "merged_test_df"
            }
          },
          "metadata": {},
          "execution_count": 555
        }
      ]
    },
    {
      "cell_type": "code",
      "source": [
        "for col in merged_test_df.columns:\n",
        "  print(col)"
      ],
      "metadata": {
        "colab": {
          "base_uri": "https://localhost:8080/"
        },
        "id": "q5jilQo1EIYo",
        "outputId": "94aaaddd-0b6c-4270-d3ac-c1c3f33133d5"
      },
      "execution_count": null,
      "outputs": [
        {
          "output_type": "stream",
          "name": "stdout",
          "text": [
            "site\n",
            "PID\n",
            "lon\n",
            "lat\n",
            "pH\n",
            "alb\n",
            "bio1\n",
            "bio12\n",
            "bio15\n",
            "bio7\n",
            "bp\n",
            "cec20\n",
            "dows\n",
            "ecec20\n",
            "hp20\n",
            "ls\n",
            "lstd\n",
            "lstn\n",
            "mb1\n",
            "mb2\n",
            "mb3\n",
            "mb7\n",
            "mdem\n",
            "para\n",
            "parv\n",
            "ph20\n",
            "slope\n",
            "snd20\n",
            "soc20\n",
            "tim\n",
            "wp\n",
            "xhp20\n",
            "BulkDensity\n",
            "Req_B\n",
            "Req_Ca\n",
            "Req_Cu\n",
            "Req_Fe\n",
            "Req_K\n",
            "Req_Mg\n",
            "Req_Mn\n",
            "Req_N\n",
            "Req_P\n",
            "Req_S\n",
            "Req_Zn\n"
          ]
        }
      ]
    },
    {
      "cell_type": "code",
      "source": [
        "# Drop non-feature columns\n",
        "# List out the non‐feature columns in one flat list\n",
        "drop_cols = [\n",
        "    'site', 'PID',\n",
        "    'Req_B', 'Req_Ca', 'Req_Cu', 'Req_Fe', 'Req_K',\n",
        "    'Req_Mg', 'Req_Mn', 'Req_N', 'Req_P', 'Req_S', 'Req_Zn'\n",
        "]\n",
        "\n",
        "# Drop those columns from merged_test_df\n",
        "new_test_data = merged_test_df.drop(columns=drop_cols)\n",
        "\n",
        "# Verify\n",
        "print(\"Remaining columns:\", new_test_data.columns.tolist())\n",
        "print(\"Shape after dropping:\", new_test_data.shape)\n"
      ],
      "metadata": {
        "colab": {
          "base_uri": "https://localhost:8080/"
        },
        "id": "zagpeA-7V2sV",
        "outputId": "75c75144-5d36-4678-f1d6-2f1c436d671e"
      },
      "execution_count": null,
      "outputs": [
        {
          "output_type": "stream",
          "name": "stdout",
          "text": [
            "Remaining columns: ['lon', 'lat', 'pH', 'alb', 'bio1', 'bio12', 'bio15', 'bio7', 'bp', 'cec20', 'dows', 'ecec20', 'hp20', 'ls', 'lstd', 'lstn', 'mb1', 'mb2', 'mb3', 'mb7', 'mdem', 'para', 'parv', 'ph20', 'slope', 'snd20', 'soc20', 'tim', 'wp', 'xhp20', 'BulkDensity']\n",
            "Shape after dropping: (2418, 31)\n"
          ]
        }
      ]
    },
    {
      "cell_type": "code",
      "source": [
        "new_test_data.shape"
      ],
      "metadata": {
        "colab": {
          "base_uri": "https://localhost:8080/"
        },
        "id": "6lEaDqjGV2hx",
        "outputId": "f007cb96-97e3-4801-f27d-3ce7becda120"
      },
      "execution_count": null,
      "outputs": [
        {
          "output_type": "execute_result",
          "data": {
            "text/plain": [
              "(2418, 31)"
            ]
          },
          "metadata": {},
          "execution_count": 558
        }
      ]
    },
    {
      "cell_type": "code",
      "source": [
        "for col in new_test_data.columns:\n",
        "  print(col)"
      ],
      "metadata": {
        "colab": {
          "base_uri": "https://localhost:8080/"
        },
        "id": "aPCWYvvJXdNg",
        "outputId": "0d88d331-a751-4381-9936-c5e30c645750"
      },
      "execution_count": null,
      "outputs": [
        {
          "output_type": "stream",
          "name": "stdout",
          "text": [
            "lon\n",
            "lat\n",
            "pH\n",
            "alb\n",
            "bio1\n",
            "bio12\n",
            "bio15\n",
            "bio7\n",
            "bp\n",
            "cec20\n",
            "dows\n",
            "ecec20\n",
            "hp20\n",
            "ls\n",
            "lstd\n",
            "lstn\n",
            "mb1\n",
            "mb2\n",
            "mb3\n",
            "mb7\n",
            "mdem\n",
            "para\n",
            "parv\n",
            "ph20\n",
            "slope\n",
            "snd20\n",
            "soc20\n",
            "tim\n",
            "wp\n",
            "xhp20\n",
            "BulkDensity\n"
          ]
        }
      ]
    },
    {
      "cell_type": "code",
      "source": [
        "list(new_test_data.columns)"
      ],
      "metadata": {
        "colab": {
          "base_uri": "https://localhost:8080/"
        },
        "id": "2cZmIgy1FaD-",
        "outputId": "f021acd2-2163-4fe6-e333-d6b958dc633a"
      },
      "execution_count": null,
      "outputs": [
        {
          "output_type": "execute_result",
          "data": {
            "text/plain": [
              "['lon',\n",
              " 'lat',\n",
              " 'pH',\n",
              " 'alb',\n",
              " 'bio1',\n",
              " 'bio12',\n",
              " 'bio15',\n",
              " 'bio7',\n",
              " 'bp',\n",
              " 'cec20',\n",
              " 'dows',\n",
              " 'ecec20',\n",
              " 'hp20',\n",
              " 'ls',\n",
              " 'lstd',\n",
              " 'lstn',\n",
              " 'mb1',\n",
              " 'mb2',\n",
              " 'mb3',\n",
              " 'mb7',\n",
              " 'mdem',\n",
              " 'para',\n",
              " 'parv',\n",
              " 'ph20',\n",
              " 'slope',\n",
              " 'snd20',\n",
              " 'soc20',\n",
              " 'tim',\n",
              " 'wp',\n",
              " 'xhp20',\n",
              " 'BulkDensity']"
            ]
          },
          "metadata": {},
          "execution_count": 560
        }
      ]
    },
    {
      "cell_type": "code",
      "source": [
        "X = new_test_data\n",
        "y = merged_test_df[['Req_B',\n",
        "  'Req_Ca',\n",
        "  'Req_Cu',\n",
        "  'Req_Fe',\n",
        "  'Req_K',\n",
        "  'Req_Mg',\n",
        "  'Req_Mn',\n",
        "  'Req_N',\n",
        "  'Req_P',\n",
        "  'Req_S',\n",
        "  'Req_Zn']]"
      ],
      "metadata": {
        "id": "1RKV_8KJcis-"
      },
      "execution_count": null,
      "outputs": []
    },
    {
      "cell_type": "code",
      "source": [
        "X.shape, y.shape"
      ],
      "metadata": {
        "colab": {
          "base_uri": "https://localhost:8080/"
        },
        "id": "KHkgvOiLdCeJ",
        "outputId": "77cf4107-a1f5-4ca8-8e52-8547a658f7a3"
      },
      "execution_count": null,
      "outputs": [
        {
          "output_type": "execute_result",
          "data": {
            "text/plain": [
              "((2418, 31), (2418, 11))"
            ]
          },
          "metadata": {},
          "execution_count": 562
        }
      ]
    },
    {
      "cell_type": "code",
      "source": [
        "preds_full = multi_rf.predict(X)\n",
        "preds_full.shape"
      ],
      "metadata": {
        "colab": {
          "base_uri": "https://localhost:8080/"
        },
        "id": "V47RMQNz5pv_",
        "outputId": "2612d6a5-f7a1-46da-cead-69837a058bcf"
      },
      "execution_count": null,
      "outputs": [
        {
          "output_type": "execute_result",
          "data": {
            "text/plain": [
              "(2418, 11)"
            ]
          },
          "metadata": {},
          "execution_count": 563
        }
      ]
    },
    {
      "cell_type": "code",
      "source": [
        "# Convert preds_full into a DataFrame\n",
        "\n",
        "col_names = y.columns.tolist()\n",
        "\n",
        "preds_df = pd.DataFrame(preds_full, columns=col_names)\n",
        "\n",
        "print(preds_df.columns)\n",
        "print(preds_df.head())"
      ],
      "metadata": {
        "colab": {
          "base_uri": "https://localhost:8080/"
        },
        "id": "iMUmIXukJ5kK",
        "outputId": "ef581589-bf5b-4883-c19f-840336315b14"
      },
      "execution_count": null,
      "outputs": [
        {
          "output_type": "stream",
          "name": "stdout",
          "text": [
            "Index(['Req_B', 'Req_Ca', 'Req_Cu', 'Req_Fe', 'Req_K', 'Req_Mg', 'Req_Mn',\n",
            "       'Req_N', 'Req_P', 'Req_S', 'Req_Zn'],\n",
            "      dtype='object')\n",
            "      Req_B      Req_Ca     Req_Cu     Req_Fe     Req_K     Req_Mg    Req_Mn  \\\n",
            "0 -0.461552 -14918.8634 -12.396686 -324.33250 -353.5204 -4095.6538 -375.4548   \n",
            "1 -0.447146 -15870.1526 -11.921492 -280.61944 -340.4522 -5464.0810 -382.0058   \n",
            "2 -0.495820 -13397.8820 -11.943414 -341.20460 -357.8598 -4387.0202 -389.7280   \n",
            "3 -0.506064 -14010.3576 -12.158618 -353.23946 -353.1620 -4506.4320 -385.2876   \n",
            "4 -0.423098 -11576.7152  -9.824004 -309.40296 -414.6404 -3579.7242 -357.8694   \n",
            "\n",
            "      Req_N      Req_P      Req_S    Req_Zn  \n",
            "0 -4667.632  -4.309384 -11.238414 -4.023982  \n",
            "1 -3043.810  19.218436 -11.493892 -2.726818  \n",
            "2 -4860.562  32.215716  -9.871214 -3.729908  \n",
            "3 -5006.726  33.992968 -10.115650 -4.571270  \n",
            "4 -4465.954  25.966968  -8.457940 -4.193122  \n"
          ]
        }
      ]
    },
    {
      "cell_type": "code",
      "source": [
        "# Build a long‐format DataFrame of predictions\n",
        "# all_preds = []\n",
        "# for idx, nutrient in enumerate(y.columns):\n",
        "#     df_sub = pd.DataFrame({\n",
        "#         'PID': merged_test_df['PID'],\n",
        "#         'Nutrient': nutrient.replace('Req_', ''),\n",
        "#         'Gap': preds_full[:, idx]\n",
        "#     })\n",
        "#     all_preds.append(df_sub)\n",
        "\n",
        "# SampleSubmission = pd.concat(all_preds, axis=0)\n",
        "# SampleSubmission['PID'] = SampleSubmission['PID'].astype(str) + '_' + SampleSubmission['Nutrient']\n",
        "# SampleSubmission = SampleSubmission[['PID', 'Gap']]\n",
        "# SampleSubmission.to_csv('SampleSubmission.csv', index=False)\n",
        "# print(\"✅ SampleSubmission.csv created (shape:\", SampleSubmission.shape, \")\")\n"
      ],
      "metadata": {
        "id": "UetLLAj25pt6"
      },
      "execution_count": null,
      "outputs": []
    },
    {
      "cell_type": "code",
      "source": [],
      "metadata": {
        "id": "4hVoIWaPqHAM"
      },
      "execution_count": null,
      "outputs": []
    },
    {
      "cell_type": "code",
      "source": [],
      "metadata": {
        "id": "_HPddM5PqG-D"
      },
      "execution_count": null,
      "outputs": []
    },
    {
      "cell_type": "markdown",
      "source": [
        "#### Remote sensing data"
      ],
      "metadata": {
        "id": "a9Myv0PbrbFh"
      }
    },
    {
      "cell_type": "code",
      "source": [
        "MODIS_MOD16A2 = pd.read_csv('MODIS_MOD16A2_data.csv')\n",
        "MODIS_MOD13Q1 = pd.read_csv(\"MODIS_MOD13Q1_data.csv\")"
      ],
      "metadata": {
        "id": "sKGdPIGaqG2N"
      },
      "execution_count": null,
      "outputs": []
    },
    {
      "cell_type": "code",
      "source": [],
      "metadata": {
        "id": "QgfQeXiKsVNT"
      },
      "execution_count": null,
      "outputs": []
    },
    {
      "cell_type": "code",
      "source": [
        "MODIS_MOD16A2.shape, MODIS_MOD13Q1.shape"
      ],
      "metadata": {
        "colab": {
          "base_uri": "https://localhost:8080/"
        },
        "id": "9aCaV7YeqGzQ",
        "outputId": "240c673f-93ba-4970-c657-67400583f200"
      },
      "execution_count": null,
      "outputs": [
        {
          "output_type": "execute_result",
          "data": {
            "text/plain": [
              "((935363, 6), (545563, 13))"
            ]
          },
          "metadata": {},
          "execution_count": 568
        }
      ]
    },
    {
      "cell_type": "code",
      "source": [
        "for col in MODIS_MOD13Q1.columns:\n",
        "  print(col)"
      ],
      "metadata": {
        "colab": {
          "base_uri": "https://localhost:8080/"
        },
        "id": "wEkKpF8yqGvz",
        "outputId": "dda26912-793d-43e4-9da4-65136a7727d8"
      },
      "execution_count": null,
      "outputs": [
        {
          "output_type": "stream",
          "name": "stdout",
          "text": [
            "EVI\n",
            "NDVI\n",
            "RelativeAzimuth\n",
            "SolarZenith\n",
            "ViewZenith\n",
            "date\n",
            "lat\n",
            "lon\n",
            "sur_refl_b01\n",
            "sur_refl_b02\n",
            "sur_refl_b03\n",
            "sur_refl_b07\n",
            "PID\n"
          ]
        }
      ]
    },
    {
      "cell_type": "code",
      "source": [
        "for col in MODIS_MOD16A2.columns:\n",
        "  print(col)"
      ],
      "metadata": {
        "colab": {
          "base_uri": "https://localhost:8080/"
        },
        "id": "pr66uE0tqGrv",
        "outputId": "16a3506c-260f-43d9-d8a5-5997d84786f2"
      },
      "execution_count": null,
      "outputs": [
        {
          "output_type": "stream",
          "name": "stdout",
          "text": [
            "ET\n",
            "PET\n",
            "date\n",
            "lat\n",
            "lon\n",
            "PID\n"
          ]
        }
      ]
    },
    {
      "cell_type": "code",
      "source": [
        "# Create a copy of the DataFrames\n",
        "mod09_df = MODIS_MOD16A2.copy()\n",
        "mod13_df = MODIS_MOD13Q1.copy()"
      ],
      "metadata": {
        "id": "qlLkkXffqGpm"
      },
      "execution_count": null,
      "outputs": []
    },
    {
      "cell_type": "code",
      "source": [
        "# Average over time coz we have multiple dates per PID\n",
        "mod09_avg = mod09_df.groupby(\"PID\")[[\"ET\", \"PET\"]].mean().reset_index()\n",
        "mod13_avg = mod13_df.groupby(\"PID\")[[\n",
        "    \"EVI\", \"NDVI\", \"RelativeAzimuth\", \"SolarZenith\", \"ViewZenith\",\n",
        "    \"sur_refl_b01\", \"sur_refl_b02\", \"sur_refl_b03\", \"sur_refl_b07\"\n",
        "]].mean().reset_index()"
      ],
      "metadata": {
        "id": "dk-EhK_CqF-u"
      },
      "execution_count": null,
      "outputs": []
    },
    {
      "cell_type": "code",
      "source": [
        "# Merge MODIS datasets on PID\n",
        "modis_combined = pd.merge(mod09_avg, mod13_avg, on=\"PID\", how=\"outer\")"
      ],
      "metadata": {
        "id": "ePndicCrzDYJ"
      },
      "execution_count": null,
      "outputs": []
    },
    {
      "cell_type": "code",
      "source": [
        "for col in modis_combined.columns:\n",
        "  print(col)"
      ],
      "metadata": {
        "colab": {
          "base_uri": "https://localhost:8080/"
        },
        "id": "rBh-IWq_6OUp",
        "outputId": "6779006a-520e-47bd-d868-9b88de2eeb9f"
      },
      "execution_count": null,
      "outputs": [
        {
          "output_type": "stream",
          "name": "stdout",
          "text": [
            "PID\n",
            "ET\n",
            "PET\n",
            "EVI\n",
            "NDVI\n",
            "RelativeAzimuth\n",
            "SolarZenith\n",
            "ViewZenith\n",
            "sur_refl_b01\n",
            "sur_refl_b02\n",
            "sur_refl_b03\n",
            "sur_refl_b07\n"
          ]
        }
      ]
    },
    {
      "cell_type": "code",
      "source": [
        "final_data = pd.merge(merged_test_df, modis_combined, on=\"PID\", how=\"left\")\n"
      ],
      "metadata": {
        "id": "KWcTxF0lzDUZ"
      },
      "execution_count": null,
      "outputs": []
    },
    {
      "cell_type": "code",
      "source": [
        "for col in final_data.columns:\n",
        "  print(col)"
      ],
      "metadata": {
        "colab": {
          "base_uri": "https://localhost:8080/"
        },
        "id": "UcH5Dq5TzDSM",
        "outputId": "e6f21d10-33e0-488b-af2e-b8f6674a420f"
      },
      "execution_count": null,
      "outputs": [
        {
          "output_type": "stream",
          "name": "stdout",
          "text": [
            "site\n",
            "PID\n",
            "lon\n",
            "lat\n",
            "pH\n",
            "alb\n",
            "bio1\n",
            "bio12\n",
            "bio15\n",
            "bio7\n",
            "bp\n",
            "cec20\n",
            "dows\n",
            "ecec20\n",
            "hp20\n",
            "ls\n",
            "lstd\n",
            "lstn\n",
            "mb1\n",
            "mb2\n",
            "mb3\n",
            "mb7\n",
            "mdem\n",
            "para\n",
            "parv\n",
            "ph20\n",
            "slope\n",
            "snd20\n",
            "soc20\n",
            "tim\n",
            "wp\n",
            "xhp20\n",
            "BulkDensity\n",
            "Req_B\n",
            "Req_Ca\n",
            "Req_Cu\n",
            "Req_Fe\n",
            "Req_K\n",
            "Req_Mg\n",
            "Req_Mn\n",
            "Req_N\n",
            "Req_P\n",
            "Req_S\n",
            "Req_Zn\n",
            "ET\n",
            "PET\n",
            "EVI\n",
            "NDVI\n",
            "RelativeAzimuth\n",
            "SolarZenith\n",
            "ViewZenith\n",
            "sur_refl_b01\n",
            "sur_refl_b02\n",
            "sur_refl_b03\n",
            "sur_refl_b07\n"
          ]
        }
      ]
    },
    {
      "cell_type": "code",
      "source": [
        "final_data = final_data.drop(columns=['PID', 'site'])"
      ],
      "metadata": {
        "id": "RPpDMa2KzDOf"
      },
      "execution_count": null,
      "outputs": []
    },
    {
      "cell_type": "code",
      "source": [
        "for col in final_data.columns:\n",
        "  print(col)"
      ],
      "metadata": {
        "colab": {
          "base_uri": "https://localhost:8080/"
        },
        "id": "tjePLpfhzDMK",
        "outputId": "4a482b58-af59-4872-bcf5-3182a3459734"
      },
      "execution_count": null,
      "outputs": [
        {
          "output_type": "stream",
          "name": "stdout",
          "text": [
            "lon\n",
            "lat\n",
            "pH\n",
            "alb\n",
            "bio1\n",
            "bio12\n",
            "bio15\n",
            "bio7\n",
            "bp\n",
            "cec20\n",
            "dows\n",
            "ecec20\n",
            "hp20\n",
            "ls\n",
            "lstd\n",
            "lstn\n",
            "mb1\n",
            "mb2\n",
            "mb3\n",
            "mb7\n",
            "mdem\n",
            "para\n",
            "parv\n",
            "ph20\n",
            "slope\n",
            "snd20\n",
            "soc20\n",
            "tim\n",
            "wp\n",
            "xhp20\n",
            "BulkDensity\n",
            "Req_B\n",
            "Req_Ca\n",
            "Req_Cu\n",
            "Req_Fe\n",
            "Req_K\n",
            "Req_Mg\n",
            "Req_Mn\n",
            "Req_N\n",
            "Req_P\n",
            "Req_S\n",
            "Req_Zn\n",
            "ET\n",
            "PET\n",
            "EVI\n",
            "NDVI\n",
            "RelativeAzimuth\n",
            "SolarZenith\n",
            "ViewZenith\n",
            "sur_refl_b01\n",
            "sur_refl_b02\n",
            "sur_refl_b03\n",
            "sur_refl_b07\n"
          ]
        }
      ]
    },
    {
      "cell_type": "code",
      "source": [
        "y = final_data[['Req_B',\n",
        "  'Req_Ca',\n",
        "  'Req_Cu',\n",
        "  'Req_Fe',\n",
        "  'Req_K',\n",
        "  'Req_Mg',\n",
        "  'Req_Mn',\n",
        "  'Req_N',\n",
        "  'Req_P',\n",
        "  'Req_S',\n",
        "  'Req_Zn']]\n",
        "X = final_data"
      ],
      "metadata": {
        "id": "0Dl3xxpz2CNT"
      },
      "execution_count": null,
      "outputs": []
    },
    {
      "cell_type": "code",
      "source": [
        "for col in merged_test_df.columns:\n",
        "  print(col)"
      ],
      "metadata": {
        "colab": {
          "base_uri": "https://localhost:8080/"
        },
        "id": "dYWmv-Hyoqiz",
        "outputId": "641c60c9-613b-4c64-d864-ebc2e25cebfa"
      },
      "execution_count": null,
      "outputs": [
        {
          "output_type": "stream",
          "name": "stdout",
          "text": [
            "site\n",
            "PID\n",
            "lon\n",
            "lat\n",
            "pH\n",
            "alb\n",
            "bio1\n",
            "bio12\n",
            "bio15\n",
            "bio7\n",
            "bp\n",
            "cec20\n",
            "dows\n",
            "ecec20\n",
            "hp20\n",
            "ls\n",
            "lstd\n",
            "lstn\n",
            "mb1\n",
            "mb2\n",
            "mb3\n",
            "mb7\n",
            "mdem\n",
            "para\n",
            "parv\n",
            "ph20\n",
            "slope\n",
            "snd20\n",
            "soc20\n",
            "tim\n",
            "wp\n",
            "xhp20\n",
            "BulkDensity\n",
            "Req_B\n",
            "Req_Ca\n",
            "Req_Cu\n",
            "Req_Fe\n",
            "Req_K\n",
            "Req_Mg\n",
            "Req_Mn\n",
            "Req_N\n",
            "Req_P\n",
            "Req_S\n",
            "Req_Zn\n"
          ]
        }
      ]
    },
    {
      "cell_type": "code",
      "source": [
        "X.shape, y.shape"
      ],
      "metadata": {
        "colab": {
          "base_uri": "https://localhost:8080/"
        },
        "id": "ZqtsYjROn2-8",
        "outputId": "4845bce5-2e12-49b3-8220-f9f1230e83f7"
      },
      "execution_count": null,
      "outputs": [
        {
          "output_type": "execute_result",
          "data": {
            "text/plain": [
              "((2418, 53), (2418, 11))"
            ]
          },
          "metadata": {},
          "execution_count": 581
        }
      ]
    },
    {
      "cell_type": "code",
      "source": [
        "for col in merged_train_df.columns:\n",
        "  print(col)"
      ],
      "metadata": {
        "colab": {
          "base_uri": "https://localhost:8080/"
        },
        "id": "Lp8dCCgKjSpe",
        "outputId": "49b42951-128a-43e2-b1f9-1d6e5226c8c0"
      },
      "execution_count": null,
      "outputs": [
        {
          "output_type": "stream",
          "name": "stdout",
          "text": [
            "site\n",
            "PID\n",
            "lon\n",
            "lat\n",
            "pH\n",
            "alb\n",
            "bio1\n",
            "bio12\n",
            "bio15\n",
            "bio7\n",
            "bp\n",
            "cec20\n",
            "dows\n",
            "ecec20\n",
            "hp20\n",
            "ls\n",
            "lstd\n",
            "lstn\n",
            "mb1\n",
            "mb2\n",
            "mb3\n",
            "mb7\n",
            "mdem\n",
            "para\n",
            "parv\n",
            "ph20\n",
            "slope\n",
            "snd20\n",
            "soc20\n",
            "tim\n",
            "wp\n",
            "xhp20\n",
            "BulkDensity\n",
            "N\n",
            "P\n",
            "K\n",
            "Ca\n",
            "Mg\n",
            "S\n",
            "Fe\n",
            "Mn\n",
            "Zn\n",
            "Cu\n",
            "B\n",
            "Gap_B\n",
            "Gap_Ca\n",
            "Gap_Cu\n",
            "Gap_Fe\n",
            "Gap_K\n",
            "Gap_Mg\n",
            "Gap_Mn\n",
            "Gap_N\n",
            "Gap_P\n",
            "Gap_S\n",
            "Gap_Zn\n"
          ]
        }
      ]
    },
    {
      "cell_type": "code",
      "source": [
        "X.shape, y.shape"
      ],
      "metadata": {
        "colab": {
          "base_uri": "https://localhost:8080/"
        },
        "id": "7x4Ugg3L2J4V",
        "outputId": "4b283277-7277-443f-dbf2-6f505ea5ce14"
      },
      "execution_count": null,
      "outputs": [
        {
          "output_type": "execute_result",
          "data": {
            "text/plain": [
              "((2418, 53), (2418, 11))"
            ]
          },
          "metadata": {},
          "execution_count": 583
        }
      ]
    },
    {
      "cell_type": "code",
      "source": [
        "from sklearn.ensemble import RandomForestRegressor\n",
        "from sklearn.multioutput import MultiOutputRegressor\n",
        "from sklearn.metrics import mean_squared_error\n",
        "\n",
        "# Instantiate a base regressor (e.g. RandomForest)\n",
        "base_rf = RandomForestRegressor(\n",
        "    n_estimators=100,\n",
        "    random_state=42,\n",
        "    n_jobs=-1\n",
        ")\n",
        "\n",
        "# Wrap it in MultiOutputRegressor\n",
        "multi_rf = MultiOutputRegressor(base_rf)\n",
        "\n",
        "# Fit on the training split\n",
        "multi_rf.fit(X, y)\n",
        "\n",
        "# Predict on validation split\n",
        "y_pred = multi_rf.predict(X)"
      ],
      "metadata": {
        "id": "bQclxC7X2hag"
      },
      "execution_count": null,
      "outputs": []
    },
    {
      "cell_type": "code",
      "source": [
        "for col in X.columns:\n",
        "  print(col)"
      ],
      "metadata": {
        "colab": {
          "base_uri": "https://localhost:8080/"
        },
        "id": "b34nplekarJD",
        "outputId": "b39eab94-d14c-4fe2-c2e9-725144a1aafd"
      },
      "execution_count": null,
      "outputs": [
        {
          "output_type": "stream",
          "name": "stdout",
          "text": [
            "lon\n",
            "lat\n",
            "pH\n",
            "alb\n",
            "bio1\n",
            "bio12\n",
            "bio15\n",
            "bio7\n",
            "bp\n",
            "cec20\n",
            "dows\n",
            "ecec20\n",
            "hp20\n",
            "ls\n",
            "lstd\n",
            "lstn\n",
            "mb1\n",
            "mb2\n",
            "mb3\n",
            "mb7\n",
            "mdem\n",
            "para\n",
            "parv\n",
            "ph20\n",
            "slope\n",
            "snd20\n",
            "soc20\n",
            "tim\n",
            "wp\n",
            "xhp20\n",
            "BulkDensity\n",
            "Req_B\n",
            "Req_Ca\n",
            "Req_Cu\n",
            "Req_Fe\n",
            "Req_K\n",
            "Req_Mg\n",
            "Req_Mn\n",
            "Req_N\n",
            "Req_P\n",
            "Req_S\n",
            "Req_Zn\n",
            "ET\n",
            "PET\n",
            "EVI\n",
            "NDVI\n",
            "RelativeAzimuth\n",
            "SolarZenith\n",
            "ViewZenith\n",
            "sur_refl_b01\n",
            "sur_refl_b02\n",
            "sur_refl_b03\n",
            "sur_refl_b07\n"
          ]
        }
      ]
    },
    {
      "cell_type": "code",
      "source": [
        "y_pred.shape"
      ],
      "metadata": {
        "colab": {
          "base_uri": "https://localhost:8080/"
        },
        "id": "53GbhFbe3mH6",
        "outputId": "58e886e7-27ca-4e8e-f7c4-31ac9442e976"
      },
      "execution_count": null,
      "outputs": [
        {
          "output_type": "execute_result",
          "data": {
            "text/plain": [
              "(2418, 11)"
            ]
          },
          "metadata": {},
          "execution_count": 586
        }
      ]
    },
    {
      "cell_type": "code",
      "source": [
        "from sklearn.metrics import mean_squared_error\n",
        "import numpy as np\n",
        "\n",
        "# After you’ve trained and predicted (y is shape [n_val, 11])\n",
        "\n",
        "for idx, nutrient in enumerate(y.columns):\n",
        "    mse = mean_squared_error(\n",
        "        y.iloc[:, idx],\n",
        "        y_pred[:, idx]\n",
        "    )\n",
        "    rmse = np.sqrt(mse)\n",
        "    print(f\"{nutrient}:   RMSE = {rmse:.3f}\")\n",
        "\n",
        "# Overall RMSE across all nutrient gaps:\n",
        "overall_mse = mean_squared_error(\n",
        "    y.values.flatten(),\n",
        "    y_pred.flatten()\n",
        ")\n",
        "overall_rmse = np.sqrt(overall_mse)\n",
        "print(f\"\\nOverall RMSE (all gaps combined): {overall_rmse:.3f}\")"
      ],
      "metadata": {
        "colab": {
          "base_uri": "https://localhost:8080/"
        },
        "id": "GQ_hOSR52hYc",
        "outputId": "255be680-546d-4293-90aa-c8ee19b2a13d"
      },
      "execution_count": null,
      "outputs": [
        {
          "output_type": "stream",
          "name": "stdout",
          "text": [
            "Req_B:   RMSE = 0.000\n",
            "Req_Ca:   RMSE = 0.000\n",
            "Req_Cu:   RMSE = 0.000\n",
            "Req_Fe:   RMSE = 0.000\n",
            "Req_K:   RMSE = 0.000\n",
            "Req_Mg:   RMSE = 0.000\n",
            "Req_Mn:   RMSE = 0.000\n",
            "Req_N:   RMSE = 0.000\n",
            "Req_P:   RMSE = 0.000\n",
            "Req_S:   RMSE = 0.000\n",
            "Req_Zn:   RMSE = 0.000\n",
            "\n",
            "Overall RMSE (all gaps combined): 0.000\n"
          ]
        }
      ]
    },
    {
      "cell_type": "code",
      "source": [
        "# Build a long‐format DataFrame of predictions\n",
        "all_preds = []\n",
        "for idx, nutrient in enumerate(y.columns):\n",
        "     df_sub = pd.DataFrame({\n",
        "         'PID': merged_test_df['PID'],\n",
        "         'Nutrient': nutrient.replace('Req_', ''),\n",
        "         'Gap': preds_full[:, idx]\n",
        "     })\n",
        "     all_preds.append(df_sub)\n",
        "\n",
        "SampleSubmission = pd.concat(all_preds, axis=0)\n",
        "SampleSubmission['PID'] = SampleSubmission['PID'].astype(str) + '_' + SampleSubmission['Nutrient']\n",
        "SampleSubmission = SampleSubmission[['PID', 'Gap']]\n",
        "SampleSubmission.to_csv('SampleSubmission.csv', index=False)\n",
        "print(\"✅ SampleSubmission.csv created (shape:\", SampleSubmission.shape, \")\")"
      ],
      "metadata": {
        "colab": {
          "base_uri": "https://localhost:8080/"
        },
        "id": "FkDHHmu02hUT",
        "outputId": "25815029-2737-4557-c3cc-90f35fcf7989"
      },
      "execution_count": null,
      "outputs": [
        {
          "output_type": "stream",
          "name": "stdout",
          "text": [
            "✅ SampleSubmission.csv created (shape: (26598, 2) )\n"
          ]
        }
      ]
    },
    {
      "cell_type": "code",
      "source": [],
      "metadata": {
        "id": "xZ92UHEn2hSP"
      },
      "execution_count": null,
      "outputs": []
    },
    {
      "cell_type": "code",
      "source": [],
      "metadata": {
        "id": "SvaCV9UX2hOP"
      },
      "execution_count": null,
      "outputs": []
    },
    {
      "cell_type": "code",
      "source": [],
      "metadata": {
        "id": "tE-rxAyy2hME"
      },
      "execution_count": null,
      "outputs": []
    }
  ]
}