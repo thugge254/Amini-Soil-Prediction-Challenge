{
  "nbformat": 4,
  "nbformat_minor": 0,
  "metadata": {
    "colab": {
      "provenance": [],
      "authorship_tag": "ABX9TyOzd8TXIehlXdXYcfELd4KR"
    },
    "kernelspec": {
      "name": "python3",
      "display_name": "Python 3"
    },
    "language_info": {
      "name": "python"
    }
  },
  "cells": [
    {
      "cell_type": "markdown",
      "source": [
        "# Amini Soil Prediction Challenge"
      ],
      "metadata": {
        "id": "PdxZXVd9jCHD"
      }
    },
    {
      "cell_type": "markdown",
      "source": [
        "#### Load required packages"
      ],
      "metadata": {
        "id": "3lV8MI4Njl2y"
      }
    },
    {
      "cell_type": "code",
      "source": [
        "import pandas as pd\n",
        "import numpy as np\n",
        "import matplotlib.pyplot as plt\n",
        "import seaborn as sns\n",
        "from sklearn.model_selection import train_test_split\n",
        "from sklearn.preprocessing import StandardScaler\n",
        "from sklearn.multioutput import MultiOutputRegressor\n",
        "from sklearn.ensemble import RandomForestRegressor\n",
        "from sklearn.metrics import mean_absolute_error, mean_squared_error\n",
        "\n",
        "import warnings\n",
        "warnings.filterwarnings('ignore')"
      ],
      "metadata": {
        "id": "hnBKFvvBjFpI"
      },
      "execution_count": 149,
      "outputs": []
    },
    {
      "cell_type": "code",
      "source": [
        "# Load datasets\n",
        "train_df = pd.read_csv('Train.csv')\n",
        "train_gap_df = pd.read_csv('Gap_Train.csv')\n",
        "test_df = pd.read_csv('Test.csv')\n",
        "test_gap_df = pd.read_csv('Gap_Test.csv')"
      ],
      "metadata": {
        "id": "i9DRphemj7U7"
      },
      "execution_count": 150,
      "outputs": []
    },
    {
      "cell_type": "markdown",
      "source": [
        "### Check the shpe of test and train data"
      ],
      "metadata": {
        "id": "cxYfwWKH30VH"
      }
    },
    {
      "cell_type": "code",
      "source": [
        "train_df.shape, train_gap_df.shape"
      ],
      "metadata": {
        "colab": {
          "base_uri": "https://localhost:8080/"
        },
        "id": "bpiw_fxadzdd",
        "outputId": "697c99c1-276a-480d-f324-7167551315fc"
      },
      "execution_count": 170,
      "outputs": [
        {
          "output_type": "execute_result",
          "data": {
            "text/plain": [
              "((7744, 44), (85184, 5))"
            ]
          },
          "metadata": {},
          "execution_count": 170
        }
      ]
    },
    {
      "cell_type": "code",
      "source": [
        "# Pivot train_gap_df so each PID has one row and each nutrient has its own column\n",
        "gap_wide = train_gap_df.pivot(index=\"PID\", columns=\"Nutrient\", values=\"Gap\")\n",
        "\n",
        "# Rename columns to make them clear as gap targets\n",
        "gap_wide.columns = [f\"Gap_{col}\" for col in gap_wide.columns]\n",
        "\n",
        "# Reset index so PID is a column again (not the index)\n",
        "gap_wide = gap_wide.reset_index()\n",
        "\n",
        "# Merge gap values into train_df using PID\n",
        "merged_train_df = train_df.merge(gap_wide, on=\"PID\", how=\"left\")\n",
        "\n",
        "# Preview the result\n",
        "merged_train_df.head()\n"
      ],
      "metadata": {
        "colab": {
          "base_uri": "https://localhost:8080/",
          "height": 256
        },
        "id": "8AFZwuQdbWWU",
        "outputId": "757625f8-e437-4179-ee54-28490de908ec"
      },
      "execution_count": 152,
      "outputs": [
        {
          "output_type": "execute_result",
          "data": {
            "text/plain": [
              "             site        PID        lon        lat    pH  alb  bio1  bio12  \\\n",
              "0  site_id_bIEHwl  ID_I5RGjv  70.603761  46.173798  7.75  176   248    920   \n",
              "1  site_id_nGvnKc  ID_8jWzJ5  70.590479  46.078924  7.10  181   250   1080   \n",
              "2  site_id_nGvnKc  ID_UgzkN8  70.582553  46.048820  6.95  188   250   1109   \n",
              "3  site_id_nGvnKc  ID_DLLHM9  70.573267  46.021910  7.83  174   250   1149   \n",
              "4  site_id_7SA9rO  ID_d009mj  70.585330  46.204336  8.07  188   250    869   \n",
              "\n",
              "   bio15  bio7  ...   Gap_Ca   Gap_Cu   Gap_Fe   Gap_K   Gap_Mg   Gap_Mn  \\\n",
              "0    108   190  ... -19931.6  -8.5016 -218.784 -377.24 -6737.20  -247.80   \n",
              "1    113   191  ...  -3575.2 -12.9328 -291.648 -407.04  -706.40 -1242.96   \n",
              "2    111   191  ...  -5506.8  -3.4208 -223.164 -388.92  -996.48  -189.40   \n",
              "3    112   191  ... -19701.6  -8.9168 -241.624 -542.96 -2120.24  -215.68   \n",
              "4    114   191  ... -20980.4  -8.4658 -197.684 -205.40 -3309.60  -425.74   \n",
              "\n",
              "     Gap_N    Gap_P    Gap_S   Gap_Zn  \n",
              "0  -3696.0  39.0072  -4.5272  -1.9944  \n",
              "1  -4156.0   4.4320 -46.9760  -7.4128  \n",
              "2 -10120.0 -23.6560 -20.1200  -5.2940  \n",
              "3  -6708.0 -78.1040 -32.1040 -14.1040  \n",
              "4  -2588.4  37.1400 -12.7676  -1.1730  \n",
              "\n",
              "[5 rows x 55 columns]"
            ],
            "text/html": [
              "\n",
              "  <div id=\"df-52ec5aed-7a7c-4f12-906d-e54e629a93c8\" class=\"colab-df-container\">\n",
              "    <div>\n",
              "<style scoped>\n",
              "    .dataframe tbody tr th:only-of-type {\n",
              "        vertical-align: middle;\n",
              "    }\n",
              "\n",
              "    .dataframe tbody tr th {\n",
              "        vertical-align: top;\n",
              "    }\n",
              "\n",
              "    .dataframe thead th {\n",
              "        text-align: right;\n",
              "    }\n",
              "</style>\n",
              "<table border=\"1\" class=\"dataframe\">\n",
              "  <thead>\n",
              "    <tr style=\"text-align: right;\">\n",
              "      <th></th>\n",
              "      <th>site</th>\n",
              "      <th>PID</th>\n",
              "      <th>lon</th>\n",
              "      <th>lat</th>\n",
              "      <th>pH</th>\n",
              "      <th>alb</th>\n",
              "      <th>bio1</th>\n",
              "      <th>bio12</th>\n",
              "      <th>bio15</th>\n",
              "      <th>bio7</th>\n",
              "      <th>...</th>\n",
              "      <th>Gap_Ca</th>\n",
              "      <th>Gap_Cu</th>\n",
              "      <th>Gap_Fe</th>\n",
              "      <th>Gap_K</th>\n",
              "      <th>Gap_Mg</th>\n",
              "      <th>Gap_Mn</th>\n",
              "      <th>Gap_N</th>\n",
              "      <th>Gap_P</th>\n",
              "      <th>Gap_S</th>\n",
              "      <th>Gap_Zn</th>\n",
              "    </tr>\n",
              "  </thead>\n",
              "  <tbody>\n",
              "    <tr>\n",
              "      <th>0</th>\n",
              "      <td>site_id_bIEHwl</td>\n",
              "      <td>ID_I5RGjv</td>\n",
              "      <td>70.603761</td>\n",
              "      <td>46.173798</td>\n",
              "      <td>7.75</td>\n",
              "      <td>176</td>\n",
              "      <td>248</td>\n",
              "      <td>920</td>\n",
              "      <td>108</td>\n",
              "      <td>190</td>\n",
              "      <td>...</td>\n",
              "      <td>-19931.6</td>\n",
              "      <td>-8.5016</td>\n",
              "      <td>-218.784</td>\n",
              "      <td>-377.24</td>\n",
              "      <td>-6737.20</td>\n",
              "      <td>-247.80</td>\n",
              "      <td>-3696.0</td>\n",
              "      <td>39.0072</td>\n",
              "      <td>-4.5272</td>\n",
              "      <td>-1.9944</td>\n",
              "    </tr>\n",
              "    <tr>\n",
              "      <th>1</th>\n",
              "      <td>site_id_nGvnKc</td>\n",
              "      <td>ID_8jWzJ5</td>\n",
              "      <td>70.590479</td>\n",
              "      <td>46.078924</td>\n",
              "      <td>7.10</td>\n",
              "      <td>181</td>\n",
              "      <td>250</td>\n",
              "      <td>1080</td>\n",
              "      <td>113</td>\n",
              "      <td>191</td>\n",
              "      <td>...</td>\n",
              "      <td>-3575.2</td>\n",
              "      <td>-12.9328</td>\n",
              "      <td>-291.648</td>\n",
              "      <td>-407.04</td>\n",
              "      <td>-706.40</td>\n",
              "      <td>-1242.96</td>\n",
              "      <td>-4156.0</td>\n",
              "      <td>4.4320</td>\n",
              "      <td>-46.9760</td>\n",
              "      <td>-7.4128</td>\n",
              "    </tr>\n",
              "    <tr>\n",
              "      <th>2</th>\n",
              "      <td>site_id_nGvnKc</td>\n",
              "      <td>ID_UgzkN8</td>\n",
              "      <td>70.582553</td>\n",
              "      <td>46.048820</td>\n",
              "      <td>6.95</td>\n",
              "      <td>188</td>\n",
              "      <td>250</td>\n",
              "      <td>1109</td>\n",
              "      <td>111</td>\n",
              "      <td>191</td>\n",
              "      <td>...</td>\n",
              "      <td>-5506.8</td>\n",
              "      <td>-3.4208</td>\n",
              "      <td>-223.164</td>\n",
              "      <td>-388.92</td>\n",
              "      <td>-996.48</td>\n",
              "      <td>-189.40</td>\n",
              "      <td>-10120.0</td>\n",
              "      <td>-23.6560</td>\n",
              "      <td>-20.1200</td>\n",
              "      <td>-5.2940</td>\n",
              "    </tr>\n",
              "    <tr>\n",
              "      <th>3</th>\n",
              "      <td>site_id_nGvnKc</td>\n",
              "      <td>ID_DLLHM9</td>\n",
              "      <td>70.573267</td>\n",
              "      <td>46.021910</td>\n",
              "      <td>7.83</td>\n",
              "      <td>174</td>\n",
              "      <td>250</td>\n",
              "      <td>1149</td>\n",
              "      <td>112</td>\n",
              "      <td>191</td>\n",
              "      <td>...</td>\n",
              "      <td>-19701.6</td>\n",
              "      <td>-8.9168</td>\n",
              "      <td>-241.624</td>\n",
              "      <td>-542.96</td>\n",
              "      <td>-2120.24</td>\n",
              "      <td>-215.68</td>\n",
              "      <td>-6708.0</td>\n",
              "      <td>-78.1040</td>\n",
              "      <td>-32.1040</td>\n",
              "      <td>-14.1040</td>\n",
              "    </tr>\n",
              "    <tr>\n",
              "      <th>4</th>\n",
              "      <td>site_id_7SA9rO</td>\n",
              "      <td>ID_d009mj</td>\n",
              "      <td>70.585330</td>\n",
              "      <td>46.204336</td>\n",
              "      <td>8.07</td>\n",
              "      <td>188</td>\n",
              "      <td>250</td>\n",
              "      <td>869</td>\n",
              "      <td>114</td>\n",
              "      <td>191</td>\n",
              "      <td>...</td>\n",
              "      <td>-20980.4</td>\n",
              "      <td>-8.4658</td>\n",
              "      <td>-197.684</td>\n",
              "      <td>-205.40</td>\n",
              "      <td>-3309.60</td>\n",
              "      <td>-425.74</td>\n",
              "      <td>-2588.4</td>\n",
              "      <td>37.1400</td>\n",
              "      <td>-12.7676</td>\n",
              "      <td>-1.1730</td>\n",
              "    </tr>\n",
              "  </tbody>\n",
              "</table>\n",
              "<p>5 rows × 55 columns</p>\n",
              "</div>\n",
              "    <div class=\"colab-df-buttons\">\n",
              "\n",
              "  <div class=\"colab-df-container\">\n",
              "    <button class=\"colab-df-convert\" onclick=\"convertToInteractive('df-52ec5aed-7a7c-4f12-906d-e54e629a93c8')\"\n",
              "            title=\"Convert this dataframe to an interactive table.\"\n",
              "            style=\"display:none;\">\n",
              "\n",
              "  <svg xmlns=\"http://www.w3.org/2000/svg\" height=\"24px\" viewBox=\"0 -960 960 960\">\n",
              "    <path d=\"M120-120v-720h720v720H120Zm60-500h600v-160H180v160Zm220 220h160v-160H400v160Zm0 220h160v-160H400v160ZM180-400h160v-160H180v160Zm440 0h160v-160H620v160ZM180-180h160v-160H180v160Zm440 0h160v-160H620v160Z\"/>\n",
              "  </svg>\n",
              "    </button>\n",
              "\n",
              "  <style>\n",
              "    .colab-df-container {\n",
              "      display:flex;\n",
              "      gap: 12px;\n",
              "    }\n",
              "\n",
              "    .colab-df-convert {\n",
              "      background-color: #E8F0FE;\n",
              "      border: none;\n",
              "      border-radius: 50%;\n",
              "      cursor: pointer;\n",
              "      display: none;\n",
              "      fill: #1967D2;\n",
              "      height: 32px;\n",
              "      padding: 0 0 0 0;\n",
              "      width: 32px;\n",
              "    }\n",
              "\n",
              "    .colab-df-convert:hover {\n",
              "      background-color: #E2EBFA;\n",
              "      box-shadow: 0px 1px 2px rgba(60, 64, 67, 0.3), 0px 1px 3px 1px rgba(60, 64, 67, 0.15);\n",
              "      fill: #174EA6;\n",
              "    }\n",
              "\n",
              "    .colab-df-buttons div {\n",
              "      margin-bottom: 4px;\n",
              "    }\n",
              "\n",
              "    [theme=dark] .colab-df-convert {\n",
              "      background-color: #3B4455;\n",
              "      fill: #D2E3FC;\n",
              "    }\n",
              "\n",
              "    [theme=dark] .colab-df-convert:hover {\n",
              "      background-color: #434B5C;\n",
              "      box-shadow: 0px 1px 3px 1px rgba(0, 0, 0, 0.15);\n",
              "      filter: drop-shadow(0px 1px 2px rgba(0, 0, 0, 0.3));\n",
              "      fill: #FFFFFF;\n",
              "    }\n",
              "  </style>\n",
              "\n",
              "    <script>\n",
              "      const buttonEl =\n",
              "        document.querySelector('#df-52ec5aed-7a7c-4f12-906d-e54e629a93c8 button.colab-df-convert');\n",
              "      buttonEl.style.display =\n",
              "        google.colab.kernel.accessAllowed ? 'block' : 'none';\n",
              "\n",
              "      async function convertToInteractive(key) {\n",
              "        const element = document.querySelector('#df-52ec5aed-7a7c-4f12-906d-e54e629a93c8');\n",
              "        const dataTable =\n",
              "          await google.colab.kernel.invokeFunction('convertToInteractive',\n",
              "                                                    [key], {});\n",
              "        if (!dataTable) return;\n",
              "\n",
              "        const docLinkHtml = 'Like what you see? Visit the ' +\n",
              "          '<a target=\"_blank\" href=https://colab.research.google.com/notebooks/data_table.ipynb>data table notebook</a>'\n",
              "          + ' to learn more about interactive tables.';\n",
              "        element.innerHTML = '';\n",
              "        dataTable['output_type'] = 'display_data';\n",
              "        await google.colab.output.renderOutput(dataTable, element);\n",
              "        const docLink = document.createElement('div');\n",
              "        docLink.innerHTML = docLinkHtml;\n",
              "        element.appendChild(docLink);\n",
              "      }\n",
              "    </script>\n",
              "  </div>\n",
              "\n",
              "\n",
              "    <div id=\"df-8fae1b05-748d-492a-b577-d957b8db0c26\">\n",
              "      <button class=\"colab-df-quickchart\" onclick=\"quickchart('df-8fae1b05-748d-492a-b577-d957b8db0c26')\"\n",
              "                title=\"Suggest charts\"\n",
              "                style=\"display:none;\">\n",
              "\n",
              "<svg xmlns=\"http://www.w3.org/2000/svg\" height=\"24px\"viewBox=\"0 0 24 24\"\n",
              "     width=\"24px\">\n",
              "    <g>\n",
              "        <path d=\"M19 3H5c-1.1 0-2 .9-2 2v14c0 1.1.9 2 2 2h14c1.1 0 2-.9 2-2V5c0-1.1-.9-2-2-2zM9 17H7v-7h2v7zm4 0h-2V7h2v10zm4 0h-2v-4h2v4z\"/>\n",
              "    </g>\n",
              "</svg>\n",
              "      </button>\n",
              "\n",
              "<style>\n",
              "  .colab-df-quickchart {\n",
              "      --bg-color: #E8F0FE;\n",
              "      --fill-color: #1967D2;\n",
              "      --hover-bg-color: #E2EBFA;\n",
              "      --hover-fill-color: #174EA6;\n",
              "      --disabled-fill-color: #AAA;\n",
              "      --disabled-bg-color: #DDD;\n",
              "  }\n",
              "\n",
              "  [theme=dark] .colab-df-quickchart {\n",
              "      --bg-color: #3B4455;\n",
              "      --fill-color: #D2E3FC;\n",
              "      --hover-bg-color: #434B5C;\n",
              "      --hover-fill-color: #FFFFFF;\n",
              "      --disabled-bg-color: #3B4455;\n",
              "      --disabled-fill-color: #666;\n",
              "  }\n",
              "\n",
              "  .colab-df-quickchart {\n",
              "    background-color: var(--bg-color);\n",
              "    border: none;\n",
              "    border-radius: 50%;\n",
              "    cursor: pointer;\n",
              "    display: none;\n",
              "    fill: var(--fill-color);\n",
              "    height: 32px;\n",
              "    padding: 0;\n",
              "    width: 32px;\n",
              "  }\n",
              "\n",
              "  .colab-df-quickchart:hover {\n",
              "    background-color: var(--hover-bg-color);\n",
              "    box-shadow: 0 1px 2px rgba(60, 64, 67, 0.3), 0 1px 3px 1px rgba(60, 64, 67, 0.15);\n",
              "    fill: var(--button-hover-fill-color);\n",
              "  }\n",
              "\n",
              "  .colab-df-quickchart-complete:disabled,\n",
              "  .colab-df-quickchart-complete:disabled:hover {\n",
              "    background-color: var(--disabled-bg-color);\n",
              "    fill: var(--disabled-fill-color);\n",
              "    box-shadow: none;\n",
              "  }\n",
              "\n",
              "  .colab-df-spinner {\n",
              "    border: 2px solid var(--fill-color);\n",
              "    border-color: transparent;\n",
              "    border-bottom-color: var(--fill-color);\n",
              "    animation:\n",
              "      spin 1s steps(1) infinite;\n",
              "  }\n",
              "\n",
              "  @keyframes spin {\n",
              "    0% {\n",
              "      border-color: transparent;\n",
              "      border-bottom-color: var(--fill-color);\n",
              "      border-left-color: var(--fill-color);\n",
              "    }\n",
              "    20% {\n",
              "      border-color: transparent;\n",
              "      border-left-color: var(--fill-color);\n",
              "      border-top-color: var(--fill-color);\n",
              "    }\n",
              "    30% {\n",
              "      border-color: transparent;\n",
              "      border-left-color: var(--fill-color);\n",
              "      border-top-color: var(--fill-color);\n",
              "      border-right-color: var(--fill-color);\n",
              "    }\n",
              "    40% {\n",
              "      border-color: transparent;\n",
              "      border-right-color: var(--fill-color);\n",
              "      border-top-color: var(--fill-color);\n",
              "    }\n",
              "    60% {\n",
              "      border-color: transparent;\n",
              "      border-right-color: var(--fill-color);\n",
              "    }\n",
              "    80% {\n",
              "      border-color: transparent;\n",
              "      border-right-color: var(--fill-color);\n",
              "      border-bottom-color: var(--fill-color);\n",
              "    }\n",
              "    90% {\n",
              "      border-color: transparent;\n",
              "      border-bottom-color: var(--fill-color);\n",
              "    }\n",
              "  }\n",
              "</style>\n",
              "\n",
              "      <script>\n",
              "        async function quickchart(key) {\n",
              "          const quickchartButtonEl =\n",
              "            document.querySelector('#' + key + ' button');\n",
              "          quickchartButtonEl.disabled = true;  // To prevent multiple clicks.\n",
              "          quickchartButtonEl.classList.add('colab-df-spinner');\n",
              "          try {\n",
              "            const charts = await google.colab.kernel.invokeFunction(\n",
              "                'suggestCharts', [key], {});\n",
              "          } catch (error) {\n",
              "            console.error('Error during call to suggestCharts:', error);\n",
              "          }\n",
              "          quickchartButtonEl.classList.remove('colab-df-spinner');\n",
              "          quickchartButtonEl.classList.add('colab-df-quickchart-complete');\n",
              "        }\n",
              "        (() => {\n",
              "          let quickchartButtonEl =\n",
              "            document.querySelector('#df-8fae1b05-748d-492a-b577-d957b8db0c26 button');\n",
              "          quickchartButtonEl.style.display =\n",
              "            google.colab.kernel.accessAllowed ? 'block' : 'none';\n",
              "        })();\n",
              "      </script>\n",
              "    </div>\n",
              "\n",
              "    </div>\n",
              "  </div>\n"
            ],
            "application/vnd.google.colaboratory.intrinsic+json": {
              "type": "dataframe",
              "variable_name": "merged_train_df"
            }
          },
          "metadata": {},
          "execution_count": 152
        }
      ]
    },
    {
      "cell_type": "code",
      "source": [
        "for col in gap_wide.columns:\n",
        "  print(col)"
      ],
      "metadata": {
        "colab": {
          "base_uri": "https://localhost:8080/"
        },
        "id": "HSjX4ar1bkVH",
        "outputId": "9c652a98-2a1f-414b-c552-090331c19b65"
      },
      "execution_count": 153,
      "outputs": [
        {
          "output_type": "stream",
          "name": "stdout",
          "text": [
            "PID\n",
            "Gap_B\n",
            "Gap_Ca\n",
            "Gap_Cu\n",
            "Gap_Fe\n",
            "Gap_K\n",
            "Gap_Mg\n",
            "Gap_Mn\n",
            "Gap_N\n",
            "Gap_P\n",
            "Gap_S\n",
            "Gap_Zn\n"
          ]
        }
      ]
    },
    {
      "cell_type": "code",
      "source": [
        "list(gap_wide.columns)"
      ],
      "metadata": {
        "colab": {
          "base_uri": "https://localhost:8080/"
        },
        "id": "hw6h2kbRwPPp",
        "outputId": "679e7da5-7a70-4590-c6f6-13d4d01e3b03"
      },
      "execution_count": 154,
      "outputs": [
        {
          "output_type": "execute_result",
          "data": {
            "text/plain": [
              "['PID',\n",
              " 'Gap_B',\n",
              " 'Gap_Ca',\n",
              " 'Gap_Cu',\n",
              " 'Gap_Fe',\n",
              " 'Gap_K',\n",
              " 'Gap_Mg',\n",
              " 'Gap_Mn',\n",
              " 'Gap_N',\n",
              " 'Gap_P',\n",
              " 'Gap_S',\n",
              " 'Gap_Zn']"
            ]
          },
          "metadata": {},
          "execution_count": 154
        }
      ]
    },
    {
      "cell_type": "code",
      "source": [
        "merged_train_df.shape"
      ],
      "metadata": {
        "colab": {
          "base_uri": "https://localhost:8080/"
        },
        "id": "cZrTjFTP6hnc",
        "outputId": "8ad4efdf-a843-4be7-ef5b-54823657f4e5"
      },
      "execution_count": 171,
      "outputs": [
        {
          "output_type": "execute_result",
          "data": {
            "text/plain": [
              "(7744, 55)"
            ]
          },
          "metadata": {},
          "execution_count": 171
        }
      ]
    },
    {
      "cell_type": "code",
      "source": [
        "# Merge the gap data into the train dataset on PID\n",
        "merged_train_df = train_df.merge(gap_wide, on='PID', how='left')"
      ],
      "metadata": {
        "id": "aUSSyWTfj7Qb"
      },
      "execution_count": 172,
      "outputs": []
    },
    {
      "cell_type": "code",
      "source": [
        "merged_train_df.head()"
      ],
      "metadata": {
        "colab": {
          "base_uri": "https://localhost:8080/",
          "height": 256
        },
        "id": "eVIbQ1Oij7Oa",
        "outputId": "36278e08-d57f-4dbb-83d1-9c550839c48f"
      },
      "execution_count": 173,
      "outputs": [
        {
          "output_type": "execute_result",
          "data": {
            "text/plain": [
              "             site        PID        lon        lat    pH  alb  bio1  bio12  \\\n",
              "0  site_id_bIEHwl  ID_I5RGjv  70.603761  46.173798  7.75  176   248    920   \n",
              "1  site_id_nGvnKc  ID_8jWzJ5  70.590479  46.078924  7.10  181   250   1080   \n",
              "2  site_id_nGvnKc  ID_UgzkN8  70.582553  46.048820  6.95  188   250   1109   \n",
              "3  site_id_nGvnKc  ID_DLLHM9  70.573267  46.021910  7.83  174   250   1149   \n",
              "4  site_id_7SA9rO  ID_d009mj  70.585330  46.204336  8.07  188   250    869   \n",
              "\n",
              "   bio15  bio7  ...   Gap_Ca   Gap_Cu   Gap_Fe   Gap_K   Gap_Mg   Gap_Mn  \\\n",
              "0    108   190  ... -19931.6  -8.5016 -218.784 -377.24 -6737.20  -247.80   \n",
              "1    113   191  ...  -3575.2 -12.9328 -291.648 -407.04  -706.40 -1242.96   \n",
              "2    111   191  ...  -5506.8  -3.4208 -223.164 -388.92  -996.48  -189.40   \n",
              "3    112   191  ... -19701.6  -8.9168 -241.624 -542.96 -2120.24  -215.68   \n",
              "4    114   191  ... -20980.4  -8.4658 -197.684 -205.40 -3309.60  -425.74   \n",
              "\n",
              "     Gap_N    Gap_P    Gap_S   Gap_Zn  \n",
              "0  -3696.0  39.0072  -4.5272  -1.9944  \n",
              "1  -4156.0   4.4320 -46.9760  -7.4128  \n",
              "2 -10120.0 -23.6560 -20.1200  -5.2940  \n",
              "3  -6708.0 -78.1040 -32.1040 -14.1040  \n",
              "4  -2588.4  37.1400 -12.7676  -1.1730  \n",
              "\n",
              "[5 rows x 55 columns]"
            ],
            "text/html": [
              "\n",
              "  <div id=\"df-1c58573f-8b8c-491b-8aea-e2d053bc768c\" class=\"colab-df-container\">\n",
              "    <div>\n",
              "<style scoped>\n",
              "    .dataframe tbody tr th:only-of-type {\n",
              "        vertical-align: middle;\n",
              "    }\n",
              "\n",
              "    .dataframe tbody tr th {\n",
              "        vertical-align: top;\n",
              "    }\n",
              "\n",
              "    .dataframe thead th {\n",
              "        text-align: right;\n",
              "    }\n",
              "</style>\n",
              "<table border=\"1\" class=\"dataframe\">\n",
              "  <thead>\n",
              "    <tr style=\"text-align: right;\">\n",
              "      <th></th>\n",
              "      <th>site</th>\n",
              "      <th>PID</th>\n",
              "      <th>lon</th>\n",
              "      <th>lat</th>\n",
              "      <th>pH</th>\n",
              "      <th>alb</th>\n",
              "      <th>bio1</th>\n",
              "      <th>bio12</th>\n",
              "      <th>bio15</th>\n",
              "      <th>bio7</th>\n",
              "      <th>...</th>\n",
              "      <th>Gap_Ca</th>\n",
              "      <th>Gap_Cu</th>\n",
              "      <th>Gap_Fe</th>\n",
              "      <th>Gap_K</th>\n",
              "      <th>Gap_Mg</th>\n",
              "      <th>Gap_Mn</th>\n",
              "      <th>Gap_N</th>\n",
              "      <th>Gap_P</th>\n",
              "      <th>Gap_S</th>\n",
              "      <th>Gap_Zn</th>\n",
              "    </tr>\n",
              "  </thead>\n",
              "  <tbody>\n",
              "    <tr>\n",
              "      <th>0</th>\n",
              "      <td>site_id_bIEHwl</td>\n",
              "      <td>ID_I5RGjv</td>\n",
              "      <td>70.603761</td>\n",
              "      <td>46.173798</td>\n",
              "      <td>7.75</td>\n",
              "      <td>176</td>\n",
              "      <td>248</td>\n",
              "      <td>920</td>\n",
              "      <td>108</td>\n",
              "      <td>190</td>\n",
              "      <td>...</td>\n",
              "      <td>-19931.6</td>\n",
              "      <td>-8.5016</td>\n",
              "      <td>-218.784</td>\n",
              "      <td>-377.24</td>\n",
              "      <td>-6737.20</td>\n",
              "      <td>-247.80</td>\n",
              "      <td>-3696.0</td>\n",
              "      <td>39.0072</td>\n",
              "      <td>-4.5272</td>\n",
              "      <td>-1.9944</td>\n",
              "    </tr>\n",
              "    <tr>\n",
              "      <th>1</th>\n",
              "      <td>site_id_nGvnKc</td>\n",
              "      <td>ID_8jWzJ5</td>\n",
              "      <td>70.590479</td>\n",
              "      <td>46.078924</td>\n",
              "      <td>7.10</td>\n",
              "      <td>181</td>\n",
              "      <td>250</td>\n",
              "      <td>1080</td>\n",
              "      <td>113</td>\n",
              "      <td>191</td>\n",
              "      <td>...</td>\n",
              "      <td>-3575.2</td>\n",
              "      <td>-12.9328</td>\n",
              "      <td>-291.648</td>\n",
              "      <td>-407.04</td>\n",
              "      <td>-706.40</td>\n",
              "      <td>-1242.96</td>\n",
              "      <td>-4156.0</td>\n",
              "      <td>4.4320</td>\n",
              "      <td>-46.9760</td>\n",
              "      <td>-7.4128</td>\n",
              "    </tr>\n",
              "    <tr>\n",
              "      <th>2</th>\n",
              "      <td>site_id_nGvnKc</td>\n",
              "      <td>ID_UgzkN8</td>\n",
              "      <td>70.582553</td>\n",
              "      <td>46.048820</td>\n",
              "      <td>6.95</td>\n",
              "      <td>188</td>\n",
              "      <td>250</td>\n",
              "      <td>1109</td>\n",
              "      <td>111</td>\n",
              "      <td>191</td>\n",
              "      <td>...</td>\n",
              "      <td>-5506.8</td>\n",
              "      <td>-3.4208</td>\n",
              "      <td>-223.164</td>\n",
              "      <td>-388.92</td>\n",
              "      <td>-996.48</td>\n",
              "      <td>-189.40</td>\n",
              "      <td>-10120.0</td>\n",
              "      <td>-23.6560</td>\n",
              "      <td>-20.1200</td>\n",
              "      <td>-5.2940</td>\n",
              "    </tr>\n",
              "    <tr>\n",
              "      <th>3</th>\n",
              "      <td>site_id_nGvnKc</td>\n",
              "      <td>ID_DLLHM9</td>\n",
              "      <td>70.573267</td>\n",
              "      <td>46.021910</td>\n",
              "      <td>7.83</td>\n",
              "      <td>174</td>\n",
              "      <td>250</td>\n",
              "      <td>1149</td>\n",
              "      <td>112</td>\n",
              "      <td>191</td>\n",
              "      <td>...</td>\n",
              "      <td>-19701.6</td>\n",
              "      <td>-8.9168</td>\n",
              "      <td>-241.624</td>\n",
              "      <td>-542.96</td>\n",
              "      <td>-2120.24</td>\n",
              "      <td>-215.68</td>\n",
              "      <td>-6708.0</td>\n",
              "      <td>-78.1040</td>\n",
              "      <td>-32.1040</td>\n",
              "      <td>-14.1040</td>\n",
              "    </tr>\n",
              "    <tr>\n",
              "      <th>4</th>\n",
              "      <td>site_id_7SA9rO</td>\n",
              "      <td>ID_d009mj</td>\n",
              "      <td>70.585330</td>\n",
              "      <td>46.204336</td>\n",
              "      <td>8.07</td>\n",
              "      <td>188</td>\n",
              "      <td>250</td>\n",
              "      <td>869</td>\n",
              "      <td>114</td>\n",
              "      <td>191</td>\n",
              "      <td>...</td>\n",
              "      <td>-20980.4</td>\n",
              "      <td>-8.4658</td>\n",
              "      <td>-197.684</td>\n",
              "      <td>-205.40</td>\n",
              "      <td>-3309.60</td>\n",
              "      <td>-425.74</td>\n",
              "      <td>-2588.4</td>\n",
              "      <td>37.1400</td>\n",
              "      <td>-12.7676</td>\n",
              "      <td>-1.1730</td>\n",
              "    </tr>\n",
              "  </tbody>\n",
              "</table>\n",
              "<p>5 rows × 55 columns</p>\n",
              "</div>\n",
              "    <div class=\"colab-df-buttons\">\n",
              "\n",
              "  <div class=\"colab-df-container\">\n",
              "    <button class=\"colab-df-convert\" onclick=\"convertToInteractive('df-1c58573f-8b8c-491b-8aea-e2d053bc768c')\"\n",
              "            title=\"Convert this dataframe to an interactive table.\"\n",
              "            style=\"display:none;\">\n",
              "\n",
              "  <svg xmlns=\"http://www.w3.org/2000/svg\" height=\"24px\" viewBox=\"0 -960 960 960\">\n",
              "    <path d=\"M120-120v-720h720v720H120Zm60-500h600v-160H180v160Zm220 220h160v-160H400v160Zm0 220h160v-160H400v160ZM180-400h160v-160H180v160Zm440 0h160v-160H620v160ZM180-180h160v-160H180v160Zm440 0h160v-160H620v160Z\"/>\n",
              "  </svg>\n",
              "    </button>\n",
              "\n",
              "  <style>\n",
              "    .colab-df-container {\n",
              "      display:flex;\n",
              "      gap: 12px;\n",
              "    }\n",
              "\n",
              "    .colab-df-convert {\n",
              "      background-color: #E8F0FE;\n",
              "      border: none;\n",
              "      border-radius: 50%;\n",
              "      cursor: pointer;\n",
              "      display: none;\n",
              "      fill: #1967D2;\n",
              "      height: 32px;\n",
              "      padding: 0 0 0 0;\n",
              "      width: 32px;\n",
              "    }\n",
              "\n",
              "    .colab-df-convert:hover {\n",
              "      background-color: #E2EBFA;\n",
              "      box-shadow: 0px 1px 2px rgba(60, 64, 67, 0.3), 0px 1px 3px 1px rgba(60, 64, 67, 0.15);\n",
              "      fill: #174EA6;\n",
              "    }\n",
              "\n",
              "    .colab-df-buttons div {\n",
              "      margin-bottom: 4px;\n",
              "    }\n",
              "\n",
              "    [theme=dark] .colab-df-convert {\n",
              "      background-color: #3B4455;\n",
              "      fill: #D2E3FC;\n",
              "    }\n",
              "\n",
              "    [theme=dark] .colab-df-convert:hover {\n",
              "      background-color: #434B5C;\n",
              "      box-shadow: 0px 1px 3px 1px rgba(0, 0, 0, 0.15);\n",
              "      filter: drop-shadow(0px 1px 2px rgba(0, 0, 0, 0.3));\n",
              "      fill: #FFFFFF;\n",
              "    }\n",
              "  </style>\n",
              "\n",
              "    <script>\n",
              "      const buttonEl =\n",
              "        document.querySelector('#df-1c58573f-8b8c-491b-8aea-e2d053bc768c button.colab-df-convert');\n",
              "      buttonEl.style.display =\n",
              "        google.colab.kernel.accessAllowed ? 'block' : 'none';\n",
              "\n",
              "      async function convertToInteractive(key) {\n",
              "        const element = document.querySelector('#df-1c58573f-8b8c-491b-8aea-e2d053bc768c');\n",
              "        const dataTable =\n",
              "          await google.colab.kernel.invokeFunction('convertToInteractive',\n",
              "                                                    [key], {});\n",
              "        if (!dataTable) return;\n",
              "\n",
              "        const docLinkHtml = 'Like what you see? Visit the ' +\n",
              "          '<a target=\"_blank\" href=https://colab.research.google.com/notebooks/data_table.ipynb>data table notebook</a>'\n",
              "          + ' to learn more about interactive tables.';\n",
              "        element.innerHTML = '';\n",
              "        dataTable['output_type'] = 'display_data';\n",
              "        await google.colab.output.renderOutput(dataTable, element);\n",
              "        const docLink = document.createElement('div');\n",
              "        docLink.innerHTML = docLinkHtml;\n",
              "        element.appendChild(docLink);\n",
              "      }\n",
              "    </script>\n",
              "  </div>\n",
              "\n",
              "\n",
              "    <div id=\"df-3ecfb1f4-3bcd-429a-8bbc-2f42a2b53bf1\">\n",
              "      <button class=\"colab-df-quickchart\" onclick=\"quickchart('df-3ecfb1f4-3bcd-429a-8bbc-2f42a2b53bf1')\"\n",
              "                title=\"Suggest charts\"\n",
              "                style=\"display:none;\">\n",
              "\n",
              "<svg xmlns=\"http://www.w3.org/2000/svg\" height=\"24px\"viewBox=\"0 0 24 24\"\n",
              "     width=\"24px\">\n",
              "    <g>\n",
              "        <path d=\"M19 3H5c-1.1 0-2 .9-2 2v14c0 1.1.9 2 2 2h14c1.1 0 2-.9 2-2V5c0-1.1-.9-2-2-2zM9 17H7v-7h2v7zm4 0h-2V7h2v10zm4 0h-2v-4h2v4z\"/>\n",
              "    </g>\n",
              "</svg>\n",
              "      </button>\n",
              "\n",
              "<style>\n",
              "  .colab-df-quickchart {\n",
              "      --bg-color: #E8F0FE;\n",
              "      --fill-color: #1967D2;\n",
              "      --hover-bg-color: #E2EBFA;\n",
              "      --hover-fill-color: #174EA6;\n",
              "      --disabled-fill-color: #AAA;\n",
              "      --disabled-bg-color: #DDD;\n",
              "  }\n",
              "\n",
              "  [theme=dark] .colab-df-quickchart {\n",
              "      --bg-color: #3B4455;\n",
              "      --fill-color: #D2E3FC;\n",
              "      --hover-bg-color: #434B5C;\n",
              "      --hover-fill-color: #FFFFFF;\n",
              "      --disabled-bg-color: #3B4455;\n",
              "      --disabled-fill-color: #666;\n",
              "  }\n",
              "\n",
              "  .colab-df-quickchart {\n",
              "    background-color: var(--bg-color);\n",
              "    border: none;\n",
              "    border-radius: 50%;\n",
              "    cursor: pointer;\n",
              "    display: none;\n",
              "    fill: var(--fill-color);\n",
              "    height: 32px;\n",
              "    padding: 0;\n",
              "    width: 32px;\n",
              "  }\n",
              "\n",
              "  .colab-df-quickchart:hover {\n",
              "    background-color: var(--hover-bg-color);\n",
              "    box-shadow: 0 1px 2px rgba(60, 64, 67, 0.3), 0 1px 3px 1px rgba(60, 64, 67, 0.15);\n",
              "    fill: var(--button-hover-fill-color);\n",
              "  }\n",
              "\n",
              "  .colab-df-quickchart-complete:disabled,\n",
              "  .colab-df-quickchart-complete:disabled:hover {\n",
              "    background-color: var(--disabled-bg-color);\n",
              "    fill: var(--disabled-fill-color);\n",
              "    box-shadow: none;\n",
              "  }\n",
              "\n",
              "  .colab-df-spinner {\n",
              "    border: 2px solid var(--fill-color);\n",
              "    border-color: transparent;\n",
              "    border-bottom-color: var(--fill-color);\n",
              "    animation:\n",
              "      spin 1s steps(1) infinite;\n",
              "  }\n",
              "\n",
              "  @keyframes spin {\n",
              "    0% {\n",
              "      border-color: transparent;\n",
              "      border-bottom-color: var(--fill-color);\n",
              "      border-left-color: var(--fill-color);\n",
              "    }\n",
              "    20% {\n",
              "      border-color: transparent;\n",
              "      border-left-color: var(--fill-color);\n",
              "      border-top-color: var(--fill-color);\n",
              "    }\n",
              "    30% {\n",
              "      border-color: transparent;\n",
              "      border-left-color: var(--fill-color);\n",
              "      border-top-color: var(--fill-color);\n",
              "      border-right-color: var(--fill-color);\n",
              "    }\n",
              "    40% {\n",
              "      border-color: transparent;\n",
              "      border-right-color: var(--fill-color);\n",
              "      border-top-color: var(--fill-color);\n",
              "    }\n",
              "    60% {\n",
              "      border-color: transparent;\n",
              "      border-right-color: var(--fill-color);\n",
              "    }\n",
              "    80% {\n",
              "      border-color: transparent;\n",
              "      border-right-color: var(--fill-color);\n",
              "      border-bottom-color: var(--fill-color);\n",
              "    }\n",
              "    90% {\n",
              "      border-color: transparent;\n",
              "      border-bottom-color: var(--fill-color);\n",
              "    }\n",
              "  }\n",
              "</style>\n",
              "\n",
              "      <script>\n",
              "        async function quickchart(key) {\n",
              "          const quickchartButtonEl =\n",
              "            document.querySelector('#' + key + ' button');\n",
              "          quickchartButtonEl.disabled = true;  // To prevent multiple clicks.\n",
              "          quickchartButtonEl.classList.add('colab-df-spinner');\n",
              "          try {\n",
              "            const charts = await google.colab.kernel.invokeFunction(\n",
              "                'suggestCharts', [key], {});\n",
              "          } catch (error) {\n",
              "            console.error('Error during call to suggestCharts:', error);\n",
              "          }\n",
              "          quickchartButtonEl.classList.remove('colab-df-spinner');\n",
              "          quickchartButtonEl.classList.add('colab-df-quickchart-complete');\n",
              "        }\n",
              "        (() => {\n",
              "          let quickchartButtonEl =\n",
              "            document.querySelector('#df-3ecfb1f4-3bcd-429a-8bbc-2f42a2b53bf1 button');\n",
              "          quickchartButtonEl.style.display =\n",
              "            google.colab.kernel.accessAllowed ? 'block' : 'none';\n",
              "        })();\n",
              "      </script>\n",
              "    </div>\n",
              "\n",
              "    </div>\n",
              "  </div>\n"
            ],
            "application/vnd.google.colaboratory.intrinsic+json": {
              "type": "dataframe",
              "variable_name": "merged_train_df"
            }
          },
          "metadata": {},
          "execution_count": 173
        }
      ]
    },
    {
      "cell_type": "code",
      "source": [
        "merged_train_df.shape"
      ],
      "metadata": {
        "colab": {
          "base_uri": "https://localhost:8080/"
        },
        "id": "nSQofOFy6pZ2",
        "outputId": "4f011319-2c64-4520-8da5-65b164ebb8e4"
      },
      "execution_count": 174,
      "outputs": [
        {
          "output_type": "execute_result",
          "data": {
            "text/plain": [
              "(7744, 55)"
            ]
          },
          "metadata": {},
          "execution_count": 174
        }
      ]
    },
    {
      "cell_type": "code",
      "source": [
        "for col in merged_train_df.columns:\n",
        "    print(col)"
      ],
      "metadata": {
        "colab": {
          "base_uri": "https://localhost:8080/"
        },
        "id": "71OONn1Vm5d7",
        "outputId": "12644d0d-2daf-4d27-8cfd-ba4763646313"
      },
      "execution_count": 157,
      "outputs": [
        {
          "output_type": "stream",
          "name": "stdout",
          "text": [
            "site\n",
            "PID\n",
            "lon\n",
            "lat\n",
            "pH\n",
            "alb\n",
            "bio1\n",
            "bio12\n",
            "bio15\n",
            "bio7\n",
            "bp\n",
            "cec20\n",
            "dows\n",
            "ecec20\n",
            "hp20\n",
            "ls\n",
            "lstd\n",
            "lstn\n",
            "mb1\n",
            "mb2\n",
            "mb3\n",
            "mb7\n",
            "mdem\n",
            "para\n",
            "parv\n",
            "ph20\n",
            "slope\n",
            "snd20\n",
            "soc20\n",
            "tim\n",
            "wp\n",
            "xhp20\n",
            "BulkDensity\n",
            "N\n",
            "P\n",
            "K\n",
            "Ca\n",
            "Mg\n",
            "S\n",
            "Fe\n",
            "Mn\n",
            "Zn\n",
            "Cu\n",
            "B\n",
            "Gap_B\n",
            "Gap_Ca\n",
            "Gap_Cu\n",
            "Gap_Fe\n",
            "Gap_K\n",
            "Gap_Mg\n",
            "Gap_Mn\n",
            "Gap_N\n",
            "Gap_P\n",
            "Gap_S\n",
            "Gap_Zn\n"
          ]
        }
      ]
    },
    {
      "cell_type": "code",
      "source": [
        "merged_train_df.shape"
      ],
      "metadata": {
        "colab": {
          "base_uri": "https://localhost:8080/"
        },
        "id": "7quIHSRs4e6o",
        "outputId": "9d8b667e-9e2f-490a-c1f0-56fd1c857632"
      },
      "execution_count": 158,
      "outputs": [
        {
          "output_type": "execute_result",
          "data": {
            "text/plain": [
              "(7744, 55)"
            ]
          },
          "metadata": {},
          "execution_count": 158
        }
      ]
    },
    {
      "cell_type": "markdown",
      "source": [
        "#### Feature Selection"
      ],
      "metadata": {
        "id": "-PWI4nh-4naZ"
      }
    },
    {
      "cell_type": "code",
      "source": [
        "# Drop non-feature columns\n",
        "drop_cols = ['site', 'PID'] + [col for col in train_df.columns if col.startswith('Gap_')] + ['N', 'P', 'K', 'Ca', 'Mg', 'S', 'Fe', 'Mn', 'Zn', 'Cu', 'B']\n",
        "new_train_data = train_df.drop(columns=drop_cols)\n"
      ],
      "metadata": {
        "id": "p64L-WBMmSM2"
      },
      "execution_count": 176,
      "outputs": []
    },
    {
      "cell_type": "code",
      "source": [
        "for col in new_train_data.columns:\n",
        "  print(col)"
      ],
      "metadata": {
        "id": "qCrM0iezmSIW",
        "colab": {
          "base_uri": "https://localhost:8080/"
        },
        "outputId": "27984828-936c-4906-9d11-0f55fb84909d"
      },
      "execution_count": 177,
      "outputs": [
        {
          "output_type": "stream",
          "name": "stdout",
          "text": [
            "lon\n",
            "lat\n",
            "pH\n",
            "alb\n",
            "bio1\n",
            "bio12\n",
            "bio15\n",
            "bio7\n",
            "bp\n",
            "cec20\n",
            "dows\n",
            "ecec20\n",
            "hp20\n",
            "ls\n",
            "lstd\n",
            "lstn\n",
            "mb1\n",
            "mb2\n",
            "mb3\n",
            "mb7\n",
            "mdem\n",
            "para\n",
            "parv\n",
            "ph20\n",
            "slope\n",
            "snd20\n",
            "soc20\n",
            "tim\n",
            "wp\n",
            "xhp20\n",
            "BulkDensity\n"
          ]
        }
      ]
    },
    {
      "cell_type": "code",
      "source": [
        "new_train_data.shape"
      ],
      "metadata": {
        "colab": {
          "base_uri": "https://localhost:8080/"
        },
        "id": "pskGuVd2eYOx",
        "outputId": "f509588c-e29c-4907-80b6-949b8632fc9a"
      },
      "execution_count": 178,
      "outputs": [
        {
          "output_type": "execute_result",
          "data": {
            "text/plain": [
              "(7744, 31)"
            ]
          },
          "metadata": {},
          "execution_count": 178
        }
      ]
    },
    {
      "cell_type": "code",
      "source": [
        "missing_counts = new_train_data.isnull().sum()\n",
        "print(missing_counts)"
      ],
      "metadata": {
        "id": "9bY3xxKPmSGp",
        "colab": {
          "base_uri": "https://localhost:8080/"
        },
        "outputId": "043be421-f563-4b87-da8f-b9162dd37de6"
      },
      "execution_count": 182,
      "outputs": [
        {
          "output_type": "stream",
          "name": "stdout",
          "text": [
            "lon            0\n",
            "lat            0\n",
            "pH             0\n",
            "alb            0\n",
            "bio1           0\n",
            "bio12          0\n",
            "bio15          0\n",
            "bio7           0\n",
            "bp             0\n",
            "cec20          0\n",
            "dows           0\n",
            "ecec20         5\n",
            "hp20           5\n",
            "ls             0\n",
            "lstd           0\n",
            "lstn           0\n",
            "mb1            0\n",
            "mb2            0\n",
            "mb3            0\n",
            "mb7            0\n",
            "mdem           0\n",
            "para           0\n",
            "parv           0\n",
            "ph20           0\n",
            "slope          0\n",
            "snd20          0\n",
            "soc20          0\n",
            "tim            0\n",
            "wp             0\n",
            "xhp20          5\n",
            "BulkDensity    4\n",
            "dtype: int64\n"
          ]
        }
      ]
    },
    {
      "cell_type": "code",
      "source": [
        "for col in new_train_data.columns:\n",
        "    n_missing = new_train_data[col].isnull().sum()\n",
        "    print(f\"{col}: {n_missing}\")"
      ],
      "metadata": {
        "colab": {
          "base_uri": "https://localhost:8080/"
        },
        "id": "UvzaWqGLjKq3",
        "outputId": "a9db4355-bb26-4666-e569-3220338e085e"
      },
      "execution_count": 183,
      "outputs": [
        {
          "output_type": "stream",
          "name": "stdout",
          "text": [
            "lon: 0\n",
            "lat: 0\n",
            "pH: 0\n",
            "alb: 0\n",
            "bio1: 0\n",
            "bio12: 0\n",
            "bio15: 0\n",
            "bio7: 0\n",
            "bp: 0\n",
            "cec20: 0\n",
            "dows: 0\n",
            "ecec20: 5\n",
            "hp20: 5\n",
            "ls: 0\n",
            "lstd: 0\n",
            "lstn: 0\n",
            "mb1: 0\n",
            "mb2: 0\n",
            "mb3: 0\n",
            "mb7: 0\n",
            "mdem: 0\n",
            "para: 0\n",
            "parv: 0\n",
            "ph20: 0\n",
            "slope: 0\n",
            "snd20: 0\n",
            "soc20: 0\n",
            "tim: 0\n",
            "wp: 0\n",
            "xhp20: 5\n",
            "BulkDensity: 4\n"
          ]
        }
      ]
    },
    {
      "cell_type": "code",
      "source": [
        "from sklearn.impute import SimpleImputer\n",
        "\n",
        "# 1) Check missing counts\n",
        "print(\"Missing before imputation:\")\n",
        "print(new_train_data.isnull().sum().sort_values(ascending=False).head(10))\n",
        "\n",
        "# 2) Impute ecec20, hp20, xhp20, BulkDensity with median\n",
        "imputer = SimpleImputer(strategy='median')\n",
        "cols_to_impute = ['ecec20', 'hp20', 'xhp20', 'BulkDensity']\n",
        "new_train_data[cols_to_impute] = imputer.fit_transform(new_train_data[cols_to_impute])\n",
        "\n",
        "# 3) Verify no more missing\n",
        "print(\"\\nMissing after imputation:\")\n",
        "print(new_train_data[cols_to_impute].isnull().sum())"
      ],
      "metadata": {
        "colab": {
          "base_uri": "https://localhost:8080/"
        },
        "id": "WNnlNyTnCVSc",
        "outputId": "07cdb446-9be3-44e9-f38e-5f0dc18418a3"
      },
      "execution_count": 184,
      "outputs": [
        {
          "output_type": "stream",
          "name": "stdout",
          "text": [
            "Missing before imputation:\n",
            "hp20           5\n",
            "ecec20         5\n",
            "xhp20          5\n",
            "BulkDensity    4\n",
            "bio1           0\n",
            "alb            0\n",
            "lon            0\n",
            "bio15          0\n",
            "bio12          0\n",
            "bio7           0\n",
            "dtype: int64\n",
            "\n",
            "Missing after imputation:\n",
            "ecec20         0\n",
            "hp20           0\n",
            "xhp20          0\n",
            "BulkDensity    0\n",
            "dtype: int64\n"
          ]
        }
      ]
    },
    {
      "cell_type": "code",
      "source": [
        "sum_missing = new_train_data.isnull().sum()\n",
        "print(sum_missing)"
      ],
      "metadata": {
        "colab": {
          "base_uri": "https://localhost:8080/"
        },
        "id": "8wGLDWCNkHXf",
        "outputId": "c42c80ec-66c5-44f4-d2d2-6a4a881ad0b2"
      },
      "execution_count": 186,
      "outputs": [
        {
          "output_type": "stream",
          "name": "stdout",
          "text": [
            "lon            0\n",
            "lat            0\n",
            "pH             0\n",
            "alb            0\n",
            "bio1           0\n",
            "bio12          0\n",
            "bio15          0\n",
            "bio7           0\n",
            "bp             0\n",
            "cec20          0\n",
            "dows           0\n",
            "ecec20         0\n",
            "hp20           0\n",
            "ls             0\n",
            "lstd           0\n",
            "lstn           0\n",
            "mb1            0\n",
            "mb2            0\n",
            "mb3            0\n",
            "mb7            0\n",
            "mdem           0\n",
            "para           0\n",
            "parv           0\n",
            "ph20           0\n",
            "slope          0\n",
            "snd20          0\n",
            "soc20          0\n",
            "tim            0\n",
            "wp             0\n",
            "xhp20          0\n",
            "BulkDensity    0\n",
            "dtype: int64\n"
          ]
        }
      ]
    },
    {
      "cell_type": "code",
      "source": [
        "list(new_train_data.columns)"
      ],
      "metadata": {
        "colab": {
          "base_uri": "https://localhost:8080/"
        },
        "id": "7HWUT5jVtIgm",
        "outputId": "f57b7be5-7504-4a20-fa4d-e0dfaa172e31"
      },
      "execution_count": 187,
      "outputs": [
        {
          "output_type": "execute_result",
          "data": {
            "text/plain": [
              "['lon',\n",
              " 'lat',\n",
              " 'pH',\n",
              " 'alb',\n",
              " 'bio1',\n",
              " 'bio12',\n",
              " 'bio15',\n",
              " 'bio7',\n",
              " 'bp',\n",
              " 'cec20',\n",
              " 'dows',\n",
              " 'ecec20',\n",
              " 'hp20',\n",
              " 'ls',\n",
              " 'lstd',\n",
              " 'lstn',\n",
              " 'mb1',\n",
              " 'mb2',\n",
              " 'mb3',\n",
              " 'mb7',\n",
              " 'mdem',\n",
              " 'para',\n",
              " 'parv',\n",
              " 'ph20',\n",
              " 'slope',\n",
              " 'snd20',\n",
              " 'soc20',\n",
              " 'tim',\n",
              " 'wp',\n",
              " 'xhp20',\n",
              " 'BulkDensity']"
            ]
          },
          "metadata": {},
          "execution_count": 187
        }
      ]
    },
    {
      "cell_type": "code",
      "source": [
        "gap_cols = [col for col in merged_train_df.columns if col.startswith(\"Gap_\")]\n",
        "nutrient_cols = [\"N\", \"P\", \"K\", \"Ca\", \"Mg\", \"S\", \"Fe\", \"Mn\", \"Zn\", \"Cu\", \"B\"]\n",
        "drop_for_X = [\"site\", \"PID\"] + gap_cols + nutrient_cols\n",
        "\n",
        "y = merged_train_df[[\n",
        "  'Gap_B',\n",
        " 'Gap_Ca',\n",
        " 'Gap_Cu',\n",
        " 'Gap_Fe',\n",
        " 'Gap_K',\n",
        " 'Gap_Mg',\n",
        " 'Gap_Mn',\n",
        " 'Gap_N',\n",
        " 'Gap_P',\n",
        " 'Gap_S',\n",
        " 'Gap_Zn'\n",
        " ]]\n",
        "X = merged_train_df.drop(columns=drop_for_X)\n",
        ""
      ],
      "metadata": {
        "id": "6en8xkD4tsim"
      },
      "execution_count": 167,
      "outputs": []
    },
    {
      "cell_type": "code",
      "source": [
        "for col in merged_train_df.columns:\n",
        "  print(col)"
      ],
      "metadata": {
        "colab": {
          "base_uri": "https://localhost:8080/"
        },
        "id": "-CeVDFnl71py",
        "outputId": "72593792-c160-470b-8f87-de2a4b10bb62"
      },
      "execution_count": 188,
      "outputs": [
        {
          "output_type": "stream",
          "name": "stdout",
          "text": [
            "site\n",
            "PID\n",
            "lon\n",
            "lat\n",
            "pH\n",
            "alb\n",
            "bio1\n",
            "bio12\n",
            "bio15\n",
            "bio7\n",
            "bp\n",
            "cec20\n",
            "dows\n",
            "ecec20\n",
            "hp20\n",
            "ls\n",
            "lstd\n",
            "lstn\n",
            "mb1\n",
            "mb2\n",
            "mb3\n",
            "mb7\n",
            "mdem\n",
            "para\n",
            "parv\n",
            "ph20\n",
            "slope\n",
            "snd20\n",
            "soc20\n",
            "tim\n",
            "wp\n",
            "xhp20\n",
            "BulkDensity\n",
            "N\n",
            "P\n",
            "K\n",
            "Ca\n",
            "Mg\n",
            "S\n",
            "Fe\n",
            "Mn\n",
            "Zn\n",
            "Cu\n",
            "B\n",
            "Gap_B\n",
            "Gap_Ca\n",
            "Gap_Cu\n",
            "Gap_Fe\n",
            "Gap_K\n",
            "Gap_Mg\n",
            "Gap_Mn\n",
            "Gap_N\n",
            "Gap_P\n",
            "Gap_S\n",
            "Gap_Zn\n"
          ]
        }
      ]
    },
    {
      "cell_type": "code",
      "source": [
        "print(\"X columns (features):\", X.columns.tolist())\n",
        "print(\"X shape:\", X.shape)\n",
        "print(\"y columns (targets):\", y.columns.tolist())\n",
        "print(\"y shape:\", y.shape)"
      ],
      "metadata": {
        "colab": {
          "base_uri": "https://localhost:8080/"
        },
        "id": "iQOsHPyHtsgN",
        "outputId": "c2f9fe20-0046-479c-ade7-d4b00926efc7"
      },
      "execution_count": 168,
      "outputs": [
        {
          "output_type": "stream",
          "name": "stdout",
          "text": [
            "X columns (features): ['lon', 'lat', 'pH', 'alb', 'bio1', 'bio12', 'bio15', 'bio7', 'bp', 'cec20', 'dows', 'ecec20', 'hp20', 'ls', 'lstd', 'lstn', 'mb1', 'mb2', 'mb3', 'mb7', 'mdem', 'para', 'parv', 'ph20', 'slope', 'snd20', 'soc20', 'tim', 'wp', 'xhp20', 'BulkDensity']\n",
            "X shape: (7744, 31)\n",
            "y columns (targets): ['Gap_B', 'Gap_Ca', 'Gap_Cu', 'Gap_Fe', 'Gap_K', 'Gap_Mg', 'Gap_Mn', 'Gap_N', 'Gap_P', 'Gap_S', 'Gap_Zn']\n",
            "y shape: (7744, 11)\n"
          ]
        }
      ]
    },
    {
      "cell_type": "code",
      "source": [
        "for col in X.columns:\n",
        "  print(col)"
      ],
      "metadata": {
        "colab": {
          "base_uri": "https://localhost:8080/"
        },
        "id": "25kdqC6lZXiS",
        "outputId": "89e6958d-729a-482f-da1c-c40487c2d3d0"
      },
      "execution_count": 148,
      "outputs": [
        {
          "output_type": "stream",
          "name": "stdout",
          "text": [
            "lon\n",
            "lat\n",
            "pH\n",
            "alb\n",
            "bio1\n",
            "bio12\n",
            "bio15\n",
            "bio7\n",
            "bp\n",
            "cec20\n",
            "dows\n",
            "ecec20\n",
            "hp20\n",
            "ls\n",
            "lstd\n",
            "lstn\n",
            "mb1\n",
            "mb2\n",
            "mb3\n",
            "mb7\n",
            "mdem\n",
            "para\n",
            "parv\n",
            "ph20\n",
            "slope\n",
            "snd20\n",
            "soc20\n",
            "tim\n",
            "wp\n",
            "xhp20\n",
            "BulkDensity\n"
          ]
        }
      ]
    },
    {
      "cell_type": "code",
      "source": [],
      "metadata": {
        "id": "gtIy1U_a4IkF"
      },
      "execution_count": null,
      "outputs": []
    },
    {
      "cell_type": "code",
      "source": [],
      "metadata": {
        "id": "hmND4i8i4Ig8"
      },
      "execution_count": null,
      "outputs": []
    },
    {
      "cell_type": "code",
      "source": [],
      "metadata": {
        "id": "L6ClcTMX4IdB"
      },
      "execution_count": null,
      "outputs": []
    },
    {
      "cell_type": "markdown",
      "source": [
        "## Split the data into Traning, testing and validation sets"
      ],
      "metadata": {
        "id": "5AxoHZApzH6S"
      }
    },
    {
      "cell_type": "code",
      "source": [
        "from sklearn.model_selection import train_test_split\n",
        "\n",
        "X_train, X_val, y_train, y_val = train_test_split(\n",
        "    X, y, test_size=0.20, random_state=42\n",
        ")\n",
        "\n",
        "print(\"Training X:\", X_train.shape, \"Validation X:\", X_val.shape)\n",
        "print(\"Training y:\", y_train.shape, \"Validation y:\", y_val.shape)"
      ],
      "metadata": {
        "colab": {
          "base_uri": "https://localhost:8080/"
        },
        "id": "LI1fx4XFtsW8",
        "outputId": "f882f89e-8516-42d0-9c0c-48e83d2eded3"
      },
      "execution_count": 61,
      "outputs": [
        {
          "output_type": "stream",
          "name": "stdout",
          "text": [
            "Training X: (6195, 31) Validation X: (1549, 31)\n",
            "Training y: (6195, 11) Validation y: (1549, 11)\n"
          ]
        }
      ]
    },
    {
      "cell_type": "code",
      "source": [
        "from sklearn.ensemble import RandomForestRegressor\n",
        "from sklearn.multioutput import MultiOutputRegressor\n",
        "from sklearn.metrics import mean_squared_error\n",
        "import numpy as np\n",
        "\n",
        "# Instantiate a base regressor (e.g. RandomForest)\n",
        "base_rf = RandomForestRegressor(\n",
        "    n_estimators=100,\n",
        "    random_state=42,\n",
        "    n_jobs=-1\n",
        ")\n",
        "\n",
        "# Wrap it in MultiOutputRegressor\n",
        "multi_rf = MultiOutputRegressor(base_rf)\n",
        "\n",
        "# Fit on the training split\n",
        "multi_rf.fit(X_train, y_train)\n",
        "\n",
        "# Predict on validation split\n",
        "y_pred = multi_rf.predict(X_val)\n"
      ],
      "metadata": {
        "id": "rDgZ_8CNtsSv"
      },
      "execution_count": 62,
      "outputs": []
    },
    {
      "cell_type": "code",
      "source": [
        "y_pred.shape"
      ],
      "metadata": {
        "colab": {
          "base_uri": "https://localhost:8080/"
        },
        "id": "rawNk-oj1zfA",
        "outputId": "4ae281af-570c-4b3f-9441-8c16bb384459"
      },
      "execution_count": 63,
      "outputs": [
        {
          "output_type": "execute_result",
          "data": {
            "text/plain": [
              "(1549, 11)"
            ]
          },
          "metadata": {},
          "execution_count": 63
        }
      ]
    },
    {
      "cell_type": "code",
      "source": [
        "from sklearn.metrics import mean_squared_error\n",
        "import numpy as np\n",
        "\n",
        "# After you’ve trained and predicted (y_pred is shape [n_val, 11])\n",
        "\n",
        "for idx, nutrient in enumerate(y_train.columns):\n",
        "    mse = mean_squared_error(\n",
        "        y_val.iloc[:, idx],\n",
        "        y_pred[:, idx]\n",
        "    )\n",
        "    rmse = np.sqrt(mse)\n",
        "    print(f\"{nutrient}:   RMSE = {rmse:.3f}\")\n",
        "\n",
        "# Overall RMSE across all nutrient gaps:\n",
        "overall_mse = mean_squared_error(\n",
        "    y_val.values.flatten(),\n",
        "    y_pred.flatten()\n",
        ")\n",
        "overall_rmse = np.sqrt(overall_mse)\n",
        "print(f\"\\nOverall RMSE (all gaps combined): {overall_rmse:.3f}\")\n"
      ],
      "metadata": {
        "colab": {
          "base_uri": "https://localhost:8080/"
        },
        "id": "-A2MSQuPtsQf",
        "outputId": "b17ea840-d1a8-45b6-e094-67a068141e30"
      },
      "execution_count": 64,
      "outputs": [
        {
          "output_type": "stream",
          "name": "stdout",
          "text": [
            "Gap_B:   RMSE = 0.574\n",
            "Gap_Ca:   RMSE = 3844.033\n",
            "Gap_Cu:   RMSE = 12.753\n",
            "Gap_Fe:   RMSE = 104.669\n",
            "Gap_K:   RMSE = 505.897\n",
            "Gap_Mg:   RMSE = 852.630\n",
            "Gap_Mn:   RMSE = 135.136\n",
            "Gap_N:   RMSE = 1222.015\n",
            "Gap_P:   RMSE = 115.829\n",
            "Gap_S:   RMSE = 41.526\n",
            "Gap_Zn:   RMSE = 6.204\n",
            "\n",
            "Overall RMSE (all gaps combined): 1253.989\n"
          ]
        }
      ]
    },
    {
      "cell_type": "markdown",
      "source": [
        "#### Retrain on Full Data"
      ],
      "metadata": {
        "id": "ACWJITjo5qga"
      }
    },
    {
      "cell_type": "code",
      "source": [
        "# Pivot train_gap_df so each PID has one row and each nutrient has its own column\n",
        "gap_wide_test = test_gap_df.pivot(index=\"PID\", columns=\"Nutrient\", values=\"Required\")\n",
        "\n",
        "# Rename columns to make them clear as gap targets\n",
        "gap_wide_test.columns = [f\"Req_{col}\" for col in gap_wide_test.columns]\n",
        "\n",
        "# Reset index so PID is a column again (not the index)\n",
        "gap_wide_test = gap_wide_test.reset_index()\n",
        "\n",
        "# Merge gap values into train_df using PID\n",
        "merged_test_df = test_df.merge(gap_wide_test, on=\"PID\", how=\"left\")\n",
        "\n",
        "# Preview the result\n",
        "merged_test_df.head()"
      ],
      "metadata": {
        "colab": {
          "base_uri": "https://localhost:8080/",
          "height": 256
        },
        "id": "8LdAEhcUQoEP",
        "outputId": "0c587b81-3450-474a-b08b-2b95ac7e66f3"
      },
      "execution_count": 80,
      "outputs": [
        {
          "output_type": "execute_result",
          "data": {
            "text/plain": [
              "             site        PID        lon        lat    pH  alb  bio1  bio12  \\\n",
              "0  site_id_hgJpkz  ID_NGS9Bx  69.170794  44.522885  6.86  144   256    910   \n",
              "1  site_id_olmuI5  ID_YdVKXw  68.885265  44.741057  7.08  129   260    851   \n",
              "2  site_id_PTZdJz  ID_MZAlfE  68.970210  44.675777  6.50  142   259    901   \n",
              "3  site_id_DOTgr8  ID_GwCCMN  69.068751  44.647707  6.82  142   261    847   \n",
              "4  site_id_1rQNvy  ID_K8sowf  68.990002  44.577607  6.52  145   253   1109   \n",
              "\n",
              "   bio15  bio7  ...  Req_Ca  Req_Cu  Req_Fe  Req_K  Req_Mg  Req_Mn  Req_N  \\\n",
              "0    108   186  ...    12.0     0.2     0.8   52.0     8.0     0.4  100.0   \n",
              "1    110   187  ...    12.0     0.2     0.8   52.0     8.0     0.4  100.0   \n",
              "2    109   187  ...    12.0     0.2     0.8   52.0     8.0     0.4  100.0   \n",
              "3    109   187  ...    12.0     0.2     0.8   52.0     8.0     0.4  100.0   \n",
              "4    110   186  ...    12.0     0.2     0.8   52.0     8.0     0.4  100.0   \n",
              "\n",
              "   Req_P  Req_S  Req_Zn  \n",
              "0   40.0   12.0     0.4  \n",
              "1   40.0   12.0     0.4  \n",
              "2   40.0   12.0     0.4  \n",
              "3   40.0   12.0     0.4  \n",
              "4   40.0   12.0     0.4  \n",
              "\n",
              "[5 rows x 44 columns]"
            ],
            "text/html": [
              "\n",
              "  <div id=\"df-fda76140-8f5d-4e3b-8d7a-b331ab439287\" class=\"colab-df-container\">\n",
              "    <div>\n",
              "<style scoped>\n",
              "    .dataframe tbody tr th:only-of-type {\n",
              "        vertical-align: middle;\n",
              "    }\n",
              "\n",
              "    .dataframe tbody tr th {\n",
              "        vertical-align: top;\n",
              "    }\n",
              "\n",
              "    .dataframe thead th {\n",
              "        text-align: right;\n",
              "    }\n",
              "</style>\n",
              "<table border=\"1\" class=\"dataframe\">\n",
              "  <thead>\n",
              "    <tr style=\"text-align: right;\">\n",
              "      <th></th>\n",
              "      <th>site</th>\n",
              "      <th>PID</th>\n",
              "      <th>lon</th>\n",
              "      <th>lat</th>\n",
              "      <th>pH</th>\n",
              "      <th>alb</th>\n",
              "      <th>bio1</th>\n",
              "      <th>bio12</th>\n",
              "      <th>bio15</th>\n",
              "      <th>bio7</th>\n",
              "      <th>...</th>\n",
              "      <th>Req_Ca</th>\n",
              "      <th>Req_Cu</th>\n",
              "      <th>Req_Fe</th>\n",
              "      <th>Req_K</th>\n",
              "      <th>Req_Mg</th>\n",
              "      <th>Req_Mn</th>\n",
              "      <th>Req_N</th>\n",
              "      <th>Req_P</th>\n",
              "      <th>Req_S</th>\n",
              "      <th>Req_Zn</th>\n",
              "    </tr>\n",
              "  </thead>\n",
              "  <tbody>\n",
              "    <tr>\n",
              "      <th>0</th>\n",
              "      <td>site_id_hgJpkz</td>\n",
              "      <td>ID_NGS9Bx</td>\n",
              "      <td>69.170794</td>\n",
              "      <td>44.522885</td>\n",
              "      <td>6.86</td>\n",
              "      <td>144</td>\n",
              "      <td>256</td>\n",
              "      <td>910</td>\n",
              "      <td>108</td>\n",
              "      <td>186</td>\n",
              "      <td>...</td>\n",
              "      <td>12.0</td>\n",
              "      <td>0.2</td>\n",
              "      <td>0.8</td>\n",
              "      <td>52.0</td>\n",
              "      <td>8.0</td>\n",
              "      <td>0.4</td>\n",
              "      <td>100.0</td>\n",
              "      <td>40.0</td>\n",
              "      <td>12.0</td>\n",
              "      <td>0.4</td>\n",
              "    </tr>\n",
              "    <tr>\n",
              "      <th>1</th>\n",
              "      <td>site_id_olmuI5</td>\n",
              "      <td>ID_YdVKXw</td>\n",
              "      <td>68.885265</td>\n",
              "      <td>44.741057</td>\n",
              "      <td>7.08</td>\n",
              "      <td>129</td>\n",
              "      <td>260</td>\n",
              "      <td>851</td>\n",
              "      <td>110</td>\n",
              "      <td>187</td>\n",
              "      <td>...</td>\n",
              "      <td>12.0</td>\n",
              "      <td>0.2</td>\n",
              "      <td>0.8</td>\n",
              "      <td>52.0</td>\n",
              "      <td>8.0</td>\n",
              "      <td>0.4</td>\n",
              "      <td>100.0</td>\n",
              "      <td>40.0</td>\n",
              "      <td>12.0</td>\n",
              "      <td>0.4</td>\n",
              "    </tr>\n",
              "    <tr>\n",
              "      <th>2</th>\n",
              "      <td>site_id_PTZdJz</td>\n",
              "      <td>ID_MZAlfE</td>\n",
              "      <td>68.970210</td>\n",
              "      <td>44.675777</td>\n",
              "      <td>6.50</td>\n",
              "      <td>142</td>\n",
              "      <td>259</td>\n",
              "      <td>901</td>\n",
              "      <td>109</td>\n",
              "      <td>187</td>\n",
              "      <td>...</td>\n",
              "      <td>12.0</td>\n",
              "      <td>0.2</td>\n",
              "      <td>0.8</td>\n",
              "      <td>52.0</td>\n",
              "      <td>8.0</td>\n",
              "      <td>0.4</td>\n",
              "      <td>100.0</td>\n",
              "      <td>40.0</td>\n",
              "      <td>12.0</td>\n",
              "      <td>0.4</td>\n",
              "    </tr>\n",
              "    <tr>\n",
              "      <th>3</th>\n",
              "      <td>site_id_DOTgr8</td>\n",
              "      <td>ID_GwCCMN</td>\n",
              "      <td>69.068751</td>\n",
              "      <td>44.647707</td>\n",
              "      <td>6.82</td>\n",
              "      <td>142</td>\n",
              "      <td>261</td>\n",
              "      <td>847</td>\n",
              "      <td>109</td>\n",
              "      <td>187</td>\n",
              "      <td>...</td>\n",
              "      <td>12.0</td>\n",
              "      <td>0.2</td>\n",
              "      <td>0.8</td>\n",
              "      <td>52.0</td>\n",
              "      <td>8.0</td>\n",
              "      <td>0.4</td>\n",
              "      <td>100.0</td>\n",
              "      <td>40.0</td>\n",
              "      <td>12.0</td>\n",
              "      <td>0.4</td>\n",
              "    </tr>\n",
              "    <tr>\n",
              "      <th>4</th>\n",
              "      <td>site_id_1rQNvy</td>\n",
              "      <td>ID_K8sowf</td>\n",
              "      <td>68.990002</td>\n",
              "      <td>44.577607</td>\n",
              "      <td>6.52</td>\n",
              "      <td>145</td>\n",
              "      <td>253</td>\n",
              "      <td>1109</td>\n",
              "      <td>110</td>\n",
              "      <td>186</td>\n",
              "      <td>...</td>\n",
              "      <td>12.0</td>\n",
              "      <td>0.2</td>\n",
              "      <td>0.8</td>\n",
              "      <td>52.0</td>\n",
              "      <td>8.0</td>\n",
              "      <td>0.4</td>\n",
              "      <td>100.0</td>\n",
              "      <td>40.0</td>\n",
              "      <td>12.0</td>\n",
              "      <td>0.4</td>\n",
              "    </tr>\n",
              "  </tbody>\n",
              "</table>\n",
              "<p>5 rows × 44 columns</p>\n",
              "</div>\n",
              "    <div class=\"colab-df-buttons\">\n",
              "\n",
              "  <div class=\"colab-df-container\">\n",
              "    <button class=\"colab-df-convert\" onclick=\"convertToInteractive('df-fda76140-8f5d-4e3b-8d7a-b331ab439287')\"\n",
              "            title=\"Convert this dataframe to an interactive table.\"\n",
              "            style=\"display:none;\">\n",
              "\n",
              "  <svg xmlns=\"http://www.w3.org/2000/svg\" height=\"24px\" viewBox=\"0 -960 960 960\">\n",
              "    <path d=\"M120-120v-720h720v720H120Zm60-500h600v-160H180v160Zm220 220h160v-160H400v160Zm0 220h160v-160H400v160ZM180-400h160v-160H180v160Zm440 0h160v-160H620v160ZM180-180h160v-160H180v160Zm440 0h160v-160H620v160Z\"/>\n",
              "  </svg>\n",
              "    </button>\n",
              "\n",
              "  <style>\n",
              "    .colab-df-container {\n",
              "      display:flex;\n",
              "      gap: 12px;\n",
              "    }\n",
              "\n",
              "    .colab-df-convert {\n",
              "      background-color: #E8F0FE;\n",
              "      border: none;\n",
              "      border-radius: 50%;\n",
              "      cursor: pointer;\n",
              "      display: none;\n",
              "      fill: #1967D2;\n",
              "      height: 32px;\n",
              "      padding: 0 0 0 0;\n",
              "      width: 32px;\n",
              "    }\n",
              "\n",
              "    .colab-df-convert:hover {\n",
              "      background-color: #E2EBFA;\n",
              "      box-shadow: 0px 1px 2px rgba(60, 64, 67, 0.3), 0px 1px 3px 1px rgba(60, 64, 67, 0.15);\n",
              "      fill: #174EA6;\n",
              "    }\n",
              "\n",
              "    .colab-df-buttons div {\n",
              "      margin-bottom: 4px;\n",
              "    }\n",
              "\n",
              "    [theme=dark] .colab-df-convert {\n",
              "      background-color: #3B4455;\n",
              "      fill: #D2E3FC;\n",
              "    }\n",
              "\n",
              "    [theme=dark] .colab-df-convert:hover {\n",
              "      background-color: #434B5C;\n",
              "      box-shadow: 0px 1px 3px 1px rgba(0, 0, 0, 0.15);\n",
              "      filter: drop-shadow(0px 1px 2px rgba(0, 0, 0, 0.3));\n",
              "      fill: #FFFFFF;\n",
              "    }\n",
              "  </style>\n",
              "\n",
              "    <script>\n",
              "      const buttonEl =\n",
              "        document.querySelector('#df-fda76140-8f5d-4e3b-8d7a-b331ab439287 button.colab-df-convert');\n",
              "      buttonEl.style.display =\n",
              "        google.colab.kernel.accessAllowed ? 'block' : 'none';\n",
              "\n",
              "      async function convertToInteractive(key) {\n",
              "        const element = document.querySelector('#df-fda76140-8f5d-4e3b-8d7a-b331ab439287');\n",
              "        const dataTable =\n",
              "          await google.colab.kernel.invokeFunction('convertToInteractive',\n",
              "                                                    [key], {});\n",
              "        if (!dataTable) return;\n",
              "\n",
              "        const docLinkHtml = 'Like what you see? Visit the ' +\n",
              "          '<a target=\"_blank\" href=https://colab.research.google.com/notebooks/data_table.ipynb>data table notebook</a>'\n",
              "          + ' to learn more about interactive tables.';\n",
              "        element.innerHTML = '';\n",
              "        dataTable['output_type'] = 'display_data';\n",
              "        await google.colab.output.renderOutput(dataTable, element);\n",
              "        const docLink = document.createElement('div');\n",
              "        docLink.innerHTML = docLinkHtml;\n",
              "        element.appendChild(docLink);\n",
              "      }\n",
              "    </script>\n",
              "  </div>\n",
              "\n",
              "\n",
              "    <div id=\"df-cea41084-e1ea-4b48-bfa9-c24fa0ba94ce\">\n",
              "      <button class=\"colab-df-quickchart\" onclick=\"quickchart('df-cea41084-e1ea-4b48-bfa9-c24fa0ba94ce')\"\n",
              "                title=\"Suggest charts\"\n",
              "                style=\"display:none;\">\n",
              "\n",
              "<svg xmlns=\"http://www.w3.org/2000/svg\" height=\"24px\"viewBox=\"0 0 24 24\"\n",
              "     width=\"24px\">\n",
              "    <g>\n",
              "        <path d=\"M19 3H5c-1.1 0-2 .9-2 2v14c0 1.1.9 2 2 2h14c1.1 0 2-.9 2-2V5c0-1.1-.9-2-2-2zM9 17H7v-7h2v7zm4 0h-2V7h2v10zm4 0h-2v-4h2v4z\"/>\n",
              "    </g>\n",
              "</svg>\n",
              "      </button>\n",
              "\n",
              "<style>\n",
              "  .colab-df-quickchart {\n",
              "      --bg-color: #E8F0FE;\n",
              "      --fill-color: #1967D2;\n",
              "      --hover-bg-color: #E2EBFA;\n",
              "      --hover-fill-color: #174EA6;\n",
              "      --disabled-fill-color: #AAA;\n",
              "      --disabled-bg-color: #DDD;\n",
              "  }\n",
              "\n",
              "  [theme=dark] .colab-df-quickchart {\n",
              "      --bg-color: #3B4455;\n",
              "      --fill-color: #D2E3FC;\n",
              "      --hover-bg-color: #434B5C;\n",
              "      --hover-fill-color: #FFFFFF;\n",
              "      --disabled-bg-color: #3B4455;\n",
              "      --disabled-fill-color: #666;\n",
              "  }\n",
              "\n",
              "  .colab-df-quickchart {\n",
              "    background-color: var(--bg-color);\n",
              "    border: none;\n",
              "    border-radius: 50%;\n",
              "    cursor: pointer;\n",
              "    display: none;\n",
              "    fill: var(--fill-color);\n",
              "    height: 32px;\n",
              "    padding: 0;\n",
              "    width: 32px;\n",
              "  }\n",
              "\n",
              "  .colab-df-quickchart:hover {\n",
              "    background-color: var(--hover-bg-color);\n",
              "    box-shadow: 0 1px 2px rgba(60, 64, 67, 0.3), 0 1px 3px 1px rgba(60, 64, 67, 0.15);\n",
              "    fill: var(--button-hover-fill-color);\n",
              "  }\n",
              "\n",
              "  .colab-df-quickchart-complete:disabled,\n",
              "  .colab-df-quickchart-complete:disabled:hover {\n",
              "    background-color: var(--disabled-bg-color);\n",
              "    fill: var(--disabled-fill-color);\n",
              "    box-shadow: none;\n",
              "  }\n",
              "\n",
              "  .colab-df-spinner {\n",
              "    border: 2px solid var(--fill-color);\n",
              "    border-color: transparent;\n",
              "    border-bottom-color: var(--fill-color);\n",
              "    animation:\n",
              "      spin 1s steps(1) infinite;\n",
              "  }\n",
              "\n",
              "  @keyframes spin {\n",
              "    0% {\n",
              "      border-color: transparent;\n",
              "      border-bottom-color: var(--fill-color);\n",
              "      border-left-color: var(--fill-color);\n",
              "    }\n",
              "    20% {\n",
              "      border-color: transparent;\n",
              "      border-left-color: var(--fill-color);\n",
              "      border-top-color: var(--fill-color);\n",
              "    }\n",
              "    30% {\n",
              "      border-color: transparent;\n",
              "      border-left-color: var(--fill-color);\n",
              "      border-top-color: var(--fill-color);\n",
              "      border-right-color: var(--fill-color);\n",
              "    }\n",
              "    40% {\n",
              "      border-color: transparent;\n",
              "      border-right-color: var(--fill-color);\n",
              "      border-top-color: var(--fill-color);\n",
              "    }\n",
              "    60% {\n",
              "      border-color: transparent;\n",
              "      border-right-color: var(--fill-color);\n",
              "    }\n",
              "    80% {\n",
              "      border-color: transparent;\n",
              "      border-right-color: var(--fill-color);\n",
              "      border-bottom-color: var(--fill-color);\n",
              "    }\n",
              "    90% {\n",
              "      border-color: transparent;\n",
              "      border-bottom-color: var(--fill-color);\n",
              "    }\n",
              "  }\n",
              "</style>\n",
              "\n",
              "      <script>\n",
              "        async function quickchart(key) {\n",
              "          const quickchartButtonEl =\n",
              "            document.querySelector('#' + key + ' button');\n",
              "          quickchartButtonEl.disabled = true;  // To prevent multiple clicks.\n",
              "          quickchartButtonEl.classList.add('colab-df-spinner');\n",
              "          try {\n",
              "            const charts = await google.colab.kernel.invokeFunction(\n",
              "                'suggestCharts', [key], {});\n",
              "          } catch (error) {\n",
              "            console.error('Error during call to suggestCharts:', error);\n",
              "          }\n",
              "          quickchartButtonEl.classList.remove('colab-df-spinner');\n",
              "          quickchartButtonEl.classList.add('colab-df-quickchart-complete');\n",
              "        }\n",
              "        (() => {\n",
              "          let quickchartButtonEl =\n",
              "            document.querySelector('#df-cea41084-e1ea-4b48-bfa9-c24fa0ba94ce button');\n",
              "          quickchartButtonEl.style.display =\n",
              "            google.colab.kernel.accessAllowed ? 'block' : 'none';\n",
              "        })();\n",
              "      </script>\n",
              "    </div>\n",
              "\n",
              "    </div>\n",
              "  </div>\n"
            ],
            "application/vnd.google.colaboratory.intrinsic+json": {
              "type": "dataframe",
              "variable_name": "merged_test_df"
            }
          },
          "metadata": {},
          "execution_count": 80
        }
      ]
    },
    {
      "cell_type": "code",
      "source": [
        "# Drop non-feature columns\n",
        "drop_cols = [\n",
        "  'PID',\n",
        "  'site',\n",
        "  'Req_B',\n",
        "  'Req_Ca',\n",
        "  'Req_Cu',\n",
        "  'Req_Fe',\n",
        "  'Req_K',\n",
        "  'Req_Mg',\n",
        "  'Req_Mn',\n",
        "  'Req_N',\n",
        "  'Req_P',\n",
        "  'Req_S',\n",
        "  'Req_Zn'\n",
        "  ]\n",
        "new_test_data = merged_test_df.drop(columns=drop_cols)"
      ],
      "metadata": {
        "id": "zagpeA-7V2sV"
      },
      "execution_count": 118,
      "outputs": []
    },
    {
      "cell_type": "code",
      "source": [
        "new_test_data.shape"
      ],
      "metadata": {
        "colab": {
          "base_uri": "https://localhost:8080/"
        },
        "id": "6lEaDqjGV2hx",
        "outputId": "cd6c99e7-ab6d-447c-b71d-dda15be61eee"
      },
      "execution_count": 119,
      "outputs": [
        {
          "output_type": "execute_result",
          "data": {
            "text/plain": [
              "(2418, 31)"
            ]
          },
          "metadata": {},
          "execution_count": 119
        }
      ]
    },
    {
      "cell_type": "code",
      "source": [
        "for col in new_test_data.columns:\n",
        "  print(col)"
      ],
      "metadata": {
        "colab": {
          "base_uri": "https://localhost:8080/"
        },
        "id": "aPCWYvvJXdNg",
        "outputId": "96d882f5-856b-4e2e-ad48-cde444ae3ab2"
      },
      "execution_count": 105,
      "outputs": [
        {
          "output_type": "stream",
          "name": "stdout",
          "text": [
            "lon\n",
            "lat\n",
            "pH\n",
            "alb\n",
            "bio1\n",
            "bio12\n",
            "bio15\n",
            "bio7\n",
            "bp\n",
            "cec20\n",
            "dows\n",
            "ecec20\n",
            "hp20\n",
            "ls\n",
            "lstd\n",
            "lstn\n",
            "mb1\n",
            "mb2\n",
            "mb3\n",
            "mb7\n",
            "mdem\n",
            "para\n",
            "parv\n",
            "ph20\n",
            "slope\n",
            "snd20\n",
            "soc20\n",
            "tim\n",
            "wp\n",
            "xhp20\n",
            "BulkDensity\n"
          ]
        }
      ]
    },
    {
      "cell_type": "code",
      "source": [
        "X = merged_test_df\n",
        "y = merged_test_df[['Req_B',\n",
        "  'Req_Ca',\n",
        "  'Req_Cu',\n",
        "  'Req_Fe',\n",
        "  'Req_K',\n",
        "  'Req_Mg',\n",
        "  'Req_Mn',\n",
        "  'Req_N',\n",
        "  'Req_P',\n",
        "  'Req_S',\n",
        "  'Req_Zn']]"
      ],
      "metadata": {
        "id": "1RKV_8KJcis-"
      },
      "execution_count": 131,
      "outputs": []
    },
    {
      "cell_type": "code",
      "source": [
        "X.shape, y.shape"
      ],
      "metadata": {
        "colab": {
          "base_uri": "https://localhost:8080/"
        },
        "id": "KHkgvOiLdCeJ",
        "outputId": "7c713e4a-73d1-42e8-b5f8-6cdb7a4a621c"
      },
      "execution_count": 132,
      "outputs": [
        {
          "output_type": "execute_result",
          "data": {
            "text/plain": [
              "((2418, 44), (2418, 11))"
            ]
          },
          "metadata": {},
          "execution_count": 132
        }
      ]
    },
    {
      "cell_type": "code",
      "source": [
        "preds_full = multi_rf_full.predict(X)\n",
        "preds_full.shape"
      ],
      "metadata": {
        "colab": {
          "base_uri": "https://localhost:8080/"
        },
        "id": "V47RMQNz5pv_",
        "outputId": "4db0ee19-a65c-4ef3-9ce5-c7e48696031f"
      },
      "execution_count": 127,
      "outputs": [
        {
          "output_type": "execute_result",
          "data": {
            "text/plain": [
              "(7744, 11)"
            ]
          },
          "metadata": {},
          "execution_count": 127
        }
      ]
    },
    {
      "cell_type": "code",
      "source": [
        "# Build a long‐format DataFrame of predictions\n",
        "all_preds = []\n",
        "for idx, nutrient in enumerate(y.columns):\n",
        "    df_sub = pd.DataFrame({\n",
        "        'PID': merged_test_df['PID'],\n",
        "        'Nutrient': nutrient.replace('Req_', ''),\n",
        "        'Gap': preds_full[:, idx]\n",
        "    })\n",
        "    all_preds.append(df_sub)\n",
        "\n",
        "SampleSubmission = pd.concat(all_preds, axis=0)\n",
        "SampleSubmission['PID'] = SampleSubmission['PID'].astype(str) + '_' + SampleSubmission['Nutrient']\n",
        "SampleSubmission = SampleSubmission[['PID', 'Gap']]\n",
        "SampleSubmission.to_csv('SampleSubmission.csv', index=False)\n",
        "print(\"✅ SampleSubmission.csv created (shape:\", SampleSubmission.shape, \")\")\n"
      ],
      "metadata": {
        "colab": {
          "base_uri": "https://localhost:8080/",
          "height": 356
        },
        "id": "UetLLAj25pt6",
        "outputId": "5c0cb83b-a851-486e-df45-3809ce9418b4"
      },
      "execution_count": 129,
      "outputs": [
        {
          "output_type": "error",
          "ename": "ValueError",
          "evalue": "array length 7744 does not match index length 2418",
          "traceback": [
            "\u001b[0;31m---------------------------------------------------------------------------\u001b[0m",
            "\u001b[0;31mValueError\u001b[0m                                Traceback (most recent call last)",
            "\u001b[0;32m<ipython-input-129-b016117a7efa>\u001b[0m in \u001b[0;36m<cell line: 0>\u001b[0;34m()\u001b[0m\n\u001b[1;32m      2\u001b[0m \u001b[0mall_preds\u001b[0m \u001b[0;34m=\u001b[0m \u001b[0;34m[\u001b[0m\u001b[0;34m]\u001b[0m\u001b[0;34m\u001b[0m\u001b[0;34m\u001b[0m\u001b[0m\n\u001b[1;32m      3\u001b[0m \u001b[0;32mfor\u001b[0m \u001b[0midx\u001b[0m\u001b[0;34m,\u001b[0m \u001b[0mnutrient\u001b[0m \u001b[0;32min\u001b[0m \u001b[0menumerate\u001b[0m\u001b[0;34m(\u001b[0m\u001b[0my\u001b[0m\u001b[0;34m.\u001b[0m\u001b[0mcolumns\u001b[0m\u001b[0;34m)\u001b[0m\u001b[0;34m:\u001b[0m\u001b[0;34m\u001b[0m\u001b[0;34m\u001b[0m\u001b[0m\n\u001b[0;32m----> 4\u001b[0;31m     df_sub = pd.DataFrame({\n\u001b[0m\u001b[1;32m      5\u001b[0m         \u001b[0;34m'PID'\u001b[0m\u001b[0;34m:\u001b[0m \u001b[0mmerged_test_df\u001b[0m\u001b[0;34m[\u001b[0m\u001b[0;34m'PID'\u001b[0m\u001b[0;34m]\u001b[0m\u001b[0;34m,\u001b[0m\u001b[0;34m\u001b[0m\u001b[0;34m\u001b[0m\u001b[0m\n\u001b[1;32m      6\u001b[0m         \u001b[0;34m'Nutrient'\u001b[0m\u001b[0;34m:\u001b[0m \u001b[0mnutrient\u001b[0m\u001b[0;34m.\u001b[0m\u001b[0mreplace\u001b[0m\u001b[0;34m(\u001b[0m\u001b[0;34m'Req_'\u001b[0m\u001b[0;34m,\u001b[0m \u001b[0;34m''\u001b[0m\u001b[0;34m)\u001b[0m\u001b[0;34m,\u001b[0m\u001b[0;34m\u001b[0m\u001b[0;34m\u001b[0m\u001b[0m\n",
            "\u001b[0;32m/usr/local/lib/python3.11/dist-packages/pandas/core/frame.py\u001b[0m in \u001b[0;36m__init__\u001b[0;34m(self, data, index, columns, dtype, copy)\u001b[0m\n\u001b[1;32m    776\u001b[0m         \u001b[0;32melif\u001b[0m \u001b[0misinstance\u001b[0m\u001b[0;34m(\u001b[0m\u001b[0mdata\u001b[0m\u001b[0;34m,\u001b[0m \u001b[0mdict\u001b[0m\u001b[0;34m)\u001b[0m\u001b[0;34m:\u001b[0m\u001b[0;34m\u001b[0m\u001b[0;34m\u001b[0m\u001b[0m\n\u001b[1;32m    777\u001b[0m             \u001b[0;31m# GH#38939 de facto copy defaults to False only in non-dict cases\u001b[0m\u001b[0;34m\u001b[0m\u001b[0;34m\u001b[0m\u001b[0m\n\u001b[0;32m--> 778\u001b[0;31m             \u001b[0mmgr\u001b[0m \u001b[0;34m=\u001b[0m \u001b[0mdict_to_mgr\u001b[0m\u001b[0;34m(\u001b[0m\u001b[0mdata\u001b[0m\u001b[0;34m,\u001b[0m \u001b[0mindex\u001b[0m\u001b[0;34m,\u001b[0m \u001b[0mcolumns\u001b[0m\u001b[0;34m,\u001b[0m \u001b[0mdtype\u001b[0m\u001b[0;34m=\u001b[0m\u001b[0mdtype\u001b[0m\u001b[0;34m,\u001b[0m \u001b[0mcopy\u001b[0m\u001b[0;34m=\u001b[0m\u001b[0mcopy\u001b[0m\u001b[0;34m,\u001b[0m \u001b[0mtyp\u001b[0m\u001b[0;34m=\u001b[0m\u001b[0mmanager\u001b[0m\u001b[0;34m)\u001b[0m\u001b[0;34m\u001b[0m\u001b[0;34m\u001b[0m\u001b[0m\n\u001b[0m\u001b[1;32m    779\u001b[0m         \u001b[0;32melif\u001b[0m \u001b[0misinstance\u001b[0m\u001b[0;34m(\u001b[0m\u001b[0mdata\u001b[0m\u001b[0;34m,\u001b[0m \u001b[0mma\u001b[0m\u001b[0;34m.\u001b[0m\u001b[0mMaskedArray\u001b[0m\u001b[0;34m)\u001b[0m\u001b[0;34m:\u001b[0m\u001b[0;34m\u001b[0m\u001b[0;34m\u001b[0m\u001b[0m\n\u001b[1;32m    780\u001b[0m             \u001b[0;32mfrom\u001b[0m \u001b[0mnumpy\u001b[0m\u001b[0;34m.\u001b[0m\u001b[0mma\u001b[0m \u001b[0;32mimport\u001b[0m \u001b[0mmrecords\u001b[0m\u001b[0;34m\u001b[0m\u001b[0;34m\u001b[0m\u001b[0m\n",
            "\u001b[0;32m/usr/local/lib/python3.11/dist-packages/pandas/core/internals/construction.py\u001b[0m in \u001b[0;36mdict_to_mgr\u001b[0;34m(data, index, columns, dtype, typ, copy)\u001b[0m\n\u001b[1;32m    501\u001b[0m             \u001b[0marrays\u001b[0m \u001b[0;34m=\u001b[0m \u001b[0;34m[\u001b[0m\u001b[0mx\u001b[0m\u001b[0;34m.\u001b[0m\u001b[0mcopy\u001b[0m\u001b[0;34m(\u001b[0m\u001b[0;34m)\u001b[0m \u001b[0;32mif\u001b[0m \u001b[0mhasattr\u001b[0m\u001b[0;34m(\u001b[0m\u001b[0mx\u001b[0m\u001b[0;34m,\u001b[0m \u001b[0;34m\"dtype\"\u001b[0m\u001b[0;34m)\u001b[0m \u001b[0;32melse\u001b[0m \u001b[0mx\u001b[0m \u001b[0;32mfor\u001b[0m \u001b[0mx\u001b[0m \u001b[0;32min\u001b[0m \u001b[0marrays\u001b[0m\u001b[0;34m]\u001b[0m\u001b[0;34m\u001b[0m\u001b[0;34m\u001b[0m\u001b[0m\n\u001b[1;32m    502\u001b[0m \u001b[0;34m\u001b[0m\u001b[0m\n\u001b[0;32m--> 503\u001b[0;31m     \u001b[0;32mreturn\u001b[0m \u001b[0marrays_to_mgr\u001b[0m\u001b[0;34m(\u001b[0m\u001b[0marrays\u001b[0m\u001b[0;34m,\u001b[0m \u001b[0mcolumns\u001b[0m\u001b[0;34m,\u001b[0m \u001b[0mindex\u001b[0m\u001b[0;34m,\u001b[0m \u001b[0mdtype\u001b[0m\u001b[0;34m=\u001b[0m\u001b[0mdtype\u001b[0m\u001b[0;34m,\u001b[0m \u001b[0mtyp\u001b[0m\u001b[0;34m=\u001b[0m\u001b[0mtyp\u001b[0m\u001b[0;34m,\u001b[0m \u001b[0mconsolidate\u001b[0m\u001b[0;34m=\u001b[0m\u001b[0mcopy\u001b[0m\u001b[0;34m)\u001b[0m\u001b[0;34m\u001b[0m\u001b[0;34m\u001b[0m\u001b[0m\n\u001b[0m\u001b[1;32m    504\u001b[0m \u001b[0;34m\u001b[0m\u001b[0m\n\u001b[1;32m    505\u001b[0m \u001b[0;34m\u001b[0m\u001b[0m\n",
            "\u001b[0;32m/usr/local/lib/python3.11/dist-packages/pandas/core/internals/construction.py\u001b[0m in \u001b[0;36marrays_to_mgr\u001b[0;34m(arrays, columns, index, dtype, verify_integrity, typ, consolidate)\u001b[0m\n\u001b[1;32m    112\u001b[0m         \u001b[0;31m# figure out the index, if necessary\u001b[0m\u001b[0;34m\u001b[0m\u001b[0;34m\u001b[0m\u001b[0m\n\u001b[1;32m    113\u001b[0m         \u001b[0;32mif\u001b[0m \u001b[0mindex\u001b[0m \u001b[0;32mis\u001b[0m \u001b[0;32mNone\u001b[0m\u001b[0;34m:\u001b[0m\u001b[0;34m\u001b[0m\u001b[0;34m\u001b[0m\u001b[0m\n\u001b[0;32m--> 114\u001b[0;31m             \u001b[0mindex\u001b[0m \u001b[0;34m=\u001b[0m \u001b[0m_extract_index\u001b[0m\u001b[0;34m(\u001b[0m\u001b[0marrays\u001b[0m\u001b[0;34m)\u001b[0m\u001b[0;34m\u001b[0m\u001b[0;34m\u001b[0m\u001b[0m\n\u001b[0m\u001b[1;32m    115\u001b[0m         \u001b[0;32melse\u001b[0m\u001b[0;34m:\u001b[0m\u001b[0;34m\u001b[0m\u001b[0;34m\u001b[0m\u001b[0m\n\u001b[1;32m    116\u001b[0m             \u001b[0mindex\u001b[0m \u001b[0;34m=\u001b[0m \u001b[0mensure_index\u001b[0m\u001b[0;34m(\u001b[0m\u001b[0mindex\u001b[0m\u001b[0;34m)\u001b[0m\u001b[0;34m\u001b[0m\u001b[0;34m\u001b[0m\u001b[0m\n",
            "\u001b[0;32m/usr/local/lib/python3.11/dist-packages/pandas/core/internals/construction.py\u001b[0m in \u001b[0;36m_extract_index\u001b[0;34m(data)\u001b[0m\n\u001b[1;32m    688\u001b[0m                     \u001b[0;34mf\"length {len(index)}\"\u001b[0m\u001b[0;34m\u001b[0m\u001b[0;34m\u001b[0m\u001b[0m\n\u001b[1;32m    689\u001b[0m                 )\n\u001b[0;32m--> 690\u001b[0;31m                 \u001b[0;32mraise\u001b[0m \u001b[0mValueError\u001b[0m\u001b[0;34m(\u001b[0m\u001b[0mmsg\u001b[0m\u001b[0;34m)\u001b[0m\u001b[0;34m\u001b[0m\u001b[0;34m\u001b[0m\u001b[0m\n\u001b[0m\u001b[1;32m    691\u001b[0m         \u001b[0;32melse\u001b[0m\u001b[0;34m:\u001b[0m\u001b[0;34m\u001b[0m\u001b[0;34m\u001b[0m\u001b[0m\n\u001b[1;32m    692\u001b[0m             \u001b[0mindex\u001b[0m \u001b[0;34m=\u001b[0m \u001b[0mdefault_index\u001b[0m\u001b[0;34m(\u001b[0m\u001b[0mlengths\u001b[0m\u001b[0;34m[\u001b[0m\u001b[0;36m0\u001b[0m\u001b[0;34m]\u001b[0m\u001b[0;34m)\u001b[0m\u001b[0;34m\u001b[0m\u001b[0;34m\u001b[0m\u001b[0m\n",
            "\u001b[0;31mValueError\u001b[0m: array length 7744 does not match index length 2418"
          ]
        }
      ]
    },
    {
      "cell_type": "code",
      "source": [
        "merged_test_df.shape"
      ],
      "metadata": {
        "colab": {
          "base_uri": "https://localhost:8080/"
        },
        "id": "1JVPlEaKpjYC",
        "outputId": "c5a58842-212c-4595-f1b8-1617609b6da6"
      },
      "execution_count": 130,
      "outputs": [
        {
          "output_type": "execute_result",
          "data": {
            "text/plain": [
              "(2418, 44)"
            ]
          },
          "metadata": {},
          "execution_count": 130
        }
      ]
    },
    {
      "cell_type": "code",
      "source": [
        "sub_data = pd.read_csv('SampleSubmission.csv')"
      ],
      "metadata": {
        "id": "I6WRlhYk5pp8"
      },
      "execution_count": 122,
      "outputs": []
    },
    {
      "cell_type": "code",
      "source": [
        "for col in sub_data.columns:\n",
        "  print(col)"
      ],
      "metadata": {
        "colab": {
          "base_uri": "https://localhost:8080/"
        },
        "id": "0VytMiSB5pnk",
        "outputId": "c2e6253d-2170-425a-94fe-1eb8ef125820"
      },
      "execution_count": 123,
      "outputs": [
        {
          "output_type": "stream",
          "name": "stdout",
          "text": [
            "PID\n",
            "Gap\n"
          ]
        }
      ]
    },
    {
      "cell_type": "code",
      "source": [
        "sub_data.shape"
      ],
      "metadata": {
        "colab": {
          "base_uri": "https://localhost:8080/"
        },
        "id": "Y-wwQij_tsKU",
        "outputId": "317a764a-4b9a-4ed1-bf47-592ec1ff071c"
      },
      "execution_count": 124,
      "outputs": [
        {
          "output_type": "execute_result",
          "data": {
            "text/plain": [
              "(26598, 2)"
            ]
          },
          "metadata": {},
          "execution_count": 124
        }
      ]
    }
  ]
}